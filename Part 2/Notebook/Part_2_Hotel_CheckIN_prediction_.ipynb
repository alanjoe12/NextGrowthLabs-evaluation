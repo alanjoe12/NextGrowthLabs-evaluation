{
  "nbformat": 4,
  "nbformat_minor": 0,
  "metadata": {
    "colab": {
      "name": "Part 2 - Hotel CheckIN prediction .ipynb",
      "provenance": [],
      "collapsed_sections": []
    },
    "kernelspec": {
      "name": "python3",
      "display_name": "Python 3"
    },
    "language_info": {
      "name": "python"
    }
  },
  "cells": [
    {
      "cell_type": "markdown",
      "source": [
        "<h1>Hotel Check-in Prediction"
      ],
      "metadata": {
        "id": "6jKwJuMpJMZc"
      }
    },
    {
      "cell_type": "markdown",
      "source": [
        "<h1>Name - Alan Joe Anil"
      ],
      "metadata": {
        "id": "YvJRKoO0JnXS"
      }
    },
    {
      "cell_type": "markdown",
      "source": [
        "<h2>Evaluation for Junior Data Scientist at NextGrowthLabs Pvt Ltd"
      ],
      "metadata": {
        "id": "dxxeYCbtJsSm"
      }
    },
    {
      "cell_type": "markdown",
      "source": [
        "<h4>Import Libraries"
      ],
      "metadata": {
        "id": "Dj_q2iRLKLkX"
      }
    },
    {
      "cell_type": "code",
      "execution_count": 1,
      "metadata": {
        "id": "vQE4sbOQD7qL"
      },
      "outputs": [],
      "source": [
        "import pandas as pd\n",
        "import numpy as np\n",
        "import matplotlib.pyplot as plt\n",
        "import seaborn as sns\n",
        "%matplotlib inline\n",
        "import warnings\n",
        "warnings.filterwarnings('ignore')"
      ]
    },
    {
      "cell_type": "markdown",
      "source": [
        "<h4>Read CSV file"
      ],
      "metadata": {
        "id": "OIyEEB2nKJ9I"
      }
    },
    {
      "cell_type": "code",
      "source": [
        "train = pd.read_csv(\"/content/drive/MyDrive/col/hotel_booking/train_data_evaluation_part_2.csv\")\n",
        "test = pd.read_csv(\"/content/drive/MyDrive/col/hotel_booking/test_data_evaluation_part2.csv\")"
      ],
      "metadata": {
        "id": "ja_QlnGkFdJi"
      },
      "execution_count": 2,
      "outputs": []
    },
    {
      "cell_type": "code",
      "source": [
        "print(train.shape, test.shape)"
      ],
      "metadata": {
        "colab": {
          "base_uri": "https://localhost:8080/"
        },
        "id": "zag5DgDGRoQi",
        "outputId": "8f78c600-a86a-45c8-c618-f1bf598d0e5d"
      },
      "execution_count": 3,
      "outputs": [
        {
          "output_type": "stream",
          "name": "stdout",
          "text": [
            "(82580, 30) (1000, 30)\n"
          ]
        }
      ]
    },
    {
      "cell_type": "markdown",
      "source": [
        "<h4>Combine test and train into one file"
      ],
      "metadata": {
        "id": "XJq3OxdLKnSv"
      }
    },
    {
      "cell_type": "code",
      "source": [
        "train['source']='train'\n",
        "test['source']='test'\n",
        "data = pd.concat([train, test],ignore_index=True)\n",
        "print(train.shape, test.shape, data.shape)"
      ],
      "metadata": {
        "colab": {
          "base_uri": "https://localhost:8080/"
        },
        "id": "V-_Lrrt9RoV1",
        "outputId": "30fb5013-bf1f-4318-ad9b-d5bd9864411c"
      },
      "execution_count": 4,
      "outputs": [
        {
          "output_type": "stream",
          "name": "stdout",
          "text": [
            "(82580, 31) (1000, 31) (83580, 31)\n"
          ]
        }
      ]
    },
    {
      "cell_type": "code",
      "source": [
        "data.head()"
      ],
      "metadata": {
        "colab": {
          "base_uri": "https://localhost:8080/",
          "height": 317
        },
        "id": "ZdPahs8REvX-",
        "outputId": "304145e0-5194-4d5d-89be-4f709059c1d2"
      },
      "execution_count": 5,
      "outputs": [
        {
          "output_type": "execute_result",
          "data": {
            "text/plain": [
              "   Unnamed: 0  ID Nationality   Age  DaysSinceCreation  AverageLeadTime  \\\n",
              "0           0   1         PRT  51.0                150               45   \n",
              "1           1   2         PRT   NaN               1095               61   \n",
              "2           2   3         DEU  31.0               1095                0   \n",
              "3           3   4         FRA  60.0               1095               93   \n",
              "4           4   5         FRA  51.0               1095                0   \n",
              "\n",
              "   LodgingRevenue  OtherRevenue  BookingsCanceled  BookingsNoShowed  ...  \\\n",
              "0           371.0         105.3                 1                 0  ...   \n",
              "1           280.0          53.0                 0                 0  ...   \n",
              "2             0.0           0.0                 0                 0  ...   \n",
              "3           240.0          60.0                 0                 0  ...   \n",
              "4             0.0           0.0                 0                 0  ...   \n",
              "\n",
              "   SRBathtub  SRShower  SRCrib  SRKingSizeBed  SRTwinBed SRNearElevator  \\\n",
              "0          0         0       0              0          0              0   \n",
              "1          0         0       0              0          0              0   \n",
              "2          0         0       0              0          0              0   \n",
              "3          0         0       0              0          0              0   \n",
              "4          0         0       0              0          0              0   \n",
              "\n",
              "  SRAwayFromElevator  SRNoAlcoholInMiniBar  SRQuietRoom  source  \n",
              "0                  0                     0            0   train  \n",
              "1                  0                     0            0   train  \n",
              "2                  0                     0            0   train  \n",
              "3                  0                     0            0   train  \n",
              "4                  0                     0            0   train  \n",
              "\n",
              "[5 rows x 31 columns]"
            ],
            "text/html": [
              "\n",
              "  <div id=\"df-78266414-e49a-4f27-bbec-d1069cab6e8b\">\n",
              "    <div class=\"colab-df-container\">\n",
              "      <div>\n",
              "<style scoped>\n",
              "    .dataframe tbody tr th:only-of-type {\n",
              "        vertical-align: middle;\n",
              "    }\n",
              "\n",
              "    .dataframe tbody tr th {\n",
              "        vertical-align: top;\n",
              "    }\n",
              "\n",
              "    .dataframe thead th {\n",
              "        text-align: right;\n",
              "    }\n",
              "</style>\n",
              "<table border=\"1\" class=\"dataframe\">\n",
              "  <thead>\n",
              "    <tr style=\"text-align: right;\">\n",
              "      <th></th>\n",
              "      <th>Unnamed: 0</th>\n",
              "      <th>ID</th>\n",
              "      <th>Nationality</th>\n",
              "      <th>Age</th>\n",
              "      <th>DaysSinceCreation</th>\n",
              "      <th>AverageLeadTime</th>\n",
              "      <th>LodgingRevenue</th>\n",
              "      <th>OtherRevenue</th>\n",
              "      <th>BookingsCanceled</th>\n",
              "      <th>BookingsNoShowed</th>\n",
              "      <th>...</th>\n",
              "      <th>SRBathtub</th>\n",
              "      <th>SRShower</th>\n",
              "      <th>SRCrib</th>\n",
              "      <th>SRKingSizeBed</th>\n",
              "      <th>SRTwinBed</th>\n",
              "      <th>SRNearElevator</th>\n",
              "      <th>SRAwayFromElevator</th>\n",
              "      <th>SRNoAlcoholInMiniBar</th>\n",
              "      <th>SRQuietRoom</th>\n",
              "      <th>source</th>\n",
              "    </tr>\n",
              "  </thead>\n",
              "  <tbody>\n",
              "    <tr>\n",
              "      <th>0</th>\n",
              "      <td>0</td>\n",
              "      <td>1</td>\n",
              "      <td>PRT</td>\n",
              "      <td>51.0</td>\n",
              "      <td>150</td>\n",
              "      <td>45</td>\n",
              "      <td>371.0</td>\n",
              "      <td>105.3</td>\n",
              "      <td>1</td>\n",
              "      <td>0</td>\n",
              "      <td>...</td>\n",
              "      <td>0</td>\n",
              "      <td>0</td>\n",
              "      <td>0</td>\n",
              "      <td>0</td>\n",
              "      <td>0</td>\n",
              "      <td>0</td>\n",
              "      <td>0</td>\n",
              "      <td>0</td>\n",
              "      <td>0</td>\n",
              "      <td>train</td>\n",
              "    </tr>\n",
              "    <tr>\n",
              "      <th>1</th>\n",
              "      <td>1</td>\n",
              "      <td>2</td>\n",
              "      <td>PRT</td>\n",
              "      <td>NaN</td>\n",
              "      <td>1095</td>\n",
              "      <td>61</td>\n",
              "      <td>280.0</td>\n",
              "      <td>53.0</td>\n",
              "      <td>0</td>\n",
              "      <td>0</td>\n",
              "      <td>...</td>\n",
              "      <td>0</td>\n",
              "      <td>0</td>\n",
              "      <td>0</td>\n",
              "      <td>0</td>\n",
              "      <td>0</td>\n",
              "      <td>0</td>\n",
              "      <td>0</td>\n",
              "      <td>0</td>\n",
              "      <td>0</td>\n",
              "      <td>train</td>\n",
              "    </tr>\n",
              "    <tr>\n",
              "      <th>2</th>\n",
              "      <td>2</td>\n",
              "      <td>3</td>\n",
              "      <td>DEU</td>\n",
              "      <td>31.0</td>\n",
              "      <td>1095</td>\n",
              "      <td>0</td>\n",
              "      <td>0.0</td>\n",
              "      <td>0.0</td>\n",
              "      <td>0</td>\n",
              "      <td>0</td>\n",
              "      <td>...</td>\n",
              "      <td>0</td>\n",
              "      <td>0</td>\n",
              "      <td>0</td>\n",
              "      <td>0</td>\n",
              "      <td>0</td>\n",
              "      <td>0</td>\n",
              "      <td>0</td>\n",
              "      <td>0</td>\n",
              "      <td>0</td>\n",
              "      <td>train</td>\n",
              "    </tr>\n",
              "    <tr>\n",
              "      <th>3</th>\n",
              "      <td>3</td>\n",
              "      <td>4</td>\n",
              "      <td>FRA</td>\n",
              "      <td>60.0</td>\n",
              "      <td>1095</td>\n",
              "      <td>93</td>\n",
              "      <td>240.0</td>\n",
              "      <td>60.0</td>\n",
              "      <td>0</td>\n",
              "      <td>0</td>\n",
              "      <td>...</td>\n",
              "      <td>0</td>\n",
              "      <td>0</td>\n",
              "      <td>0</td>\n",
              "      <td>0</td>\n",
              "      <td>0</td>\n",
              "      <td>0</td>\n",
              "      <td>0</td>\n",
              "      <td>0</td>\n",
              "      <td>0</td>\n",
              "      <td>train</td>\n",
              "    </tr>\n",
              "    <tr>\n",
              "      <th>4</th>\n",
              "      <td>4</td>\n",
              "      <td>5</td>\n",
              "      <td>FRA</td>\n",
              "      <td>51.0</td>\n",
              "      <td>1095</td>\n",
              "      <td>0</td>\n",
              "      <td>0.0</td>\n",
              "      <td>0.0</td>\n",
              "      <td>0</td>\n",
              "      <td>0</td>\n",
              "      <td>...</td>\n",
              "      <td>0</td>\n",
              "      <td>0</td>\n",
              "      <td>0</td>\n",
              "      <td>0</td>\n",
              "      <td>0</td>\n",
              "      <td>0</td>\n",
              "      <td>0</td>\n",
              "      <td>0</td>\n",
              "      <td>0</td>\n",
              "      <td>train</td>\n",
              "    </tr>\n",
              "  </tbody>\n",
              "</table>\n",
              "<p>5 rows × 31 columns</p>\n",
              "</div>\n",
              "      <button class=\"colab-df-convert\" onclick=\"convertToInteractive('df-78266414-e49a-4f27-bbec-d1069cab6e8b')\"\n",
              "              title=\"Convert this dataframe to an interactive table.\"\n",
              "              style=\"display:none;\">\n",
              "        \n",
              "  <svg xmlns=\"http://www.w3.org/2000/svg\" height=\"24px\"viewBox=\"0 0 24 24\"\n",
              "       width=\"24px\">\n",
              "    <path d=\"M0 0h24v24H0V0z\" fill=\"none\"/>\n",
              "    <path d=\"M18.56 5.44l.94 2.06.94-2.06 2.06-.94-2.06-.94-.94-2.06-.94 2.06-2.06.94zm-11 1L8.5 8.5l.94-2.06 2.06-.94-2.06-.94L8.5 2.5l-.94 2.06-2.06.94zm10 10l.94 2.06.94-2.06 2.06-.94-2.06-.94-.94-2.06-.94 2.06-2.06.94z\"/><path d=\"M17.41 7.96l-1.37-1.37c-.4-.4-.92-.59-1.43-.59-.52 0-1.04.2-1.43.59L10.3 9.45l-7.72 7.72c-.78.78-.78 2.05 0 2.83L4 21.41c.39.39.9.59 1.41.59.51 0 1.02-.2 1.41-.59l7.78-7.78 2.81-2.81c.8-.78.8-2.07 0-2.86zM5.41 20L4 18.59l7.72-7.72 1.47 1.35L5.41 20z\"/>\n",
              "  </svg>\n",
              "      </button>\n",
              "      \n",
              "  <style>\n",
              "    .colab-df-container {\n",
              "      display:flex;\n",
              "      flex-wrap:wrap;\n",
              "      gap: 12px;\n",
              "    }\n",
              "\n",
              "    .colab-df-convert {\n",
              "      background-color: #E8F0FE;\n",
              "      border: none;\n",
              "      border-radius: 50%;\n",
              "      cursor: pointer;\n",
              "      display: none;\n",
              "      fill: #1967D2;\n",
              "      height: 32px;\n",
              "      padding: 0 0 0 0;\n",
              "      width: 32px;\n",
              "    }\n",
              "\n",
              "    .colab-df-convert:hover {\n",
              "      background-color: #E2EBFA;\n",
              "      box-shadow: 0px 1px 2px rgba(60, 64, 67, 0.3), 0px 1px 3px 1px rgba(60, 64, 67, 0.15);\n",
              "      fill: #174EA6;\n",
              "    }\n",
              "\n",
              "    [theme=dark] .colab-df-convert {\n",
              "      background-color: #3B4455;\n",
              "      fill: #D2E3FC;\n",
              "    }\n",
              "\n",
              "    [theme=dark] .colab-df-convert:hover {\n",
              "      background-color: #434B5C;\n",
              "      box-shadow: 0px 1px 3px 1px rgba(0, 0, 0, 0.15);\n",
              "      filter: drop-shadow(0px 1px 2px rgba(0, 0, 0, 0.3));\n",
              "      fill: #FFFFFF;\n",
              "    }\n",
              "  </style>\n",
              "\n",
              "      <script>\n",
              "        const buttonEl =\n",
              "          document.querySelector('#df-78266414-e49a-4f27-bbec-d1069cab6e8b button.colab-df-convert');\n",
              "        buttonEl.style.display =\n",
              "          google.colab.kernel.accessAllowed ? 'block' : 'none';\n",
              "\n",
              "        async function convertToInteractive(key) {\n",
              "          const element = document.querySelector('#df-78266414-e49a-4f27-bbec-d1069cab6e8b');\n",
              "          const dataTable =\n",
              "            await google.colab.kernel.invokeFunction('convertToInteractive',\n",
              "                                                     [key], {});\n",
              "          if (!dataTable) return;\n",
              "\n",
              "          const docLinkHtml = 'Like what you see? Visit the ' +\n",
              "            '<a target=\"_blank\" href=https://colab.research.google.com/notebooks/data_table.ipynb>data table notebook</a>'\n",
              "            + ' to learn more about interactive tables.';\n",
              "          element.innerHTML = '';\n",
              "          dataTable['output_type'] = 'display_data';\n",
              "          await google.colab.output.renderOutput(dataTable, element);\n",
              "          const docLink = document.createElement('div');\n",
              "          docLink.innerHTML = docLinkHtml;\n",
              "          element.appendChild(docLink);\n",
              "        }\n",
              "      </script>\n",
              "    </div>\n",
              "  </div>\n",
              "  "
            ]
          },
          "metadata": {},
          "execution_count": 5
        }
      ]
    },
    {
      "cell_type": "markdown",
      "source": [
        "drope unnamed column"
      ],
      "metadata": {
        "id": "u7E858ZLKtQm"
      }
    },
    {
      "cell_type": "code",
      "source": [
        "data = data.drop('Unnamed: 0', axis=1)"
      ],
      "metadata": {
        "id": "WTZUls07Ummo"
      },
      "execution_count": 6,
      "outputs": []
    },
    {
      "cell_type": "markdown",
      "source": [
        "<h3>Train data"
      ],
      "metadata": {
        "id": "W27snoUdVS1w"
      }
    },
    {
      "cell_type": "code",
      "source": [
        "df = train"
      ],
      "metadata": {
        "id": "d5umcADgUhzC"
      },
      "execution_count": 7,
      "outputs": []
    },
    {
      "cell_type": "code",
      "source": [
        "df = df.drop('Unnamed: 0', axis=1)"
      ],
      "metadata": {
        "id": "IILTyP_gEvbk"
      },
      "execution_count": 8,
      "outputs": []
    },
    {
      "cell_type": "code",
      "source": [
        "df.head()"
      ],
      "metadata": {
        "colab": {
          "base_uri": "https://localhost:8080/",
          "height": 300
        },
        "id": "VvfK8yXYEvek",
        "outputId": "5dae5b1c-d1b2-43cc-a992-fa1c3d012025"
      },
      "execution_count": 9,
      "outputs": [
        {
          "output_type": "execute_result",
          "data": {
            "text/plain": [
              "   ID Nationality   Age  DaysSinceCreation  AverageLeadTime  LodgingRevenue  \\\n",
              "0   1         PRT  51.0                150               45           371.0   \n",
              "1   2         PRT   NaN               1095               61           280.0   \n",
              "2   3         DEU  31.0               1095                0             0.0   \n",
              "3   4         FRA  60.0               1095               93           240.0   \n",
              "4   5         FRA  51.0               1095                0             0.0   \n",
              "\n",
              "   OtherRevenue  BookingsCanceled  BookingsNoShowed  BookingsCheckedIn  ...  \\\n",
              "0         105.3                 1                 0                  3  ...   \n",
              "1          53.0                 0                 0                  1  ...   \n",
              "2           0.0                 0                 0                  0  ...   \n",
              "3          60.0                 0                 0                  1  ...   \n",
              "4           0.0                 0                 0                  0  ...   \n",
              "\n",
              "   SRBathtub  SRShower  SRCrib  SRKingSizeBed SRTwinBed SRNearElevator  \\\n",
              "0          0         0       0              0         0              0   \n",
              "1          0         0       0              0         0              0   \n",
              "2          0         0       0              0         0              0   \n",
              "3          0         0       0              0         0              0   \n",
              "4          0         0       0              0         0              0   \n",
              "\n",
              "   SRAwayFromElevator  SRNoAlcoholInMiniBar  SRQuietRoom  source  \n",
              "0                   0                     0            0   train  \n",
              "1                   0                     0            0   train  \n",
              "2                   0                     0            0   train  \n",
              "3                   0                     0            0   train  \n",
              "4                   0                     0            0   train  \n",
              "\n",
              "[5 rows x 30 columns]"
            ],
            "text/html": [
              "\n",
              "  <div id=\"df-0b41f120-bcb5-4d0a-afcd-0c0cebb30ddd\">\n",
              "    <div class=\"colab-df-container\">\n",
              "      <div>\n",
              "<style scoped>\n",
              "    .dataframe tbody tr th:only-of-type {\n",
              "        vertical-align: middle;\n",
              "    }\n",
              "\n",
              "    .dataframe tbody tr th {\n",
              "        vertical-align: top;\n",
              "    }\n",
              "\n",
              "    .dataframe thead th {\n",
              "        text-align: right;\n",
              "    }\n",
              "</style>\n",
              "<table border=\"1\" class=\"dataframe\">\n",
              "  <thead>\n",
              "    <tr style=\"text-align: right;\">\n",
              "      <th></th>\n",
              "      <th>ID</th>\n",
              "      <th>Nationality</th>\n",
              "      <th>Age</th>\n",
              "      <th>DaysSinceCreation</th>\n",
              "      <th>AverageLeadTime</th>\n",
              "      <th>LodgingRevenue</th>\n",
              "      <th>OtherRevenue</th>\n",
              "      <th>BookingsCanceled</th>\n",
              "      <th>BookingsNoShowed</th>\n",
              "      <th>BookingsCheckedIn</th>\n",
              "      <th>...</th>\n",
              "      <th>SRBathtub</th>\n",
              "      <th>SRShower</th>\n",
              "      <th>SRCrib</th>\n",
              "      <th>SRKingSizeBed</th>\n",
              "      <th>SRTwinBed</th>\n",
              "      <th>SRNearElevator</th>\n",
              "      <th>SRAwayFromElevator</th>\n",
              "      <th>SRNoAlcoholInMiniBar</th>\n",
              "      <th>SRQuietRoom</th>\n",
              "      <th>source</th>\n",
              "    </tr>\n",
              "  </thead>\n",
              "  <tbody>\n",
              "    <tr>\n",
              "      <th>0</th>\n",
              "      <td>1</td>\n",
              "      <td>PRT</td>\n",
              "      <td>51.0</td>\n",
              "      <td>150</td>\n",
              "      <td>45</td>\n",
              "      <td>371.0</td>\n",
              "      <td>105.3</td>\n",
              "      <td>1</td>\n",
              "      <td>0</td>\n",
              "      <td>3</td>\n",
              "      <td>...</td>\n",
              "      <td>0</td>\n",
              "      <td>0</td>\n",
              "      <td>0</td>\n",
              "      <td>0</td>\n",
              "      <td>0</td>\n",
              "      <td>0</td>\n",
              "      <td>0</td>\n",
              "      <td>0</td>\n",
              "      <td>0</td>\n",
              "      <td>train</td>\n",
              "    </tr>\n",
              "    <tr>\n",
              "      <th>1</th>\n",
              "      <td>2</td>\n",
              "      <td>PRT</td>\n",
              "      <td>NaN</td>\n",
              "      <td>1095</td>\n",
              "      <td>61</td>\n",
              "      <td>280.0</td>\n",
              "      <td>53.0</td>\n",
              "      <td>0</td>\n",
              "      <td>0</td>\n",
              "      <td>1</td>\n",
              "      <td>...</td>\n",
              "      <td>0</td>\n",
              "      <td>0</td>\n",
              "      <td>0</td>\n",
              "      <td>0</td>\n",
              "      <td>0</td>\n",
              "      <td>0</td>\n",
              "      <td>0</td>\n",
              "      <td>0</td>\n",
              "      <td>0</td>\n",
              "      <td>train</td>\n",
              "    </tr>\n",
              "    <tr>\n",
              "      <th>2</th>\n",
              "      <td>3</td>\n",
              "      <td>DEU</td>\n",
              "      <td>31.0</td>\n",
              "      <td>1095</td>\n",
              "      <td>0</td>\n",
              "      <td>0.0</td>\n",
              "      <td>0.0</td>\n",
              "      <td>0</td>\n",
              "      <td>0</td>\n",
              "      <td>0</td>\n",
              "      <td>...</td>\n",
              "      <td>0</td>\n",
              "      <td>0</td>\n",
              "      <td>0</td>\n",
              "      <td>0</td>\n",
              "      <td>0</td>\n",
              "      <td>0</td>\n",
              "      <td>0</td>\n",
              "      <td>0</td>\n",
              "      <td>0</td>\n",
              "      <td>train</td>\n",
              "    </tr>\n",
              "    <tr>\n",
              "      <th>3</th>\n",
              "      <td>4</td>\n",
              "      <td>FRA</td>\n",
              "      <td>60.0</td>\n",
              "      <td>1095</td>\n",
              "      <td>93</td>\n",
              "      <td>240.0</td>\n",
              "      <td>60.0</td>\n",
              "      <td>0</td>\n",
              "      <td>0</td>\n",
              "      <td>1</td>\n",
              "      <td>...</td>\n",
              "      <td>0</td>\n",
              "      <td>0</td>\n",
              "      <td>0</td>\n",
              "      <td>0</td>\n",
              "      <td>0</td>\n",
              "      <td>0</td>\n",
              "      <td>0</td>\n",
              "      <td>0</td>\n",
              "      <td>0</td>\n",
              "      <td>train</td>\n",
              "    </tr>\n",
              "    <tr>\n",
              "      <th>4</th>\n",
              "      <td>5</td>\n",
              "      <td>FRA</td>\n",
              "      <td>51.0</td>\n",
              "      <td>1095</td>\n",
              "      <td>0</td>\n",
              "      <td>0.0</td>\n",
              "      <td>0.0</td>\n",
              "      <td>0</td>\n",
              "      <td>0</td>\n",
              "      <td>0</td>\n",
              "      <td>...</td>\n",
              "      <td>0</td>\n",
              "      <td>0</td>\n",
              "      <td>0</td>\n",
              "      <td>0</td>\n",
              "      <td>0</td>\n",
              "      <td>0</td>\n",
              "      <td>0</td>\n",
              "      <td>0</td>\n",
              "      <td>0</td>\n",
              "      <td>train</td>\n",
              "    </tr>\n",
              "  </tbody>\n",
              "</table>\n",
              "<p>5 rows × 30 columns</p>\n",
              "</div>\n",
              "      <button class=\"colab-df-convert\" onclick=\"convertToInteractive('df-0b41f120-bcb5-4d0a-afcd-0c0cebb30ddd')\"\n",
              "              title=\"Convert this dataframe to an interactive table.\"\n",
              "              style=\"display:none;\">\n",
              "        \n",
              "  <svg xmlns=\"http://www.w3.org/2000/svg\" height=\"24px\"viewBox=\"0 0 24 24\"\n",
              "       width=\"24px\">\n",
              "    <path d=\"M0 0h24v24H0V0z\" fill=\"none\"/>\n",
              "    <path d=\"M18.56 5.44l.94 2.06.94-2.06 2.06-.94-2.06-.94-.94-2.06-.94 2.06-2.06.94zm-11 1L8.5 8.5l.94-2.06 2.06-.94-2.06-.94L8.5 2.5l-.94 2.06-2.06.94zm10 10l.94 2.06.94-2.06 2.06-.94-2.06-.94-.94-2.06-.94 2.06-2.06.94z\"/><path d=\"M17.41 7.96l-1.37-1.37c-.4-.4-.92-.59-1.43-.59-.52 0-1.04.2-1.43.59L10.3 9.45l-7.72 7.72c-.78.78-.78 2.05 0 2.83L4 21.41c.39.39.9.59 1.41.59.51 0 1.02-.2 1.41-.59l7.78-7.78 2.81-2.81c.8-.78.8-2.07 0-2.86zM5.41 20L4 18.59l7.72-7.72 1.47 1.35L5.41 20z\"/>\n",
              "  </svg>\n",
              "      </button>\n",
              "      \n",
              "  <style>\n",
              "    .colab-df-container {\n",
              "      display:flex;\n",
              "      flex-wrap:wrap;\n",
              "      gap: 12px;\n",
              "    }\n",
              "\n",
              "    .colab-df-convert {\n",
              "      background-color: #E8F0FE;\n",
              "      border: none;\n",
              "      border-radius: 50%;\n",
              "      cursor: pointer;\n",
              "      display: none;\n",
              "      fill: #1967D2;\n",
              "      height: 32px;\n",
              "      padding: 0 0 0 0;\n",
              "      width: 32px;\n",
              "    }\n",
              "\n",
              "    .colab-df-convert:hover {\n",
              "      background-color: #E2EBFA;\n",
              "      box-shadow: 0px 1px 2px rgba(60, 64, 67, 0.3), 0px 1px 3px 1px rgba(60, 64, 67, 0.15);\n",
              "      fill: #174EA6;\n",
              "    }\n",
              "\n",
              "    [theme=dark] .colab-df-convert {\n",
              "      background-color: #3B4455;\n",
              "      fill: #D2E3FC;\n",
              "    }\n",
              "\n",
              "    [theme=dark] .colab-df-convert:hover {\n",
              "      background-color: #434B5C;\n",
              "      box-shadow: 0px 1px 3px 1px rgba(0, 0, 0, 0.15);\n",
              "      filter: drop-shadow(0px 1px 2px rgba(0, 0, 0, 0.3));\n",
              "      fill: #FFFFFF;\n",
              "    }\n",
              "  </style>\n",
              "\n",
              "      <script>\n",
              "        const buttonEl =\n",
              "          document.querySelector('#df-0b41f120-bcb5-4d0a-afcd-0c0cebb30ddd button.colab-df-convert');\n",
              "        buttonEl.style.display =\n",
              "          google.colab.kernel.accessAllowed ? 'block' : 'none';\n",
              "\n",
              "        async function convertToInteractive(key) {\n",
              "          const element = document.querySelector('#df-0b41f120-bcb5-4d0a-afcd-0c0cebb30ddd');\n",
              "          const dataTable =\n",
              "            await google.colab.kernel.invokeFunction('convertToInteractive',\n",
              "                                                     [key], {});\n",
              "          if (!dataTable) return;\n",
              "\n",
              "          const docLinkHtml = 'Like what you see? Visit the ' +\n",
              "            '<a target=\"_blank\" href=https://colab.research.google.com/notebooks/data_table.ipynb>data table notebook</a>'\n",
              "            + ' to learn more about interactive tables.';\n",
              "          element.innerHTML = '';\n",
              "          dataTable['output_type'] = 'display_data';\n",
              "          await google.colab.output.renderOutput(dataTable, element);\n",
              "          const docLink = document.createElement('div');\n",
              "          docLink.innerHTML = docLinkHtml;\n",
              "          element.appendChild(docLink);\n",
              "        }\n",
              "      </script>\n",
              "    </div>\n",
              "  </div>\n",
              "  "
            ]
          },
          "metadata": {},
          "execution_count": 9
        }
      ]
    },
    {
      "cell_type": "code",
      "source": [
        "df.info()"
      ],
      "metadata": {
        "colab": {
          "base_uri": "https://localhost:8080/"
        },
        "id": "BgAAF9jiGzBE",
        "outputId": "c474bda1-cb3a-49e9-9e76-ade2357ab4f8"
      },
      "execution_count": 10,
      "outputs": [
        {
          "output_type": "stream",
          "name": "stdout",
          "text": [
            "<class 'pandas.core.frame.DataFrame'>\n",
            "RangeIndex: 82580 entries, 0 to 82579\n",
            "Data columns (total 30 columns):\n",
            " #   Column                Non-Null Count  Dtype  \n",
            "---  ------                --------------  -----  \n",
            " 0   ID                    82580 non-null  int64  \n",
            " 1   Nationality           82580 non-null  object \n",
            " 2   Age                   78834 non-null  float64\n",
            " 3   DaysSinceCreation     82580 non-null  int64  \n",
            " 4   AverageLeadTime       82580 non-null  int64  \n",
            " 5   LodgingRevenue        82580 non-null  float64\n",
            " 6   OtherRevenue          82580 non-null  float64\n",
            " 7   BookingsCanceled      82580 non-null  int64  \n",
            " 8   BookingsNoShowed      82580 non-null  int64  \n",
            " 9   BookingsCheckedIn     82580 non-null  int64  \n",
            " 10  PersonsNights         82580 non-null  int64  \n",
            " 11  RoomNights            82580 non-null  int64  \n",
            " 12  DaysSinceLastStay     82580 non-null  int64  \n",
            " 13  DaysSinceFirstStay    82580 non-null  int64  \n",
            " 14  DistributionChannel   82580 non-null  object \n",
            " 15  MarketSegment         82580 non-null  object \n",
            " 16  SRHighFloor           82580 non-null  int64  \n",
            " 17  SRLowFloor            82580 non-null  int64  \n",
            " 18  SRAccessibleRoom      82580 non-null  int64  \n",
            " 19  SRMediumFloor         82580 non-null  int64  \n",
            " 20  SRBathtub             82580 non-null  int64  \n",
            " 21  SRShower              82580 non-null  int64  \n",
            " 22  SRCrib                82580 non-null  int64  \n",
            " 23  SRKingSizeBed         82580 non-null  int64  \n",
            " 24  SRTwinBed             82580 non-null  int64  \n",
            " 25  SRNearElevator        82580 non-null  int64  \n",
            " 26  SRAwayFromElevator    82580 non-null  int64  \n",
            " 27  SRNoAlcoholInMiniBar  82580 non-null  int64  \n",
            " 28  SRQuietRoom           82580 non-null  int64  \n",
            " 29  source                82580 non-null  object \n",
            "dtypes: float64(3), int64(23), object(4)\n",
            "memory usage: 18.9+ MB\n"
          ]
        }
      ]
    },
    {
      "cell_type": "markdown",
      "source": [
        "<h4>Display Categorical and Numeric"
      ],
      "metadata": {
        "id": "2MVvu3jEK0wB"
      }
    },
    {
      "cell_type": "code",
      "source": [
        "catvars = df.select_dtypes(include=['object']).columns\n",
        "numvars = df.select_dtypes(include = ['int32','int64','float32','float64']).columns\n",
        "\n",
        "catvars,numvars"
      ],
      "metadata": {
        "colab": {
          "base_uri": "https://localhost:8080/"
        },
        "id": "zPBRizIYEvlQ",
        "outputId": "7c1bbe66-54d7-4805-cabb-492481523141"
      },
      "execution_count": 11,
      "outputs": [
        {
          "output_type": "execute_result",
          "data": {
            "text/plain": [
              "(Index(['Nationality', 'DistributionChannel', 'MarketSegment', 'source'], dtype='object'),\n",
              " Index(['ID', 'Age', 'DaysSinceCreation', 'AverageLeadTime', 'LodgingRevenue',\n",
              "        'OtherRevenue', 'BookingsCanceled', 'BookingsNoShowed',\n",
              "        'BookingsCheckedIn', 'PersonsNights', 'RoomNights', 'DaysSinceLastStay',\n",
              "        'DaysSinceFirstStay', 'SRHighFloor', 'SRLowFloor', 'SRAccessibleRoom',\n",
              "        'SRMediumFloor', 'SRBathtub', 'SRShower', 'SRCrib', 'SRKingSizeBed',\n",
              "        'SRTwinBed', 'SRNearElevator', 'SRAwayFromElevator',\n",
              "        'SRNoAlcoholInMiniBar', 'SRQuietRoom'],\n",
              "       dtype='object'))"
            ]
          },
          "metadata": {},
          "execution_count": 11
        }
      ]
    },
    {
      "cell_type": "markdown",
      "source": [
        "<h4>Display all the unique values"
      ],
      "metadata": {
        "id": "n-wwSBFoLNZL"
      }
    },
    {
      "cell_type": "code",
      "source": [
        "def uniquevals(col):\n",
        "    print(f'Details of the particular col {col} is : {df[col].unique()}')\n",
        "    \n",
        "def valuecounts(col):\n",
        "    print(f'Valuecounts of the particular col {col} is : {df[col].value_counts()}')\n",
        "\n",
        "    \n",
        "for col in df.columns:\n",
        "    uniquevals(col)\n",
        "    print(\"-\"*100)"
      ],
      "metadata": {
        "colab": {
          "base_uri": "https://localhost:8080/"
        },
        "id": "HuByf1YdEvn5",
        "outputId": "ba575ca3-73b0-43ae-b09f-501240dbb448"
      },
      "execution_count": 12,
      "outputs": [
        {
          "output_type": "stream",
          "name": "stdout",
          "text": [
            "Details of the particular col ID is : [    1     2     3 ... 82578 82579 82580]\n",
            "----------------------------------------------------------------------------------------------------\n",
            "Details of the particular col Nationality is : ['PRT' 'DEU' 'FRA' 'JPN' 'IRL' 'ESP' 'BEL' 'NLD' 'AUT' 'ITA' 'CHN' 'RUS'\n",
            " 'POL' 'USA' 'HUN' 'CRI' 'MEX' 'CHE' 'ROU' 'GBR' 'BIH' 'BRA' 'FIN' 'AGO'\n",
            " 'CAN' 'ZAF' 'TWN' 'GRC' 'AUS' 'ISR' 'BGR' 'SAU' 'SWE' 'CYP' 'ARG' 'ARM'\n",
            " 'CHL' 'MAR' 'MOZ' 'KOR' 'TUN' 'DNK' 'NOR' 'MYS' 'EGY' 'IND' 'HRV' 'CPV'\n",
            " 'JOR' 'COD' 'DZA' 'LUX' 'TUR' 'IRN' 'LBY' 'PAN' 'COL' 'VEN' 'GNB' 'CZE'\n",
            " 'AND' 'SVN' 'PER' 'ATF' 'UGA' 'AZE' 'NZL' 'LTU' 'SRB' 'EST' 'KAZ' 'KWT'\n",
            " 'IDN' 'UKR' 'SVK' 'MLI' 'ARE' 'BGD' 'THA' 'TZA' 'LVA' 'PHL' 'BHR' 'NAM'\n",
            " 'BOL' 'SGP' 'CMR' 'MLT' 'URY' 'PAK' 'JAM' 'ECU' 'SYC' 'QAT' 'PRY' 'BRB'\n",
            " 'OMN' 'TMP' 'ABW' 'LBN' 'AIA' 'SLV' 'DMA' 'CUB' 'VNM' 'GEO' 'IRQ' 'GAB'\n",
            " 'PYF' 'LIE' 'SEN' 'BLR' 'ISL' 'DOM' 'GUY' 'LCA' 'ATA' 'NGA' 'RWA' 'CIV'\n",
            " 'ALB' 'MKD' 'MNE' 'GTM' 'GHA' 'MDV' 'MCO' 'MUS' 'SYR' 'TGO' 'LKA' 'SUR'\n",
            " 'KEN' 'MRT' 'HKG' 'CAF' 'NCL' 'STP' 'UZB' 'KIR' 'SDN' 'PRI' 'KNA' 'TJK'\n",
            " 'SLE' 'LAO' 'COM' 'ETH' 'FRO' 'BEN' 'ZWE' 'ASM' 'BWA' 'ERI' 'SPM' 'JEY'\n",
            " 'GNQ' 'MDG' 'GIN' 'NIC' 'SWZ' 'CYM' 'SOM' 'ATG' 'KGZ' 'FLK' 'GIB' 'BHS'\n",
            " 'SMR' 'UMI' 'HTI' 'TKM' 'PNG' 'MMR' 'WLF' 'WSM' 'IOT' 'VIR' 'NRU' 'MWI'\n",
            " 'VCT' 'GUF' 'PCN' 'FJI' 'TON' 'TCD' 'YEM' 'NPL']\n",
            "----------------------------------------------------------------------------------------------------\n",
            "Details of the particular col Age is : [ 51.  nan  31.  60.  54.  49.  32.  42.  25.  27.  58.  56.  57.  68.\n",
            "  72.  71.  24.  26.  50.  52.  36.  64.  65.  47.  67.  39.  41.  43.\n",
            "   3.  63.  30.  28.  18.  53.  48.  17.  38.  40.  59.  13.  61.  69.\n",
            "  55.  70.  34.  66.  82.  35.   6.  62.  45.  37.  29.  10.   8.   7.\n",
            "   4.  44.   9.  33.   5.  46.  20.  14.  74.  11.  73.   1.  22.  19.\n",
            "  78.  77.  21.  76.  75.  15.  83.  12.  23.  80.  79.  16.  -7.  81.\n",
            " 114.  84.  -9.  85.  87. -11.  89.  91.  88.  86. -10.  -6.  -1. 110.\n",
            "   2.  92. 113.  90.   0. 122.  96. 109.]\n",
            "----------------------------------------------------------------------------------------------------\n",
            "Details of the particular col DaysSinceCreation is : [ 150 1095 1094 ...   14   13   12]\n",
            "----------------------------------------------------------------------------------------------------\n",
            "Details of the particular col AverageLeadTime is : [ 45  61   0  93  58  38  96  60  87  11 109  63   2  95   7  94   1  85\n",
            "  78  13  67  65  80  98  97  57   6  72  70 103  49  86  41  69  89  59\n",
            "  99  43  52  68  10  71  81  46  84  55  75  54  50  29  77  40  18  42\n",
            "  91  28  27  44  23 101   3  56  83  39  66   4  31  12  24 102  33  32\n",
            "  25  20   5  35 106  21  30  73   9  16  48  36  79  17  34  64  62   8\n",
            "  47  15  53  14 105  88  22 129 137  92  51  19 132  26 128 139  76  74\n",
            " 121 126 111 147 100  37 152 115 116  90 117 118 158 114 162 133 108 167\n",
            " 164 161 107 150 119 149 124 145 113 110 157 112 130 151 131 134 122 176\n",
            " 177 127 156 189 138 143 185 136  82 140 123 135 165 191 120 159 170 195\n",
            " 163 154 199 125 141 197 194 186 166 148 198 169 168 144 209 104 208 216\n",
            " 142 222 210 180 201 226 153 184 215 190 228 183 181 230 196 212 217 248\n",
            " 233 249 211 192 255 146 188 220 213 200 247 203 240 231 207 206 256 155\n",
            " 243 238 251 160 224 265 235 273 241 172 174 218 171 239 232 225 221 229\n",
            " 173 179 254 178 193 269 283 175 261 257 250 278 187 182 292 259 285 237\n",
            " 295 202 296 242 301 409 272 274 280 236 268 302 205 214 306 219 307 320\n",
            " 303 258 304 287 204 330 317 308 227 234 277 246 346 245 252 288 318 315\n",
            " 253 359 362 286 271 291 244 299 294 276 336 332 328 223 281 305 349 260\n",
            " 338 262 266 279 335 377 326 284 386 267 290 275 311 282 313 270 345 300\n",
            " 298 350 297 355 353 352 356 334 310 343 342 322 321  -1 348 337 309 340\n",
            " 289 324 327 329 395 394 341 293 344 312 408 434 358 357 423 422 364 448\n",
            " 396 263 351 367 368 462 405 314 414 451 459 316 476 264 381 465 464 463\n",
            " 331 468 479 478 504 457 518 323 325 425 426 424 319 361 521 546 455 469\n",
            " 467 454 535 533 542 543 541 384 508 549 574 483 517 588 474 339 347 333\n",
            " 382 403 494 431]\n",
            "----------------------------------------------------------------------------------------------------\n",
            "Details of the particular col LodgingRevenue is : [371.   280.     0.   ... 285.56 287.8  288.18]\n",
            "----------------------------------------------------------------------------------------------------\n",
            "Details of the particular col OtherRevenue is : [105.3   53.     0.   ... 514.5  327.85 156.7 ]\n",
            "----------------------------------------------------------------------------------------------------\n",
            "Details of the particular col BookingsCanceled is : [1 0 3 2 4 9]\n",
            "----------------------------------------------------------------------------------------------------\n",
            "Details of the particular col BookingsNoShowed is : [0 1 2 3]\n",
            "----------------------------------------------------------------------------------------------------\n",
            "Details of the particular col BookingsCheckedIn is : [ 3  1  0  9  2 11 12  7  8  5  6  4 66 15 29 25 10 17 13 26 23 57 40 18\n",
            " 14 24 19 20 34]\n",
            "----------------------------------------------------------------------------------------------------\n",
            "Details of the particular col PersonsNights is : [  8  10   0   4   6   3  18   1   2  14  15  12  16   9  22  21  30   5\n",
            "  11  13  20   7  17  19  75  33  62  28  27  24  31  38  26  36  32  35\n",
            "  34  73  48  56  39 116  29  44  41  23  68  49  42  25  52  40  51  45\n",
            "  59  78]\n",
            "----------------------------------------------------------------------------------------------------\n",
            "Details of the particular col RoomNights is : [  5   0   2   3   4  14   1   7   6  11   8  10  18   9  22  17  95  21\n",
            "  16 185  12  13  33  88  31  27  19  15  29  35  30  26  66  37 116  23\n",
            "  34  49  20  40  51  24  28  25  42  59  38  36]\n",
            "----------------------------------------------------------------------------------------------------\n",
            "Details of the particular col DaysSinceLastStay is : [ 151 1100   -1 ...   25   22   17]\n",
            "----------------------------------------------------------------------------------------------------\n",
            "Details of the particular col DaysSinceFirstStay is : [1074 1100   -1 ...   15   14   13]\n",
            "----------------------------------------------------------------------------------------------------\n",
            "Details of the particular col DistributionChannel is : ['Corporate' 'Travel Agent/Operator' 'Direct' 'Electronic Distribution']\n",
            "----------------------------------------------------------------------------------------------------\n",
            "Details of the particular col MarketSegment is : ['Corporate' 'Travel Agent/Operator' 'Other' 'Direct' 'Complementary'\n",
            " 'Groups' 'Aviation']\n",
            "----------------------------------------------------------------------------------------------------\n",
            "Details of the particular col SRHighFloor is : [0 1]\n",
            "----------------------------------------------------------------------------------------------------\n",
            "Details of the particular col SRLowFloor is : [0 1]\n",
            "----------------------------------------------------------------------------------------------------\n",
            "Details of the particular col SRAccessibleRoom is : [0 1]\n",
            "----------------------------------------------------------------------------------------------------\n",
            "Details of the particular col SRMediumFloor is : [0 1]\n",
            "----------------------------------------------------------------------------------------------------\n",
            "Details of the particular col SRBathtub is : [0 1]\n",
            "----------------------------------------------------------------------------------------------------\n",
            "Details of the particular col SRShower is : [0 1]\n",
            "----------------------------------------------------------------------------------------------------\n",
            "Details of the particular col SRCrib is : [0 1]\n",
            "----------------------------------------------------------------------------------------------------\n",
            "Details of the particular col SRKingSizeBed is : [0 1]\n",
            "----------------------------------------------------------------------------------------------------\n",
            "Details of the particular col SRTwinBed is : [0 1]\n",
            "----------------------------------------------------------------------------------------------------\n",
            "Details of the particular col SRNearElevator is : [0 1]\n",
            "----------------------------------------------------------------------------------------------------\n",
            "Details of the particular col SRAwayFromElevator is : [0 1]\n",
            "----------------------------------------------------------------------------------------------------\n",
            "Details of the particular col SRNoAlcoholInMiniBar is : [0 1]\n",
            "----------------------------------------------------------------------------------------------------\n",
            "Details of the particular col SRQuietRoom is : [0 1]\n",
            "----------------------------------------------------------------------------------------------------\n",
            "Details of the particular col source is : ['train']\n",
            "----------------------------------------------------------------------------------------------------\n"
          ]
        }
      ]
    },
    {
      "cell_type": "markdown",
      "source": [
        "<h4>Find Missing Values"
      ],
      "metadata": {
        "id": "FFeZcTecLUuB"
      }
    },
    {
      "cell_type": "code",
      "source": [
        "null_value = df.isnull().sum().sort_values(ascending=False)\n",
        "null_value_per = df.isnull().mean().sort_values(ascending=False)*100"
      ],
      "metadata": {
        "id": "887w8BasGy54"
      },
      "execution_count": 13,
      "outputs": []
    },
    {
      "cell_type": "code",
      "source": [
        "null_value_df = pd.DataFrame({\n",
        "    \"Features\" : null_value.index,\n",
        "    \"No.of Missing_Value\" :null_value.values,\n",
        "    \"Percentages of Missing_Value\" : null_value_per.values\n",
        "})\n",
        "null_value_df"
      ],
      "metadata": {
        "colab": {
          "base_uri": "https://localhost:8080/",
          "height": 990
        },
        "id": "BFGH43qUGy94",
        "outputId": "d40eb6db-1fd2-48d7-d9cd-e78cd7f2a5cd"
      },
      "execution_count": 14,
      "outputs": [
        {
          "output_type": "execute_result",
          "data": {
            "text/plain": [
              "                Features  No.of Missing_Value  Percentages of Missing_Value\n",
              "0                    Age                 3746                      4.536207\n",
              "1                     ID                    0                      0.000000\n",
              "2            SRHighFloor                    0                      0.000000\n",
              "3            SRQuietRoom                    0                      0.000000\n",
              "4   SRNoAlcoholInMiniBar                    0                      0.000000\n",
              "5     SRAwayFromElevator                    0                      0.000000\n",
              "6         SRNearElevator                    0                      0.000000\n",
              "7              SRTwinBed                    0                      0.000000\n",
              "8          SRKingSizeBed                    0                      0.000000\n",
              "9                 SRCrib                    0                      0.000000\n",
              "10              SRShower                    0                      0.000000\n",
              "11             SRBathtub                    0                      0.000000\n",
              "12         SRMediumFloor                    0                      0.000000\n",
              "13      SRAccessibleRoom                    0                      0.000000\n",
              "14            SRLowFloor                    0                      0.000000\n",
              "15         MarketSegment                    0                      0.000000\n",
              "16           Nationality                    0                      0.000000\n",
              "17   DistributionChannel                    0                      0.000000\n",
              "18    DaysSinceFirstStay                    0                      0.000000\n",
              "19     DaysSinceLastStay                    0                      0.000000\n",
              "20            RoomNights                    0                      0.000000\n",
              "21         PersonsNights                    0                      0.000000\n",
              "22     BookingsCheckedIn                    0                      0.000000\n",
              "23      BookingsNoShowed                    0                      0.000000\n",
              "24      BookingsCanceled                    0                      0.000000\n",
              "25          OtherRevenue                    0                      0.000000\n",
              "26        LodgingRevenue                    0                      0.000000\n",
              "27       AverageLeadTime                    0                      0.000000\n",
              "28     DaysSinceCreation                    0                      0.000000\n",
              "29                source                    0                      0.000000"
            ],
            "text/html": [
              "\n",
              "  <div id=\"df-7240acd7-5ad1-4bdb-a7f7-af45f6b6c882\">\n",
              "    <div class=\"colab-df-container\">\n",
              "      <div>\n",
              "<style scoped>\n",
              "    .dataframe tbody tr th:only-of-type {\n",
              "        vertical-align: middle;\n",
              "    }\n",
              "\n",
              "    .dataframe tbody tr th {\n",
              "        vertical-align: top;\n",
              "    }\n",
              "\n",
              "    .dataframe thead th {\n",
              "        text-align: right;\n",
              "    }\n",
              "</style>\n",
              "<table border=\"1\" class=\"dataframe\">\n",
              "  <thead>\n",
              "    <tr style=\"text-align: right;\">\n",
              "      <th></th>\n",
              "      <th>Features</th>\n",
              "      <th>No.of Missing_Value</th>\n",
              "      <th>Percentages of Missing_Value</th>\n",
              "    </tr>\n",
              "  </thead>\n",
              "  <tbody>\n",
              "    <tr>\n",
              "      <th>0</th>\n",
              "      <td>Age</td>\n",
              "      <td>3746</td>\n",
              "      <td>4.536207</td>\n",
              "    </tr>\n",
              "    <tr>\n",
              "      <th>1</th>\n",
              "      <td>ID</td>\n",
              "      <td>0</td>\n",
              "      <td>0.000000</td>\n",
              "    </tr>\n",
              "    <tr>\n",
              "      <th>2</th>\n",
              "      <td>SRHighFloor</td>\n",
              "      <td>0</td>\n",
              "      <td>0.000000</td>\n",
              "    </tr>\n",
              "    <tr>\n",
              "      <th>3</th>\n",
              "      <td>SRQuietRoom</td>\n",
              "      <td>0</td>\n",
              "      <td>0.000000</td>\n",
              "    </tr>\n",
              "    <tr>\n",
              "      <th>4</th>\n",
              "      <td>SRNoAlcoholInMiniBar</td>\n",
              "      <td>0</td>\n",
              "      <td>0.000000</td>\n",
              "    </tr>\n",
              "    <tr>\n",
              "      <th>5</th>\n",
              "      <td>SRAwayFromElevator</td>\n",
              "      <td>0</td>\n",
              "      <td>0.000000</td>\n",
              "    </tr>\n",
              "    <tr>\n",
              "      <th>6</th>\n",
              "      <td>SRNearElevator</td>\n",
              "      <td>0</td>\n",
              "      <td>0.000000</td>\n",
              "    </tr>\n",
              "    <tr>\n",
              "      <th>7</th>\n",
              "      <td>SRTwinBed</td>\n",
              "      <td>0</td>\n",
              "      <td>0.000000</td>\n",
              "    </tr>\n",
              "    <tr>\n",
              "      <th>8</th>\n",
              "      <td>SRKingSizeBed</td>\n",
              "      <td>0</td>\n",
              "      <td>0.000000</td>\n",
              "    </tr>\n",
              "    <tr>\n",
              "      <th>9</th>\n",
              "      <td>SRCrib</td>\n",
              "      <td>0</td>\n",
              "      <td>0.000000</td>\n",
              "    </tr>\n",
              "    <tr>\n",
              "      <th>10</th>\n",
              "      <td>SRShower</td>\n",
              "      <td>0</td>\n",
              "      <td>0.000000</td>\n",
              "    </tr>\n",
              "    <tr>\n",
              "      <th>11</th>\n",
              "      <td>SRBathtub</td>\n",
              "      <td>0</td>\n",
              "      <td>0.000000</td>\n",
              "    </tr>\n",
              "    <tr>\n",
              "      <th>12</th>\n",
              "      <td>SRMediumFloor</td>\n",
              "      <td>0</td>\n",
              "      <td>0.000000</td>\n",
              "    </tr>\n",
              "    <tr>\n",
              "      <th>13</th>\n",
              "      <td>SRAccessibleRoom</td>\n",
              "      <td>0</td>\n",
              "      <td>0.000000</td>\n",
              "    </tr>\n",
              "    <tr>\n",
              "      <th>14</th>\n",
              "      <td>SRLowFloor</td>\n",
              "      <td>0</td>\n",
              "      <td>0.000000</td>\n",
              "    </tr>\n",
              "    <tr>\n",
              "      <th>15</th>\n",
              "      <td>MarketSegment</td>\n",
              "      <td>0</td>\n",
              "      <td>0.000000</td>\n",
              "    </tr>\n",
              "    <tr>\n",
              "      <th>16</th>\n",
              "      <td>Nationality</td>\n",
              "      <td>0</td>\n",
              "      <td>0.000000</td>\n",
              "    </tr>\n",
              "    <tr>\n",
              "      <th>17</th>\n",
              "      <td>DistributionChannel</td>\n",
              "      <td>0</td>\n",
              "      <td>0.000000</td>\n",
              "    </tr>\n",
              "    <tr>\n",
              "      <th>18</th>\n",
              "      <td>DaysSinceFirstStay</td>\n",
              "      <td>0</td>\n",
              "      <td>0.000000</td>\n",
              "    </tr>\n",
              "    <tr>\n",
              "      <th>19</th>\n",
              "      <td>DaysSinceLastStay</td>\n",
              "      <td>0</td>\n",
              "      <td>0.000000</td>\n",
              "    </tr>\n",
              "    <tr>\n",
              "      <th>20</th>\n",
              "      <td>RoomNights</td>\n",
              "      <td>0</td>\n",
              "      <td>0.000000</td>\n",
              "    </tr>\n",
              "    <tr>\n",
              "      <th>21</th>\n",
              "      <td>PersonsNights</td>\n",
              "      <td>0</td>\n",
              "      <td>0.000000</td>\n",
              "    </tr>\n",
              "    <tr>\n",
              "      <th>22</th>\n",
              "      <td>BookingsCheckedIn</td>\n",
              "      <td>0</td>\n",
              "      <td>0.000000</td>\n",
              "    </tr>\n",
              "    <tr>\n",
              "      <th>23</th>\n",
              "      <td>BookingsNoShowed</td>\n",
              "      <td>0</td>\n",
              "      <td>0.000000</td>\n",
              "    </tr>\n",
              "    <tr>\n",
              "      <th>24</th>\n",
              "      <td>BookingsCanceled</td>\n",
              "      <td>0</td>\n",
              "      <td>0.000000</td>\n",
              "    </tr>\n",
              "    <tr>\n",
              "      <th>25</th>\n",
              "      <td>OtherRevenue</td>\n",
              "      <td>0</td>\n",
              "      <td>0.000000</td>\n",
              "    </tr>\n",
              "    <tr>\n",
              "      <th>26</th>\n",
              "      <td>LodgingRevenue</td>\n",
              "      <td>0</td>\n",
              "      <td>0.000000</td>\n",
              "    </tr>\n",
              "    <tr>\n",
              "      <th>27</th>\n",
              "      <td>AverageLeadTime</td>\n",
              "      <td>0</td>\n",
              "      <td>0.000000</td>\n",
              "    </tr>\n",
              "    <tr>\n",
              "      <th>28</th>\n",
              "      <td>DaysSinceCreation</td>\n",
              "      <td>0</td>\n",
              "      <td>0.000000</td>\n",
              "    </tr>\n",
              "    <tr>\n",
              "      <th>29</th>\n",
              "      <td>source</td>\n",
              "      <td>0</td>\n",
              "      <td>0.000000</td>\n",
              "    </tr>\n",
              "  </tbody>\n",
              "</table>\n",
              "</div>\n",
              "      <button class=\"colab-df-convert\" onclick=\"convertToInteractive('df-7240acd7-5ad1-4bdb-a7f7-af45f6b6c882')\"\n",
              "              title=\"Convert this dataframe to an interactive table.\"\n",
              "              style=\"display:none;\">\n",
              "        \n",
              "  <svg xmlns=\"http://www.w3.org/2000/svg\" height=\"24px\"viewBox=\"0 0 24 24\"\n",
              "       width=\"24px\">\n",
              "    <path d=\"M0 0h24v24H0V0z\" fill=\"none\"/>\n",
              "    <path d=\"M18.56 5.44l.94 2.06.94-2.06 2.06-.94-2.06-.94-.94-2.06-.94 2.06-2.06.94zm-11 1L8.5 8.5l.94-2.06 2.06-.94-2.06-.94L8.5 2.5l-.94 2.06-2.06.94zm10 10l.94 2.06.94-2.06 2.06-.94-2.06-.94-.94-2.06-.94 2.06-2.06.94z\"/><path d=\"M17.41 7.96l-1.37-1.37c-.4-.4-.92-.59-1.43-.59-.52 0-1.04.2-1.43.59L10.3 9.45l-7.72 7.72c-.78.78-.78 2.05 0 2.83L4 21.41c.39.39.9.59 1.41.59.51 0 1.02-.2 1.41-.59l7.78-7.78 2.81-2.81c.8-.78.8-2.07 0-2.86zM5.41 20L4 18.59l7.72-7.72 1.47 1.35L5.41 20z\"/>\n",
              "  </svg>\n",
              "      </button>\n",
              "      \n",
              "  <style>\n",
              "    .colab-df-container {\n",
              "      display:flex;\n",
              "      flex-wrap:wrap;\n",
              "      gap: 12px;\n",
              "    }\n",
              "\n",
              "    .colab-df-convert {\n",
              "      background-color: #E8F0FE;\n",
              "      border: none;\n",
              "      border-radius: 50%;\n",
              "      cursor: pointer;\n",
              "      display: none;\n",
              "      fill: #1967D2;\n",
              "      height: 32px;\n",
              "      padding: 0 0 0 0;\n",
              "      width: 32px;\n",
              "    }\n",
              "\n",
              "    .colab-df-convert:hover {\n",
              "      background-color: #E2EBFA;\n",
              "      box-shadow: 0px 1px 2px rgba(60, 64, 67, 0.3), 0px 1px 3px 1px rgba(60, 64, 67, 0.15);\n",
              "      fill: #174EA6;\n",
              "    }\n",
              "\n",
              "    [theme=dark] .colab-df-convert {\n",
              "      background-color: #3B4455;\n",
              "      fill: #D2E3FC;\n",
              "    }\n",
              "\n",
              "    [theme=dark] .colab-df-convert:hover {\n",
              "      background-color: #434B5C;\n",
              "      box-shadow: 0px 1px 3px 1px rgba(0, 0, 0, 0.15);\n",
              "      filter: drop-shadow(0px 1px 2px rgba(0, 0, 0, 0.3));\n",
              "      fill: #FFFFFF;\n",
              "    }\n",
              "  </style>\n",
              "\n",
              "      <script>\n",
              "        const buttonEl =\n",
              "          document.querySelector('#df-7240acd7-5ad1-4bdb-a7f7-af45f6b6c882 button.colab-df-convert');\n",
              "        buttonEl.style.display =\n",
              "          google.colab.kernel.accessAllowed ? 'block' : 'none';\n",
              "\n",
              "        async function convertToInteractive(key) {\n",
              "          const element = document.querySelector('#df-7240acd7-5ad1-4bdb-a7f7-af45f6b6c882');\n",
              "          const dataTable =\n",
              "            await google.colab.kernel.invokeFunction('convertToInteractive',\n",
              "                                                     [key], {});\n",
              "          if (!dataTable) return;\n",
              "\n",
              "          const docLinkHtml = 'Like what you see? Visit the ' +\n",
              "            '<a target=\"_blank\" href=https://colab.research.google.com/notebooks/data_table.ipynb>data table notebook</a>'\n",
              "            + ' to learn more about interactive tables.';\n",
              "          element.innerHTML = '';\n",
              "          dataTable['output_type'] = 'display_data';\n",
              "          await google.colab.output.renderOutput(dataTable, element);\n",
              "          const docLink = document.createElement('div');\n",
              "          docLink.innerHTML = docLinkHtml;\n",
              "          element.appendChild(docLink);\n",
              "        }\n",
              "      </script>\n",
              "    </div>\n",
              "  </div>\n",
              "  "
            ]
          },
          "metadata": {},
          "execution_count": 14
        }
      ]
    },
    {
      "cell_type": "markdown",
      "source": [
        "<h1>Exploratory data analysis (EDA)"
      ],
      "metadata": {
        "id": "3aZeuq2rTxaR"
      }
    },
    {
      "cell_type": "markdown",
      "source": [
        "<h4>Top 20 Nationality"
      ],
      "metadata": {
        "id": "oUajyeyELaxe"
      }
    },
    {
      "cell_type": "code",
      "source": [
        "top_twenty=df['Nationality'].value_counts()[:20]\n",
        "top_twenty.to_frame()"
      ],
      "metadata": {
        "colab": {
          "base_uri": "https://localhost:8080/",
          "height": 677
        },
        "id": "-UqoA3DFEvyB",
        "outputId": "82158a18-9028-4c2c-b1c3-a18a355d9cea"
      },
      "execution_count": 15,
      "outputs": [
        {
          "output_type": "execute_result",
          "data": {
            "text/plain": [
              "     Nationality\n",
              "FRA        12307\n",
              "PRT        11382\n",
              "DEU        10164\n",
              "GBR         8610\n",
              "ESP         4864\n",
              "USA         3398\n",
              "ITA         3301\n",
              "BEL         3111\n",
              "BRA         2710\n",
              "NLD         2698\n",
              "CHE         2081\n",
              "IRL         1991\n",
              "CAN         1514\n",
              "AUT         1487\n",
              "SWE         1221\n",
              "ISR          896\n",
              "CHN          873\n",
              "NOR          790\n",
              "POL          755\n",
              "AUS          722"
            ],
            "text/html": [
              "\n",
              "  <div id=\"df-9f377bcb-eefe-4398-8218-c7ab34f64682\">\n",
              "    <div class=\"colab-df-container\">\n",
              "      <div>\n",
              "<style scoped>\n",
              "    .dataframe tbody tr th:only-of-type {\n",
              "        vertical-align: middle;\n",
              "    }\n",
              "\n",
              "    .dataframe tbody tr th {\n",
              "        vertical-align: top;\n",
              "    }\n",
              "\n",
              "    .dataframe thead th {\n",
              "        text-align: right;\n",
              "    }\n",
              "</style>\n",
              "<table border=\"1\" class=\"dataframe\">\n",
              "  <thead>\n",
              "    <tr style=\"text-align: right;\">\n",
              "      <th></th>\n",
              "      <th>Nationality</th>\n",
              "    </tr>\n",
              "  </thead>\n",
              "  <tbody>\n",
              "    <tr>\n",
              "      <th>FRA</th>\n",
              "      <td>12307</td>\n",
              "    </tr>\n",
              "    <tr>\n",
              "      <th>PRT</th>\n",
              "      <td>11382</td>\n",
              "    </tr>\n",
              "    <tr>\n",
              "      <th>DEU</th>\n",
              "      <td>10164</td>\n",
              "    </tr>\n",
              "    <tr>\n",
              "      <th>GBR</th>\n",
              "      <td>8610</td>\n",
              "    </tr>\n",
              "    <tr>\n",
              "      <th>ESP</th>\n",
              "      <td>4864</td>\n",
              "    </tr>\n",
              "    <tr>\n",
              "      <th>USA</th>\n",
              "      <td>3398</td>\n",
              "    </tr>\n",
              "    <tr>\n",
              "      <th>ITA</th>\n",
              "      <td>3301</td>\n",
              "    </tr>\n",
              "    <tr>\n",
              "      <th>BEL</th>\n",
              "      <td>3111</td>\n",
              "    </tr>\n",
              "    <tr>\n",
              "      <th>BRA</th>\n",
              "      <td>2710</td>\n",
              "    </tr>\n",
              "    <tr>\n",
              "      <th>NLD</th>\n",
              "      <td>2698</td>\n",
              "    </tr>\n",
              "    <tr>\n",
              "      <th>CHE</th>\n",
              "      <td>2081</td>\n",
              "    </tr>\n",
              "    <tr>\n",
              "      <th>IRL</th>\n",
              "      <td>1991</td>\n",
              "    </tr>\n",
              "    <tr>\n",
              "      <th>CAN</th>\n",
              "      <td>1514</td>\n",
              "    </tr>\n",
              "    <tr>\n",
              "      <th>AUT</th>\n",
              "      <td>1487</td>\n",
              "    </tr>\n",
              "    <tr>\n",
              "      <th>SWE</th>\n",
              "      <td>1221</td>\n",
              "    </tr>\n",
              "    <tr>\n",
              "      <th>ISR</th>\n",
              "      <td>896</td>\n",
              "    </tr>\n",
              "    <tr>\n",
              "      <th>CHN</th>\n",
              "      <td>873</td>\n",
              "    </tr>\n",
              "    <tr>\n",
              "      <th>NOR</th>\n",
              "      <td>790</td>\n",
              "    </tr>\n",
              "    <tr>\n",
              "      <th>POL</th>\n",
              "      <td>755</td>\n",
              "    </tr>\n",
              "    <tr>\n",
              "      <th>AUS</th>\n",
              "      <td>722</td>\n",
              "    </tr>\n",
              "  </tbody>\n",
              "</table>\n",
              "</div>\n",
              "      <button class=\"colab-df-convert\" onclick=\"convertToInteractive('df-9f377bcb-eefe-4398-8218-c7ab34f64682')\"\n",
              "              title=\"Convert this dataframe to an interactive table.\"\n",
              "              style=\"display:none;\">\n",
              "        \n",
              "  <svg xmlns=\"http://www.w3.org/2000/svg\" height=\"24px\"viewBox=\"0 0 24 24\"\n",
              "       width=\"24px\">\n",
              "    <path d=\"M0 0h24v24H0V0z\" fill=\"none\"/>\n",
              "    <path d=\"M18.56 5.44l.94 2.06.94-2.06 2.06-.94-2.06-.94-.94-2.06-.94 2.06-2.06.94zm-11 1L8.5 8.5l.94-2.06 2.06-.94-2.06-.94L8.5 2.5l-.94 2.06-2.06.94zm10 10l.94 2.06.94-2.06 2.06-.94-2.06-.94-.94-2.06-.94 2.06-2.06.94z\"/><path d=\"M17.41 7.96l-1.37-1.37c-.4-.4-.92-.59-1.43-.59-.52 0-1.04.2-1.43.59L10.3 9.45l-7.72 7.72c-.78.78-.78 2.05 0 2.83L4 21.41c.39.39.9.59 1.41.59.51 0 1.02-.2 1.41-.59l7.78-7.78 2.81-2.81c.8-.78.8-2.07 0-2.86zM5.41 20L4 18.59l7.72-7.72 1.47 1.35L5.41 20z\"/>\n",
              "  </svg>\n",
              "      </button>\n",
              "      \n",
              "  <style>\n",
              "    .colab-df-container {\n",
              "      display:flex;\n",
              "      flex-wrap:wrap;\n",
              "      gap: 12px;\n",
              "    }\n",
              "\n",
              "    .colab-df-convert {\n",
              "      background-color: #E8F0FE;\n",
              "      border: none;\n",
              "      border-radius: 50%;\n",
              "      cursor: pointer;\n",
              "      display: none;\n",
              "      fill: #1967D2;\n",
              "      height: 32px;\n",
              "      padding: 0 0 0 0;\n",
              "      width: 32px;\n",
              "    }\n",
              "\n",
              "    .colab-df-convert:hover {\n",
              "      background-color: #E2EBFA;\n",
              "      box-shadow: 0px 1px 2px rgba(60, 64, 67, 0.3), 0px 1px 3px 1px rgba(60, 64, 67, 0.15);\n",
              "      fill: #174EA6;\n",
              "    }\n",
              "\n",
              "    [theme=dark] .colab-df-convert {\n",
              "      background-color: #3B4455;\n",
              "      fill: #D2E3FC;\n",
              "    }\n",
              "\n",
              "    [theme=dark] .colab-df-convert:hover {\n",
              "      background-color: #434B5C;\n",
              "      box-shadow: 0px 1px 3px 1px rgba(0, 0, 0, 0.15);\n",
              "      filter: drop-shadow(0px 1px 2px rgba(0, 0, 0, 0.3));\n",
              "      fill: #FFFFFF;\n",
              "    }\n",
              "  </style>\n",
              "\n",
              "      <script>\n",
              "        const buttonEl =\n",
              "          document.querySelector('#df-9f377bcb-eefe-4398-8218-c7ab34f64682 button.colab-df-convert');\n",
              "        buttonEl.style.display =\n",
              "          google.colab.kernel.accessAllowed ? 'block' : 'none';\n",
              "\n",
              "        async function convertToInteractive(key) {\n",
              "          const element = document.querySelector('#df-9f377bcb-eefe-4398-8218-c7ab34f64682');\n",
              "          const dataTable =\n",
              "            await google.colab.kernel.invokeFunction('convertToInteractive',\n",
              "                                                     [key], {});\n",
              "          if (!dataTable) return;\n",
              "\n",
              "          const docLinkHtml = 'Like what you see? Visit the ' +\n",
              "            '<a target=\"_blank\" href=https://colab.research.google.com/notebooks/data_table.ipynb>data table notebook</a>'\n",
              "            + ' to learn more about interactive tables.';\n",
              "          element.innerHTML = '';\n",
              "          dataTable['output_type'] = 'display_data';\n",
              "          await google.colab.output.renderOutput(dataTable, element);\n",
              "          const docLink = document.createElement('div');\n",
              "          docLink.innerHTML = docLinkHtml;\n",
              "          element.appendChild(docLink);\n",
              "        }\n",
              "      </script>\n",
              "    </div>\n",
              "  </div>\n",
              "  "
            ]
          },
          "metadata": {},
          "execution_count": 15
        }
      ]
    },
    {
      "cell_type": "markdown",
      "source": [
        "<h4> Display Nationality they book more than 500 times"
      ],
      "metadata": {
        "id": "o4T6vxcvLwN4"
      }
    },
    {
      "cell_type": "code",
      "source": [
        "Nationality = df['Nationality'].value_counts()\n",
        "Nationality = Nationality[(Nationality.values > 500)]\n",
        "plt.figure(figsize=(15,6))\n",
        "sns.barplot(Nationality.index, Nationality.values)\n",
        "plt.xticks(rotation='vertical')\n",
        "plt.xlabel('Nationality', fontsize=14)\n",
        "plt.ylabel('Number of Nationality', fontsize=14)\n",
        "plt.title(\"Number of Booking with respect to Nationality\", fontsize=16)\n",
        "plt.show()"
      ],
      "metadata": {
        "colab": {
          "base_uri": "https://localhost:8080/",
          "height": 422
        },
        "id": "gH4Sca7Hs0XI",
        "outputId": "4d98be6d-5aa7-4007-8bb4-27dcaabef166"
      },
      "execution_count": 16,
      "outputs": [
        {
          "output_type": "display_data",
          "data": {
            "text/plain": [
              "<Figure size 1080x432 with 1 Axes>"
            ],
            "image/png": "[encoded data removed]"
          },
          "metadata": {
            "needs_background": "light"
          }
        }
      ]
    },
    {
      "cell_type": "code",
      "source": [
        "df['BookingsCheckedIn'].value_counts()"
      ],
      "metadata": {
        "colab": {
          "base_uri": "https://localhost:8080/"
        },
        "id": "FBDQlrijyvt0",
        "outputId": "aeb2dd67-2b5e-4306-8217-af66e2724d0b"
      },
      "execution_count": 17,
      "outputs": [
        {
          "output_type": "execute_result",
          "data": {
            "text/plain": [
              "1     61737\n",
              "0     19394\n",
              "2      1141\n",
              "3       132\n",
              "4        59\n",
              "5        20\n",
              "6        20\n",
              "7        16\n",
              "8        10\n",
              "9         9\n",
              "10        7\n",
              "11        6\n",
              "12        4\n",
              "13        4\n",
              "29        3\n",
              "15        3\n",
              "23        2\n",
              "14        2\n",
              "25        1\n",
              "17        1\n",
              "66        1\n",
              "26        1\n",
              "57        1\n",
              "40        1\n",
              "18        1\n",
              "24        1\n",
              "19        1\n",
              "20        1\n",
              "34        1\n",
              "Name: BookingsCheckedIn, dtype: int64"
            ]
          },
          "metadata": {},
          "execution_count": 17
        }
      ]
    },
    {
      "cell_type": "markdown",
      "source": [
        "count the unique value of BookingsCheckedIn"
      ],
      "metadata": {
        "id": "7xfGObmAL1fI"
      }
    },
    {
      "cell_type": "code",
      "source": [
        "df['BookingsCheckedIn'].value_counts(normalize = True)\n",
        "df['BookingsCheckedIn'].value_counts().plot.bar()\n",
        "plt.title('Different types of BookingsCheckedIn')\n",
        "plt.xlabel('BookingsCheckedIn')\n",
        "plt.ylabel('Number of BookingsCheckedIn')\n",
        "plt.show()"
      ],
      "metadata": {
        "colab": {
          "base_uri": "https://localhost:8080/",
          "height": 298
        },
        "id": "Dn9zeVG5WEEi",
        "outputId": "be9f5918-5412-4740-e676-0c202b21c294"
      },
      "execution_count": 18,
      "outputs": [
        {
          "output_type": "display_data",
          "data": {
            "text/plain": [
              "<Figure size 432x288 with 1 Axes>"
            ],
            "image/png": "[encoded data removed]"
          },
          "metadata": {
            "needs_background": "light"
          }
        }
      ]
    },
    {
      "cell_type": "markdown",
      "source": [
        "count the unique value Age"
      ],
      "metadata": {
        "id": "ziLcZVEUMAxS"
      }
    },
    {
      "cell_type": "code",
      "source": [
        "df['Age'].value_counts()"
      ],
      "metadata": {
        "colab": {
          "base_uri": "https://localhost:8080/"
        },
        "id": "GAsG3UPis0mO",
        "outputId": "eba67599-88d6-47a5-d228-3d04922bb41d"
      },
      "execution_count": 19,
      "outputs": [
        {
          "output_type": "execute_result",
          "data": {
            "text/plain": [
              "50.0     2015\n",
              "51.0     2013\n",
              "54.0     1965\n",
              "53.0     1913\n",
              "49.0     1871\n",
              "         ... \n",
              "110.0       1\n",
              "91.0        1\n",
              "122.0       1\n",
              "96.0        1\n",
              "109.0       1\n",
              "Name: Age, Length: 105, dtype: int64"
            ]
          },
          "metadata": {},
          "execution_count": 19
        }
      ]
    },
    {
      "cell_type": "code",
      "source": [
        "age1 = df['Age'].value_counts()\n",
        "age1 = age1[(age1.values > 1200)]\n",
        "plt.figure(figsize=(15,6))\n",
        "sns.barplot(age1.index, age1.values)\n",
        "plt.xticks(rotation='vertical')\n",
        "plt.xlabel('Age', fontsize=14)\n",
        "plt.ylabel('Number of Booking', fontsize=14)\n",
        "plt.title(\"Number of Booking with respect to Age\", fontsize=16)\n",
        "plt.show()"
      ],
      "metadata": {
        "colab": {
          "base_uri": "https://localhost:8080/",
          "height": 422
        },
        "id": "O6dFdEfgWo8I",
        "outputId": "39c5bfae-5766-43d5-a690-f77a42a01b48"
      },
      "execution_count": 20,
      "outputs": [
        {
          "output_type": "display_data",
          "data": {
            "text/plain": [
              "<Figure size 1080x432 with 1 Axes>"
            ],
            "image/png": "[encoded data removed]"
          },
          "metadata": {
            "needs_background": "light"
          }
        }
      ]
    },
    {
      "cell_type": "markdown",
      "source": [
        "Display Age who book more than 1200"
      ],
      "metadata": {
        "id": "5Xzh5NVXMD6e"
      }
    },
    {
      "cell_type": "code",
      "source": [
        "sns.countplot(x='DistributionChannel', data=df)\n",
        "plt.rcParams['figure.figsize'] = (6,6)\n",
        "plt.xticks(rotation=90)\n",
        "#show the plot using 'plt.show()'\n",
        "plt.show()"
      ],
      "metadata": {
        "colab": {
          "base_uri": "https://localhost:8080/",
          "height": 381
        },
        "id": "79OWsl4E1Nfb",
        "outputId": "33addf14-ff3e-4cdf-a860-83146a420dee"
      },
      "execution_count": 21,
      "outputs": [
        {
          "output_type": "display_data",
          "data": {
            "text/plain": [
              "<Figure size 432x288 with 1 Axes>"
            ],
            "image/png": "[encoded data removed]"
          },
          "metadata": {
            "needs_background": "light"
          }
        }
      ]
    },
    {
      "cell_type": "markdown",
      "source": [
        "plot the DistributionChannel"
      ],
      "metadata": {
        "id": "awkr80gpMPJq"
      }
    },
    {
      "cell_type": "code",
      "source": [
        "sns.countplot(x='MarketSegment', data=df)\n",
        "plt.rcParams['figure.figsize'] = (10,10)\n",
        "plt.xticks(rotation=90)\n",
        "#show the plot using 'plt.show()'\n",
        "plt.show()"
      ],
      "metadata": {
        "colab": {
          "base_uri": "https://localhost:8080/",
          "height": 488
        },
        "id": "TL6Ve1VY13cx",
        "outputId": "ea0dd4ce-ddd9-4c87-8000-2c217d2e1e2e"
      },
      "execution_count": 22,
      "outputs": [
        {
          "output_type": "display_data",
          "data": {
            "text/plain": [
              "<Figure size 432x432 with 1 Axes>"
            ],
            "image/png": "[encoded data removed]"
          },
          "metadata": {
            "needs_background": "light"
          }
        }
      ]
    },
    {
      "cell_type": "markdown",
      "source": [
        "plot the MarketSegment"
      ],
      "metadata": {
        "id": "GYI9Y3hGMV36"
      }
    },
    {
      "cell_type": "code",
      "source": [
        "sns.countplot(x='MarketSegment', data=df, hue='BookingsCheckedIn', palette='magma')\n",
        "plt.rcParams['figure.figsize'] = (20,6)\n",
        "plt.xticks(rotation=90)\n",
        "plt.title('Market segment from both BookingsCheckedIn')\n",
        "plt.show()"
      ],
      "metadata": {
        "colab": {
          "base_uri": "https://localhost:8080/",
          "height": 722
        },
        "id": "tDWmHfM21-mA",
        "outputId": "10cbfe95-40b9-46e6-f527-da768f26a102"
      },
      "execution_count": 23,
      "outputs": [
        {
          "output_type": "display_data",
          "data": {
            "text/plain": [
              "<Figure size 720x720 with 1 Axes>"
            ],
            "image/png": "[encoded data removed]"
          },
          "metadata": {
            "needs_background": "light"
          }
        }
      ]
    },
    {
      "cell_type": "markdown",
      "source": [
        "check the analysis of both BookingCheckin and Market segment"
      ],
      "metadata": {
        "id": "HEHDWrO-Md8G"
      }
    },
    {
      "cell_type": "code",
      "source": [
        "sns.countplot(x='DistributionChannel', data=df, hue='BookingsCheckedIn', palette='magma')\n",
        "plt.rcParams['figure.figsize'] = (10,4)\n",
        "plt.xticks(rotation=90)\n",
        "plt.title('DistributionChannel from both BookingsCheckedIn')\n",
        "plt.show()"
      ],
      "metadata": {
        "colab": {
          "base_uri": "https://localhost:8080/",
          "height": 621
        },
        "id": "6LH8F0uq1-q4",
        "outputId": "97b60f83-f3d2-4a48-d848-3eccaf6cd828"
      },
      "execution_count": 24,
      "outputs": [
        {
          "output_type": "display_data",
          "data": {
            "text/plain": [
              "<Figure size 1440x432 with 1 Axes>"
            ],
            "image/png": "[encoded data removed]"
          },
          "metadata": {
            "needs_background": "light"
          }
        }
      ]
    },
    {
      "cell_type": "markdown",
      "source": [
        "check the analysis of DistributionChannel from both BookingsCheckedIn"
      ],
      "metadata": {
        "id": "qBNOVEvGMu90"
      }
    },
    {
      "cell_type": "code",
      "source": [
        "sns.countplot(x='SRKingSizeBed', data=df)\n",
        "#show the plot using 'plt.show()'\n",
        "plt.show()"
      ],
      "metadata": {
        "colab": {
          "base_uri": "https://localhost:8080/",
          "height": 279
        },
        "id": "rBN2CWIe3qQO",
        "outputId": "449e0423-2681-47ed-8faa-15ebf5759bd4"
      },
      "execution_count": 25,
      "outputs": [
        {
          "output_type": "display_data",
          "data": {
            "text/plain": [
              "<Figure size 720x288 with 1 Axes>"
            ],
            "image/png": "[encoded data removed]"
          },
          "metadata": {
            "needs_background": "light"
          }
        }
      ]
    },
    {
      "cell_type": "markdown",
      "source": [
        "plot who book King size bed"
      ],
      "metadata": {
        "id": "8mLF5-WNNMoC"
      }
    },
    {
      "cell_type": "code",
      "source": [
        "sns.countplot(x='RoomNights', data=df)\n",
        "#show the plot using 'plt.show()'\n",
        "plt.show()"
      ],
      "metadata": {
        "colab": {
          "base_uri": "https://localhost:8080/",
          "height": 279
        },
        "id": "KWLzUCxm3qTx",
        "outputId": "2458d41e-a73b-4a17-c0f1-71acebc10328"
      },
      "execution_count": 26,
      "outputs": [
        {
          "output_type": "display_data",
          "data": {
            "text/plain": [
              "<Figure size 720x288 with 1 Axes>"
            ],
            "image/png": "[encoded data removed]"
          },
          "metadata": {
            "needs_background": "light"
          }
        }
      ]
    },
    {
      "cell_type": "markdown",
      "source": [
        "plot number of rooms"
      ],
      "metadata": {
        "id": "5tKUrCKuNVK3"
      }
    },
    {
      "cell_type": "code",
      "source": [
        "sns.countplot(x='PersonsNights', data=df)\n",
        "#show the plot using 'plt.show()'\n",
        "plt.show()"
      ],
      "metadata": {
        "colab": {
          "base_uri": "https://localhost:8080/",
          "height": 279
        },
        "id": "tnn3Mp4r3qXL",
        "outputId": "c572d40d-bced-4d92-9f55-43a05334ed90"
      },
      "execution_count": 27,
      "outputs": [
        {
          "output_type": "display_data",
          "data": {
            "text/plain": [
              "<Figure size 720x288 with 1 Axes>"
            ],
            "image/png": "[encoded data removed]"
          },
          "metadata": {
            "needs_background": "light"
          }
        }
      ]
    },
    {
      "cell_type": "markdown",
      "source": [
        "plot number of person night"
      ],
      "metadata": {
        "id": "NcB_cDqhNa36"
      }
    },
    {
      "cell_type": "code",
      "source": [
        "sns.countplot(x='SRHighFloor', data=df)\n",
        "plt.show()"
      ],
      "metadata": {
        "colab": {
          "base_uri": "https://localhost:8080/",
          "height": 279
        },
        "id": "3oaLoWY1Fo1Y",
        "outputId": "8ce9f2e4-64df-4bf3-b614-997f690d402e"
      },
      "execution_count": 28,
      "outputs": [
        {
          "output_type": "display_data",
          "data": {
            "text/plain": [
              "<Figure size 720x288 with 1 Axes>"
            ],
            "image/png": "[encoded data removed]"
          },
          "metadata": {
            "needs_background": "light"
          }
        }
      ]
    },
    {
      "cell_type": "code",
      "source": [
        "sns.countplot(x='SRLowFloor', data=df)\n",
        "plt.show()"
      ],
      "metadata": {
        "colab": {
          "base_uri": "https://localhost:8080/",
          "height": 279
        },
        "id": "TWX5UdkqFo52",
        "outputId": "cad51165-f2b7-4ec1-f781-6475727186bb"
      },
      "execution_count": 29,
      "outputs": [
        {
          "output_type": "display_data",
          "data": {
            "text/plain": [
              "<Figure size 720x288 with 1 Axes>"
            ],
            "image/png": "[encoded data removed]"
          },
          "metadata": {
            "needs_background": "light"
          }
        }
      ]
    },
    {
      "cell_type": "code",
      "source": [
        "sns.countplot(x='SRMediumFloor', data=df)\n",
        "plt.show()"
      ],
      "metadata": {
        "colab": {
          "base_uri": "https://localhost:8080/",
          "height": 279
        },
        "id": "rMi6x5bo3qdv",
        "outputId": "6c70186d-87c4-4da4-8482-12737bcce0df"
      },
      "execution_count": 30,
      "outputs": [
        {
          "output_type": "display_data",
          "data": {
            "text/plain": [
              "<Figure size 720x288 with 1 Axes>"
            ],
            "image/png": "[encoded data removed]"
          },
          "metadata": {
            "needs_background": "light"
          }
        }
      ]
    },
    {
      "cell_type": "code",
      "source": [
        "sns.countplot(x='SRAccessibleRoom', data=df)\n",
        "#show the plot using 'plt.show()'\n",
        "plt.show()"
      ],
      "metadata": {
        "colab": {
          "base_uri": "https://localhost:8080/",
          "height": 279
        },
        "id": "xIpwmuzJF0s3",
        "outputId": "eb1047e9-4703-4b78-d087-8b5ac2e2572b"
      },
      "execution_count": 31,
      "outputs": [
        {
          "output_type": "display_data",
          "data": {
            "text/plain": [
              "<Figure size 720x288 with 1 Axes>"
            ],
            "image/png": "[encoded data removed]"
          },
          "metadata": {
            "needs_background": "light"
          }
        }
      ]
    },
    {
      "cell_type": "code",
      "source": [
        "sns.countplot(x='SRNoAlcoholInMiniBar', data=df)\n",
        "#show the plot using 'plt.show()'\n",
        "plt.show()"
      ],
      "metadata": {
        "colab": {
          "base_uri": "https://localhost:8080/",
          "height": 279
        },
        "id": "PJSA_fw5F0v8",
        "outputId": "a4efb04b-aac9-4096-ca9f-b758122d6356"
      },
      "execution_count": 32,
      "outputs": [
        {
          "output_type": "display_data",
          "data": {
            "text/plain": [
              "<Figure size 720x288 with 1 Axes>"
            ],
            "image/png": "[encoded data removed]"
          },
          "metadata": {
            "needs_background": "light"
          }
        }
      ]
    },
    {
      "cell_type": "code",
      "source": [
        "sns.countplot(x='SRQuietRoom', data=df)\n",
        "#show the plot using 'plt.show()'\n",
        "plt.show()"
      ],
      "metadata": {
        "colab": {
          "base_uri": "https://localhost:8080/",
          "height": 279
        },
        "id": "oTjGXRH_GOT4",
        "outputId": "134c1d8b-28d1-47fc-d6bc-4a68cd404b1b"
      },
      "execution_count": 33,
      "outputs": [
        {
          "output_type": "display_data",
          "data": {
            "text/plain": [
              "<Figure size 720x288 with 1 Axes>"
            ],
            "image/png": "[encoded data removed]"
          },
          "metadata": {
            "needs_background": "light"
          }
        }
      ]
    },
    {
      "cell_type": "code",
      "source": [
        ""
      ],
      "metadata": {
        "id": "91tbVeLRGOWr"
      },
      "execution_count": 33,
      "outputs": []
    },
    {
      "cell_type": "code",
      "source": [
        ""
      ],
      "metadata": {
        "id": "s7oGx6uZGOaC"
      },
      "execution_count": 33,
      "outputs": []
    },
    {
      "cell_type": "code",
      "source": [
        ""
      ],
      "metadata": {
        "id": "nGeI0L1xGOco"
      },
      "execution_count": 33,
      "outputs": []
    },
    {
      "cell_type": "markdown",
      "source": [
        "<h2>Data Cleaning And Feature Engineering"
      ],
      "metadata": {
        "id": "PRVmBs8rXT9h"
      }
    },
    {
      "cell_type": "code",
      "source": [
        "data.head()"
      ],
      "metadata": {
        "colab": {
          "base_uri": "https://localhost:8080/",
          "height": 300
        },
        "id": "k7440rn5X51W",
        "outputId": "7e42225d-7dee-4634-c5e5-dc7f51599e8d"
      },
      "execution_count": 34,
      "outputs": [
        {
          "output_type": "execute_result",
          "data": {
            "text/plain": [
              "   ID Nationality   Age  DaysSinceCreation  AverageLeadTime  LodgingRevenue  \\\n",
              "0   1         PRT  51.0                150               45           371.0   \n",
              "1   2         PRT   NaN               1095               61           280.0   \n",
              "2   3         DEU  31.0               1095                0             0.0   \n",
              "3   4         FRA  60.0               1095               93           240.0   \n",
              "4   5         FRA  51.0               1095                0             0.0   \n",
              "\n",
              "   OtherRevenue  BookingsCanceled  BookingsNoShowed  BookingsCheckedIn  ...  \\\n",
              "0         105.3                 1                 0                  3  ...   \n",
              "1          53.0                 0                 0                  1  ...   \n",
              "2           0.0                 0                 0                  0  ...   \n",
              "3          60.0                 0                 0                  1  ...   \n",
              "4           0.0                 0                 0                  0  ...   \n",
              "\n",
              "   SRBathtub  SRShower  SRCrib  SRKingSizeBed SRTwinBed SRNearElevator  \\\n",
              "0          0         0       0              0         0              0   \n",
              "1          0         0       0              0         0              0   \n",
              "2          0         0       0              0         0              0   \n",
              "3          0         0       0              0         0              0   \n",
              "4          0         0       0              0         0              0   \n",
              "\n",
              "   SRAwayFromElevator  SRNoAlcoholInMiniBar  SRQuietRoom  source  \n",
              "0                   0                     0            0   train  \n",
              "1                   0                     0            0   train  \n",
              "2                   0                     0            0   train  \n",
              "3                   0                     0            0   train  \n",
              "4                   0                     0            0   train  \n",
              "\n",
              "[5 rows x 30 columns]"
            ],
            "text/html": [
              "\n",
              "  <div id=\"df-dde6ef52-0c27-4eeb-8225-ec421bab434c\">\n",
              "    <div class=\"colab-df-container\">\n",
              "      <div>\n",
              "<style scoped>\n",
              "    .dataframe tbody tr th:only-of-type {\n",
              "        vertical-align: middle;\n",
              "    }\n",
              "\n",
              "    .dataframe tbody tr th {\n",
              "        vertical-align: top;\n",
              "    }\n",
              "\n",
              "    .dataframe thead th {\n",
              "        text-align: right;\n",
              "    }\n",
              "</style>\n",
              "<table border=\"1\" class=\"dataframe\">\n",
              "  <thead>\n",
              "    <tr style=\"text-align: right;\">\n",
              "      <th></th>\n",
              "      <th>ID</th>\n",
              "      <th>Nationality</th>\n",
              "      <th>Age</th>\n",
              "      <th>DaysSinceCreation</th>\n",
              "      <th>AverageLeadTime</th>\n",
              "      <th>LodgingRevenue</th>\n",
              "      <th>OtherRevenue</th>\n",
              "      <th>BookingsCanceled</th>\n",
              "      <th>BookingsNoShowed</th>\n",
              "      <th>BookingsCheckedIn</th>\n",
              "      <th>...</th>\n",
              "      <th>SRBathtub</th>\n",
              "      <th>SRShower</th>\n",
              "      <th>SRCrib</th>\n",
              "      <th>SRKingSizeBed</th>\n",
              "      <th>SRTwinBed</th>\n",
              "      <th>SRNearElevator</th>\n",
              "      <th>SRAwayFromElevator</th>\n",
              "      <th>SRNoAlcoholInMiniBar</th>\n",
              "      <th>SRQuietRoom</th>\n",
              "      <th>source</th>\n",
              "    </tr>\n",
              "  </thead>\n",
              "  <tbody>\n",
              "    <tr>\n",
              "      <th>0</th>\n",
              "      <td>1</td>\n",
              "      <td>PRT</td>\n",
              "      <td>51.0</td>\n",
              "      <td>150</td>\n",
              "      <td>45</td>\n",
              "      <td>371.0</td>\n",
              "      <td>105.3</td>\n",
              "      <td>1</td>\n",
              "      <td>0</td>\n",
              "      <td>3</td>\n",
              "      <td>...</td>\n",
              "      <td>0</td>\n",
              "      <td>0</td>\n",
              "      <td>0</td>\n",
              "      <td>0</td>\n",
              "      <td>0</td>\n",
              "      <td>0</td>\n",
              "      <td>0</td>\n",
              "      <td>0</td>\n",
              "      <td>0</td>\n",
              "      <td>train</td>\n",
              "    </tr>\n",
              "    <tr>\n",
              "      <th>1</th>\n",
              "      <td>2</td>\n",
              "      <td>PRT</td>\n",
              "      <td>NaN</td>\n",
              "      <td>1095</td>\n",
              "      <td>61</td>\n",
              "      <td>280.0</td>\n",
              "      <td>53.0</td>\n",
              "      <td>0</td>\n",
              "      <td>0</td>\n",
              "      <td>1</td>\n",
              "      <td>...</td>\n",
              "      <td>0</td>\n",
              "      <td>0</td>\n",
              "      <td>0</td>\n",
              "      <td>0</td>\n",
              "      <td>0</td>\n",
              "      <td>0</td>\n",
              "      <td>0</td>\n",
              "      <td>0</td>\n",
              "      <td>0</td>\n",
              "      <td>train</td>\n",
              "    </tr>\n",
              "    <tr>\n",
              "      <th>2</th>\n",
              "      <td>3</td>\n",
              "      <td>DEU</td>\n",
              "      <td>31.0</td>\n",
              "      <td>1095</td>\n",
              "      <td>0</td>\n",
              "      <td>0.0</td>\n",
              "      <td>0.0</td>\n",
              "      <td>0</td>\n",
              "      <td>0</td>\n",
              "      <td>0</td>\n",
              "      <td>...</td>\n",
              "      <td>0</td>\n",
              "      <td>0</td>\n",
              "      <td>0</td>\n",
              "      <td>0</td>\n",
              "      <td>0</td>\n",
              "      <td>0</td>\n",
              "      <td>0</td>\n",
              "      <td>0</td>\n",
              "      <td>0</td>\n",
              "      <td>train</td>\n",
              "    </tr>\n",
              "    <tr>\n",
              "      <th>3</th>\n",
              "      <td>4</td>\n",
              "      <td>FRA</td>\n",
              "      <td>60.0</td>\n",
              "      <td>1095</td>\n",
              "      <td>93</td>\n",
              "      <td>240.0</td>\n",
              "      <td>60.0</td>\n",
              "      <td>0</td>\n",
              "      <td>0</td>\n",
              "      <td>1</td>\n",
              "      <td>...</td>\n",
              "      <td>0</td>\n",
              "      <td>0</td>\n",
              "      <td>0</td>\n",
              "      <td>0</td>\n",
              "      <td>0</td>\n",
              "      <td>0</td>\n",
              "      <td>0</td>\n",
              "      <td>0</td>\n",
              "      <td>0</td>\n",
              "      <td>train</td>\n",
              "    </tr>\n",
              "    <tr>\n",
              "      <th>4</th>\n",
              "      <td>5</td>\n",
              "      <td>FRA</td>\n",
              "      <td>51.0</td>\n",
              "      <td>1095</td>\n",
              "      <td>0</td>\n",
              "      <td>0.0</td>\n",
              "      <td>0.0</td>\n",
              "      <td>0</td>\n",
              "      <td>0</td>\n",
              "      <td>0</td>\n",
              "      <td>...</td>\n",
              "      <td>0</td>\n",
              "      <td>0</td>\n",
              "      <td>0</td>\n",
              "      <td>0</td>\n",
              "      <td>0</td>\n",
              "      <td>0</td>\n",
              "      <td>0</td>\n",
              "      <td>0</td>\n",
              "      <td>0</td>\n",
              "      <td>train</td>\n",
              "    </tr>\n",
              "  </tbody>\n",
              "</table>\n",
              "<p>5 rows × 30 columns</p>\n",
              "</div>\n",
              "      <button class=\"colab-df-convert\" onclick=\"convertToInteractive('df-dde6ef52-0c27-4eeb-8225-ec421bab434c')\"\n",
              "              title=\"Convert this dataframe to an interactive table.\"\n",
              "              style=\"display:none;\">\n",
              "        \n",
              "  <svg xmlns=\"http://www.w3.org/2000/svg\" height=\"24px\"viewBox=\"0 0 24 24\"\n",
              "       width=\"24px\">\n",
              "    <path d=\"M0 0h24v24H0V0z\" fill=\"none\"/>\n",
              "    <path d=\"M18.56 5.44l.94 2.06.94-2.06 2.06-.94-2.06-.94-.94-2.06-.94 2.06-2.06.94zm-11 1L8.5 8.5l.94-2.06 2.06-.94-2.06-.94L8.5 2.5l-.94 2.06-2.06.94zm10 10l.94 2.06.94-2.06 2.06-.94-2.06-.94-.94-2.06-.94 2.06-2.06.94z\"/><path d=\"M17.41 7.96l-1.37-1.37c-.4-.4-.92-.59-1.43-.59-.52 0-1.04.2-1.43.59L10.3 9.45l-7.72 7.72c-.78.78-.78 2.05 0 2.83L4 21.41c.39.39.9.59 1.41.59.51 0 1.02-.2 1.41-.59l7.78-7.78 2.81-2.81c.8-.78.8-2.07 0-2.86zM5.41 20L4 18.59l7.72-7.72 1.47 1.35L5.41 20z\"/>\n",
              "  </svg>\n",
              "      </button>\n",
              "      \n",
              "  <style>\n",
              "    .colab-df-container {\n",
              "      display:flex;\n",
              "      flex-wrap:wrap;\n",
              "      gap: 12px;\n",
              "    }\n",
              "\n",
              "    .colab-df-convert {\n",
              "      background-color: #E8F0FE;\n",
              "      border: none;\n",
              "      border-radius: 50%;\n",
              "      cursor: pointer;\n",
              "      display: none;\n",
              "      fill: #1967D2;\n",
              "      height: 32px;\n",
              "      padding: 0 0 0 0;\n",
              "      width: 32px;\n",
              "    }\n",
              "\n",
              "    .colab-df-convert:hover {\n",
              "      background-color: #E2EBFA;\n",
              "      box-shadow: 0px 1px 2px rgba(60, 64, 67, 0.3), 0px 1px 3px 1px rgba(60, 64, 67, 0.15);\n",
              "      fill: #174EA6;\n",
              "    }\n",
              "\n",
              "    [theme=dark] .colab-df-convert {\n",
              "      background-color: #3B4455;\n",
              "      fill: #D2E3FC;\n",
              "    }\n",
              "\n",
              "    [theme=dark] .colab-df-convert:hover {\n",
              "      background-color: #434B5C;\n",
              "      box-shadow: 0px 1px 3px 1px rgba(0, 0, 0, 0.15);\n",
              "      filter: drop-shadow(0px 1px 2px rgba(0, 0, 0, 0.3));\n",
              "      fill: #FFFFFF;\n",
              "    }\n",
              "  </style>\n",
              "\n",
              "      <script>\n",
              "        const buttonEl =\n",
              "          document.querySelector('#df-dde6ef52-0c27-4eeb-8225-ec421bab434c button.colab-df-convert');\n",
              "        buttonEl.style.display =\n",
              "          google.colab.kernel.accessAllowed ? 'block' : 'none';\n",
              "\n",
              "        async function convertToInteractive(key) {\n",
              "          const element = document.querySelector('#df-dde6ef52-0c27-4eeb-8225-ec421bab434c');\n",
              "          const dataTable =\n",
              "            await google.colab.kernel.invokeFunction('convertToInteractive',\n",
              "                                                     [key], {});\n",
              "          if (!dataTable) return;\n",
              "\n",
              "          const docLinkHtml = 'Like what you see? Visit the ' +\n",
              "            '<a target=\"_blank\" href=https://colab.research.google.com/notebooks/data_table.ipynb>data table notebook</a>'\n",
              "            + ' to learn more about interactive tables.';\n",
              "          element.innerHTML = '';\n",
              "          dataTable['output_type'] = 'display_data';\n",
              "          await google.colab.output.renderOutput(dataTable, element);\n",
              "          const docLink = document.createElement('div');\n",
              "          docLink.innerHTML = docLinkHtml;\n",
              "          element.appendChild(docLink);\n",
              "        }\n",
              "      </script>\n",
              "    </div>\n",
              "  </div>\n",
              "  "
            ]
          },
          "metadata": {},
          "execution_count": 34
        }
      ]
    },
    {
      "cell_type": "code",
      "source": [
        "data.info()"
      ],
      "metadata": {
        "colab": {
          "base_uri": "https://localhost:8080/"
        },
        "id": "jXMxIoxXaK9a",
        "outputId": "24737b21-4791-48f1-efab-c6a28ab01cc2"
      },
      "execution_count": 35,
      "outputs": [
        {
          "output_type": "stream",
          "name": "stdout",
          "text": [
            "<class 'pandas.core.frame.DataFrame'>\n",
            "RangeIndex: 83580 entries, 0 to 83579\n",
            "Data columns (total 30 columns):\n",
            " #   Column                Non-Null Count  Dtype  \n",
            "---  ------                --------------  -----  \n",
            " 0   ID                    83580 non-null  int64  \n",
            " 1   Nationality           83580 non-null  object \n",
            " 2   Age                   79801 non-null  float64\n",
            " 3   DaysSinceCreation     83580 non-null  int64  \n",
            " 4   AverageLeadTime       83580 non-null  int64  \n",
            " 5   LodgingRevenue        83580 non-null  float64\n",
            " 6   OtherRevenue          83580 non-null  float64\n",
            " 7   BookingsCanceled      83580 non-null  int64  \n",
            " 8   BookingsNoShowed      83580 non-null  int64  \n",
            " 9   BookingsCheckedIn     83580 non-null  int64  \n",
            " 10  PersonsNights         83580 non-null  int64  \n",
            " 11  RoomNights            83580 non-null  int64  \n",
            " 12  DaysSinceLastStay     83580 non-null  int64  \n",
            " 13  DaysSinceFirstStay    83580 non-null  int64  \n",
            " 14  DistributionChannel   83580 non-null  object \n",
            " 15  MarketSegment         83580 non-null  object \n",
            " 16  SRHighFloor           83580 non-null  int64  \n",
            " 17  SRLowFloor            83580 non-null  int64  \n",
            " 18  SRAccessibleRoom      83580 non-null  int64  \n",
            " 19  SRMediumFloor         83580 non-null  int64  \n",
            " 20  SRBathtub             83580 non-null  int64  \n",
            " 21  SRShower              83580 non-null  int64  \n",
            " 22  SRCrib                83580 non-null  int64  \n",
            " 23  SRKingSizeBed         83580 non-null  int64  \n",
            " 24  SRTwinBed             83580 non-null  int64  \n",
            " 25  SRNearElevator        83580 non-null  int64  \n",
            " 26  SRAwayFromElevator    83580 non-null  int64  \n",
            " 27  SRNoAlcoholInMiniBar  83580 non-null  int64  \n",
            " 28  SRQuietRoom           83580 non-null  int64  \n",
            " 29  source                83580 non-null  object \n",
            "dtypes: float64(3), int64(23), object(4)\n",
            "memory usage: 19.1+ MB\n"
          ]
        }
      ]
    },
    {
      "cell_type": "code",
      "source": [
        "def uniquevals(col):\n",
        "    print(f'Details of the particular col {col} is : {data[col].unique()}')\n",
        "    \n",
        "def valuecounts(col):\n",
        "    print(f'Valuecounts of the particular col {col} is : {data[col].value_counts()}')\n",
        "\n",
        "    \n",
        "for col in data.columns:\n",
        "    uniquevals(col)\n",
        "    print(\"-\"*100)"
      ],
      "metadata": {
        "colab": {
          "base_uri": "https://localhost:8080/"
        },
        "id": "SpBNByMoaLAI",
        "outputId": "42ce1fc5-3a29-4712-c1ba-d98d598b606a"
      },
      "execution_count": 36,
      "outputs": [
        {
          "output_type": "stream",
          "name": "stdout",
          "text": [
            "Details of the particular col ID is : [    1     2     3 ... 83588 83589 83590]\n",
            "----------------------------------------------------------------------------------------------------\n",
            "Details of the particular col Nationality is : ['PRT' 'DEU' 'FRA' 'JPN' 'IRL' 'ESP' 'BEL' 'NLD' 'AUT' 'ITA' 'CHN' 'RUS'\n",
            " 'POL' 'USA' 'HUN' 'CRI' 'MEX' 'CHE' 'ROU' 'GBR' 'BIH' 'BRA' 'FIN' 'AGO'\n",
            " 'CAN' 'ZAF' 'TWN' 'GRC' 'AUS' 'ISR' 'BGR' 'SAU' 'SWE' 'CYP' 'ARG' 'ARM'\n",
            " 'CHL' 'MAR' 'MOZ' 'KOR' 'TUN' 'DNK' 'NOR' 'MYS' 'EGY' 'IND' 'HRV' 'CPV'\n",
            " 'JOR' 'COD' 'DZA' 'LUX' 'TUR' 'IRN' 'LBY' 'PAN' 'COL' 'VEN' 'GNB' 'CZE'\n",
            " 'AND' 'SVN' 'PER' 'ATF' 'UGA' 'AZE' 'NZL' 'LTU' 'SRB' 'EST' 'KAZ' 'KWT'\n",
            " 'IDN' 'UKR' 'SVK' 'MLI' 'ARE' 'BGD' 'THA' 'TZA' 'LVA' 'PHL' 'BHR' 'NAM'\n",
            " 'BOL' 'SGP' 'CMR' 'MLT' 'URY' 'PAK' 'JAM' 'ECU' 'SYC' 'QAT' 'PRY' 'BRB'\n",
            " 'OMN' 'TMP' 'ABW' 'LBN' 'AIA' 'SLV' 'DMA' 'CUB' 'VNM' 'GEO' 'IRQ' 'GAB'\n",
            " 'PYF' 'LIE' 'SEN' 'BLR' 'ISL' 'DOM' 'GUY' 'LCA' 'ATA' 'NGA' 'RWA' 'CIV'\n",
            " 'ALB' 'MKD' 'MNE' 'GTM' 'GHA' 'MDV' 'MCO' 'MUS' 'SYR' 'TGO' 'LKA' 'SUR'\n",
            " 'KEN' 'MRT' 'HKG' 'CAF' 'NCL' 'STP' 'UZB' 'KIR' 'SDN' 'PRI' 'KNA' 'TJK'\n",
            " 'SLE' 'LAO' 'COM' 'ETH' 'FRO' 'BEN' 'ZWE' 'ASM' 'BWA' 'ERI' 'SPM' 'JEY'\n",
            " 'GNQ' 'MDG' 'GIN' 'NIC' 'SWZ' 'CYM' 'SOM' 'ATG' 'KGZ' 'FLK' 'GIB' 'BHS'\n",
            " 'SMR' 'UMI' 'HTI' 'TKM' 'PNG' 'MMR' 'WLF' 'WSM' 'IOT' 'VIR' 'NRU' 'MWI'\n",
            " 'VCT' 'GUF' 'PCN' 'FJI' 'TON' 'TCD' 'YEM' 'NPL']\n",
            "----------------------------------------------------------------------------------------------------\n",
            "Details of the particular col Age is : [ 51.  nan  31.  60.  54.  49.  32.  42.  25.  27.  58.  56.  57.  68.\n",
            "  72.  71.  24.  26.  50.  52.  36.  64.  65.  47.  67.  39.  41.  43.\n",
            "   3.  63.  30.  28.  18.  53.  48.  17.  38.  40.  59.  13.  61.  69.\n",
            "  55.  70.  34.  66.  82.  35.   6.  62.  45.  37.  29.  10.   8.   7.\n",
            "   4.  44.   9.  33.   5.  46.  20.  14.  74.  11.  73.   1.  22.  19.\n",
            "  78.  77.  21.  76.  75.  15.  83.  12.  23.  80.  79.  16.  -7.  81.\n",
            " 114.  84.  -9.  85.  87. -11.  89.  91.  88.  86. -10.  -6.  -1. 110.\n",
            "   2.  92. 113.  90.   0. 122.  96. 109.]\n",
            "----------------------------------------------------------------------------------------------------\n",
            "Details of the particular col DaysSinceCreation is : [ 150 1095 1094 ...    2    1    0]\n",
            "----------------------------------------------------------------------------------------------------\n",
            "Details of the particular col AverageLeadTime is : [ 45  61   0  93  58  38  96  60  87  11 109  63   2  95   7  94   1  85\n",
            "  78  13  67  65  80  98  97  57   6  72  70 103  49  86  41  69  89  59\n",
            "  99  43  52  68  10  71  81  46  84  55  75  54  50  29  77  40  18  42\n",
            "  91  28  27  44  23 101   3  56  83  39  66   4  31  12  24 102  33  32\n",
            "  25  20   5  35 106  21  30  73   9  16  48  36  79  17  34  64  62   8\n",
            "  47  15  53  14 105  88  22 129 137  92  51  19 132  26 128 139  76  74\n",
            " 121 126 111 147 100  37 152 115 116  90 117 118 158 114 162 133 108 167\n",
            " 164 161 107 150 119 149 124 145 113 110 157 112 130 151 131 134 122 176\n",
            " 177 127 156 189 138 143 185 136  82 140 123 135 165 191 120 159 170 195\n",
            " 163 154 199 125 141 197 194 186 166 148 198 169 168 144 209 104 208 216\n",
            " 142 222 210 180 201 226 153 184 215 190 228 183 181 230 196 212 217 248\n",
            " 233 249 211 192 255 146 188 220 213 200 247 203 240 231 207 206 256 155\n",
            " 243 238 251 160 224 265 235 273 241 172 174 218 171 239 232 225 221 229\n",
            " 173 179 254 178 193 269 283 175 261 257 250 278 187 182 292 259 285 237\n",
            " 295 202 296 242 301 409 272 274 280 236 268 302 205 214 306 219 307 320\n",
            " 303 258 304 287 204 330 317 308 227 234 277 246 346 245 252 288 318 315\n",
            " 253 359 362 286 271 291 244 299 294 276 336 332 328 223 281 305 349 260\n",
            " 338 262 266 279 335 377 326 284 386 267 290 275 311 282 313 270 345 300\n",
            " 298 350 297 355 353 352 356 334 310 343 342 322 321  -1 348 337 309 340\n",
            " 289 324 327 329 395 394 341 293 344 312 408 434 358 357 423 422 364 448\n",
            " 396 263 351 367 368 462 405 314 414 451 459 316 476 264 381 465 464 463\n",
            " 331 468 479 478 504 457 518 323 325 425 426 424 319 361 521 546 455 469\n",
            " 467 454 535 533 542 543 541 384 508 549 574 483 517 588 474 339 347 333\n",
            " 382 403 494 431]\n",
            "----------------------------------------------------------------------------------------------------\n",
            "Details of the particular col LodgingRevenue is : [371.  280.    0.  ... 336.9 327.1 981.3]\n",
            "----------------------------------------------------------------------------------------------------\n",
            "Details of the particular col OtherRevenue is : [ 105.3   53.     0.  ... 1139.5  446.5  209.1]\n",
            "----------------------------------------------------------------------------------------------------\n",
            "Details of the particular col BookingsCanceled is : [1 0 3 2 4 9]\n",
            "----------------------------------------------------------------------------------------------------\n",
            "Details of the particular col BookingsNoShowed is : [0 1 2 3]\n",
            "----------------------------------------------------------------------------------------------------\n",
            "Details of the particular col BookingsCheckedIn is : [ 3  1  0  9  2 11 12  7  8  5  6  4 66 15 29 25 10 17 13 26 23 57 40 18\n",
            " 14 24 19 20 34]\n",
            "----------------------------------------------------------------------------------------------------\n",
            "Details of the particular col PersonsNights is : [  8  10   0   4   6   3  18   1   2  14  15  12  16   9  22  21  30   5\n",
            "  11  13  20   7  17  19  75  33  62  28  27  24  31  38  26  36  32  35\n",
            "  34  73  48  56  39 116  29  44  41  23  68  49  42  25  52  40  51  45\n",
            "  59  78]\n",
            "----------------------------------------------------------------------------------------------------\n",
            "Details of the particular col RoomNights is : [  5   0   2   3   4  14   1   7   6  11   8  10  18   9  22  17  95  21\n",
            "  16 185  12  13  33  88  31  27  19  15  29  35  30  26  66  37 116  23\n",
            "  34  49  20  40  51  24  28  25  42  59  38  36]\n",
            "----------------------------------------------------------------------------------------------------\n",
            "Details of the particular col DaysSinceLastStay is : [ 151 1100   -1 ...    0    3    1]\n",
            "----------------------------------------------------------------------------------------------------\n",
            "Details of the particular col DaysSinceFirstStay is : [1074 1100   -1 ...    3    2    1]\n",
            "----------------------------------------------------------------------------------------------------\n",
            "Details of the particular col DistributionChannel is : ['Corporate' 'Travel Agent/Operator' 'Direct' 'Electronic Distribution']\n",
            "----------------------------------------------------------------------------------------------------\n",
            "Details of the particular col MarketSegment is : ['Corporate' 'Travel Agent/Operator' 'Other' 'Direct' 'Complementary'\n",
            " 'Groups' 'Aviation']\n",
            "----------------------------------------------------------------------------------------------------\n",
            "Details of the particular col SRHighFloor is : [0 1]\n",
            "----------------------------------------------------------------------------------------------------\n",
            "Details of the particular col SRLowFloor is : [0 1]\n",
            "----------------------------------------------------------------------------------------------------\n",
            "Details of the particular col SRAccessibleRoom is : [0 1]\n",
            "----------------------------------------------------------------------------------------------------\n",
            "Details of the particular col SRMediumFloor is : [0 1]\n",
            "----------------------------------------------------------------------------------------------------\n",
            "Details of the particular col SRBathtub is : [0 1]\n",
            "----------------------------------------------------------------------------------------------------\n",
            "Details of the particular col SRShower is : [0 1]\n",
            "----------------------------------------------------------------------------------------------------\n",
            "Details of the particular col SRCrib is : [0 1]\n",
            "----------------------------------------------------------------------------------------------------\n",
            "Details of the particular col SRKingSizeBed is : [0 1]\n",
            "----------------------------------------------------------------------------------------------------\n",
            "Details of the particular col SRTwinBed is : [0 1]\n",
            "----------------------------------------------------------------------------------------------------\n",
            "Details of the particular col SRNearElevator is : [0 1]\n",
            "----------------------------------------------------------------------------------------------------\n",
            "Details of the particular col SRAwayFromElevator is : [0 1]\n",
            "----------------------------------------------------------------------------------------------------\n",
            "Details of the particular col SRNoAlcoholInMiniBar is : [0 1]\n",
            "----------------------------------------------------------------------------------------------------\n",
            "Details of the particular col SRQuietRoom is : [0 1]\n",
            "----------------------------------------------------------------------------------------------------\n",
            "Details of the particular col source is : ['train' 'test']\n",
            "----------------------------------------------------------------------------------------------------\n"
          ]
        }
      ]
    },
    {
      "cell_type": "markdown",
      "source": [
        "<h4> drop greater than 2 in bookingcheckedin"
      ],
      "metadata": {
        "id": "BTE9drMdNlC3"
      }
    },
    {
      "cell_type": "code",
      "source": [
        "data.drop(data[data['BookingsCheckedIn'] > 2].index, inplace = True)"
      ],
      "metadata": {
        "id": "GfVVN08Q0cYq"
      },
      "execution_count": 37,
      "outputs": []
    },
    {
      "cell_type": "code",
      "source": [
        "data['BookingsCheckedIn'].value_counts()"
      ],
      "metadata": {
        "colab": {
          "base_uri": "https://localhost:8080/"
        },
        "id": "d-ZceK64YV97",
        "outputId": "01e599e8-a7e7-4b11-a2f4-f8d96d01171e"
      },
      "execution_count": 38,
      "outputs": [
        {
          "output_type": "execute_result",
          "data": {
            "text/plain": [
              "1    62210\n",
              "0    19915\n",
              "2     1147\n",
              "Name: BookingsCheckedIn, dtype: int64"
            ]
          },
          "metadata": {},
          "execution_count": 38
        }
      ]
    },
    {
      "cell_type": "code",
      "source": [
        "data = data.drop(data.index[data['BookingsCheckedIn'].isin([2])])"
      ],
      "metadata": {
        "id": "kqMhQWXaY7j7"
      },
      "execution_count": 39,
      "outputs": []
    },
    {
      "cell_type": "code",
      "source": [
        "data['BookingsCheckedIn'].value_counts()"
      ],
      "metadata": {
        "colab": {
          "base_uri": "https://localhost:8080/"
        },
        "id": "JmvjzLhjZYMg",
        "outputId": "4b975e2c-acea-4ab6-824f-25d8ebd1cabe"
      },
      "execution_count": 40,
      "outputs": [
        {
          "output_type": "execute_result",
          "data": {
            "text/plain": [
              "1    62210\n",
              "0    19915\n",
              "Name: BookingsCheckedIn, dtype: int64"
            ]
          },
          "metadata": {},
          "execution_count": 40
        }
      ]
    },
    {
      "cell_type": "code",
      "source": [
        "Bookings = data['BookingsCheckedIn'].value_counts()\n",
        "sns.barplot(Bookings.index, Bookings.values, alpha=1)\n",
        "plt.xticks(rotation='vertical')\n",
        "plt.xlabel('BookingsCheckedIn', fontsize=14)\n",
        "plt.ylabel('Number of BookingsCheckedIn', fontsize=14)\n",
        "plt.title(\"Number of BookingsCheckedIn \", fontsize=16)\n",
        "plt.show()"
      ],
      "metadata": {
        "colab": {
          "base_uri": "https://localhost:8080/",
          "height": 298
        },
        "id": "OFglRfmks0jn",
        "outputId": "b044e390-1de0-416f-a91a-350b85217715"
      },
      "execution_count": 41,
      "outputs": [
        {
          "output_type": "display_data",
          "data": {
            "text/plain": [
              "<Figure size 720x288 with 1 Axes>"
            ],
            "image/png": "[encoded data removed]"
          },
          "metadata": {
            "needs_background": "light"
          }
        }
      ]
    },
    {
      "cell_type": "code",
      "source": [
        ""
      ],
      "metadata": {
        "id": "bGtrkILn4Aaa"
      },
      "execution_count": 41,
      "outputs": []
    },
    {
      "cell_type": "markdown",
      "source": [
        "<h4> Treating Missing Values"
      ],
      "metadata": {
        "id": "Gy9ofRi8cFlH"
      }
    },
    {
      "cell_type": "code",
      "source": [
        "null_value = data.isnull().sum().sort_values(ascending=False)\n",
        "null_value_per = data.isnull().mean().sort_values(ascending=False)*100"
      ],
      "metadata": {
        "id": "2wgfDClJaLEl"
      },
      "execution_count": 42,
      "outputs": []
    },
    {
      "cell_type": "code",
      "source": [
        "null_value_data = pd.DataFrame({\n",
        "    \"Features\" : null_value.index,\n",
        "    \"No.of Missing_Value\" :null_value.values,\n",
        "    \"Percentages of Missing_Value\" : null_value_per.values\n",
        "})\n",
        "null_value_data"
      ],
      "metadata": {
        "colab": {
          "base_uri": "https://localhost:8080/",
          "height": 990
        },
        "id": "vHs-c8IHaqPp",
        "outputId": "2a3aae83-77d0-4c7d-a0a3-9db77bcf5b02"
      },
      "execution_count": 43,
      "outputs": [
        {
          "output_type": "execute_result",
          "data": {
            "text/plain": [
              "                Features  No.of Missing_Value  Percentages of Missing_Value\n",
              "0                    Age                 3673                      4.472451\n",
              "1                     ID                    0                      0.000000\n",
              "2            SRHighFloor                    0                      0.000000\n",
              "3            SRQuietRoom                    0                      0.000000\n",
              "4   SRNoAlcoholInMiniBar                    0                      0.000000\n",
              "5     SRAwayFromElevator                    0                      0.000000\n",
              "6         SRNearElevator                    0                      0.000000\n",
              "7              SRTwinBed                    0                      0.000000\n",
              "8          SRKingSizeBed                    0                      0.000000\n",
              "9                 SRCrib                    0                      0.000000\n",
              "10              SRShower                    0                      0.000000\n",
              "11             SRBathtub                    0                      0.000000\n",
              "12         SRMediumFloor                    0                      0.000000\n",
              "13      SRAccessibleRoom                    0                      0.000000\n",
              "14            SRLowFloor                    0                      0.000000\n",
              "15         MarketSegment                    0                      0.000000\n",
              "16           Nationality                    0                      0.000000\n",
              "17   DistributionChannel                    0                      0.000000\n",
              "18    DaysSinceFirstStay                    0                      0.000000\n",
              "19     DaysSinceLastStay                    0                      0.000000\n",
              "20            RoomNights                    0                      0.000000\n",
              "21         PersonsNights                    0                      0.000000\n",
              "22     BookingsCheckedIn                    0                      0.000000\n",
              "23      BookingsNoShowed                    0                      0.000000\n",
              "24      BookingsCanceled                    0                      0.000000\n",
              "25          OtherRevenue                    0                      0.000000\n",
              "26        LodgingRevenue                    0                      0.000000\n",
              "27       AverageLeadTime                    0                      0.000000\n",
              "28     DaysSinceCreation                    0                      0.000000\n",
              "29                source                    0                      0.000000"
            ],
            "text/html": [
              "\n",
              "  <div id=\"df-1b7d27bf-18bc-4c7f-b8a8-dec107094249\">\n",
              "    <div class=\"colab-df-container\">\n",
              "      <div>\n",
              "<style scoped>\n",
              "    .dataframe tbody tr th:only-of-type {\n",
              "        vertical-align: middle;\n",
              "    }\n",
              "\n",
              "    .dataframe tbody tr th {\n",
              "        vertical-align: top;\n",
              "    }\n",
              "\n",
              "    .dataframe thead th {\n",
              "        text-align: right;\n",
              "    }\n",
              "</style>\n",
              "<table border=\"1\" class=\"dataframe\">\n",
              "  <thead>\n",
              "    <tr style=\"text-align: right;\">\n",
              "      <th></th>\n",
              "      <th>Features</th>\n",
              "      <th>No.of Missing_Value</th>\n",
              "      <th>Percentages of Missing_Value</th>\n",
              "    </tr>\n",
              "  </thead>\n",
              "  <tbody>\n",
              "    <tr>\n",
              "      <th>0</th>\n",
              "      <td>Age</td>\n",
              "      <td>3673</td>\n",
              "      <td>4.472451</td>\n",
              "    </tr>\n",
              "    <tr>\n",
              "      <th>1</th>\n",
              "      <td>ID</td>\n",
              "      <td>0</td>\n",
              "      <td>0.000000</td>\n",
              "    </tr>\n",
              "    <tr>\n",
              "      <th>2</th>\n",
              "      <td>SRHighFloor</td>\n",
              "      <td>0</td>\n",
              "      <td>0.000000</td>\n",
              "    </tr>\n",
              "    <tr>\n",
              "      <th>3</th>\n",
              "      <td>SRQuietRoom</td>\n",
              "      <td>0</td>\n",
              "      <td>0.000000</td>\n",
              "    </tr>\n",
              "    <tr>\n",
              "      <th>4</th>\n",
              "      <td>SRNoAlcoholInMiniBar</td>\n",
              "      <td>0</td>\n",
              "      <td>0.000000</td>\n",
              "    </tr>\n",
              "    <tr>\n",
              "      <th>5</th>\n",
              "      <td>SRAwayFromElevator</td>\n",
              "      <td>0</td>\n",
              "      <td>0.000000</td>\n",
              "    </tr>\n",
              "    <tr>\n",
              "      <th>6</th>\n",
              "      <td>SRNearElevator</td>\n",
              "      <td>0</td>\n",
              "      <td>0.000000</td>\n",
              "    </tr>\n",
              "    <tr>\n",
              "      <th>7</th>\n",
              "      <td>SRTwinBed</td>\n",
              "      <td>0</td>\n",
              "      <td>0.000000</td>\n",
              "    </tr>\n",
              "    <tr>\n",
              "      <th>8</th>\n",
              "      <td>SRKingSizeBed</td>\n",
              "      <td>0</td>\n",
              "      <td>0.000000</td>\n",
              "    </tr>\n",
              "    <tr>\n",
              "      <th>9</th>\n",
              "      <td>SRCrib</td>\n",
              "      <td>0</td>\n",
              "      <td>0.000000</td>\n",
              "    </tr>\n",
              "    <tr>\n",
              "      <th>10</th>\n",
              "      <td>SRShower</td>\n",
              "      <td>0</td>\n",
              "      <td>0.000000</td>\n",
              "    </tr>\n",
              "    <tr>\n",
              "      <th>11</th>\n",
              "      <td>SRBathtub</td>\n",
              "      <td>0</td>\n",
              "      <td>0.000000</td>\n",
              "    </tr>\n",
              "    <tr>\n",
              "      <th>12</th>\n",
              "      <td>SRMediumFloor</td>\n",
              "      <td>0</td>\n",
              "      <td>0.000000</td>\n",
              "    </tr>\n",
              "    <tr>\n",
              "      <th>13</th>\n",
              "      <td>SRAccessibleRoom</td>\n",
              "      <td>0</td>\n",
              "      <td>0.000000</td>\n",
              "    </tr>\n",
              "    <tr>\n",
              "      <th>14</th>\n",
              "      <td>SRLowFloor</td>\n",
              "      <td>0</td>\n",
              "      <td>0.000000</td>\n",
              "    </tr>\n",
              "    <tr>\n",
              "      <th>15</th>\n",
              "      <td>MarketSegment</td>\n",
              "      <td>0</td>\n",
              "      <td>0.000000</td>\n",
              "    </tr>\n",
              "    <tr>\n",
              "      <th>16</th>\n",
              "      <td>Nationality</td>\n",
              "      <td>0</td>\n",
              "      <td>0.000000</td>\n",
              "    </tr>\n",
              "    <tr>\n",
              "      <th>17</th>\n",
              "      <td>DistributionChannel</td>\n",
              "      <td>0</td>\n",
              "      <td>0.000000</td>\n",
              "    </tr>\n",
              "    <tr>\n",
              "      <th>18</th>\n",
              "      <td>DaysSinceFirstStay</td>\n",
              "      <td>0</td>\n",
              "      <td>0.000000</td>\n",
              "    </tr>\n",
              "    <tr>\n",
              "      <th>19</th>\n",
              "      <td>DaysSinceLastStay</td>\n",
              "      <td>0</td>\n",
              "      <td>0.000000</td>\n",
              "    </tr>\n",
              "    <tr>\n",
              "      <th>20</th>\n",
              "      <td>RoomNights</td>\n",
              "      <td>0</td>\n",
              "      <td>0.000000</td>\n",
              "    </tr>\n",
              "    <tr>\n",
              "      <th>21</th>\n",
              "      <td>PersonsNights</td>\n",
              "      <td>0</td>\n",
              "      <td>0.000000</td>\n",
              "    </tr>\n",
              "    <tr>\n",
              "      <th>22</th>\n",
              "      <td>BookingsCheckedIn</td>\n",
              "      <td>0</td>\n",
              "      <td>0.000000</td>\n",
              "    </tr>\n",
              "    <tr>\n",
              "      <th>23</th>\n",
              "      <td>BookingsNoShowed</td>\n",
              "      <td>0</td>\n",
              "      <td>0.000000</td>\n",
              "    </tr>\n",
              "    <tr>\n",
              "      <th>24</th>\n",
              "      <td>BookingsCanceled</td>\n",
              "      <td>0</td>\n",
              "      <td>0.000000</td>\n",
              "    </tr>\n",
              "    <tr>\n",
              "      <th>25</th>\n",
              "      <td>OtherRevenue</td>\n",
              "      <td>0</td>\n",
              "      <td>0.000000</td>\n",
              "    </tr>\n",
              "    <tr>\n",
              "      <th>26</th>\n",
              "      <td>LodgingRevenue</td>\n",
              "      <td>0</td>\n",
              "      <td>0.000000</td>\n",
              "    </tr>\n",
              "    <tr>\n",
              "      <th>27</th>\n",
              "      <td>AverageLeadTime</td>\n",
              "      <td>0</td>\n",
              "      <td>0.000000</td>\n",
              "    </tr>\n",
              "    <tr>\n",
              "      <th>28</th>\n",
              "      <td>DaysSinceCreation</td>\n",
              "      <td>0</td>\n",
              "      <td>0.000000</td>\n",
              "    </tr>\n",
              "    <tr>\n",
              "      <th>29</th>\n",
              "      <td>source</td>\n",
              "      <td>0</td>\n",
              "      <td>0.000000</td>\n",
              "    </tr>\n",
              "  </tbody>\n",
              "</table>\n",
              "</div>\n",
              "      <button class=\"colab-df-convert\" onclick=\"convertToInteractive('df-1b7d27bf-18bc-4c7f-b8a8-dec107094249')\"\n",
              "              title=\"Convert this dataframe to an interactive table.\"\n",
              "              style=\"display:none;\">\n",
              "        \n",
              "  <svg xmlns=\"http://www.w3.org/2000/svg\" height=\"24px\"viewBox=\"0 0 24 24\"\n",
              "       width=\"24px\">\n",
              "    <path d=\"M0 0h24v24H0V0z\" fill=\"none\"/>\n",
              "    <path d=\"M18.56 5.44l.94 2.06.94-2.06 2.06-.94-2.06-.94-.94-2.06-.94 2.06-2.06.94zm-11 1L8.5 8.5l.94-2.06 2.06-.94-2.06-.94L8.5 2.5l-.94 2.06-2.06.94zm10 10l.94 2.06.94-2.06 2.06-.94-2.06-.94-.94-2.06-.94 2.06-2.06.94z\"/><path d=\"M17.41 7.96l-1.37-1.37c-.4-.4-.92-.59-1.43-.59-.52 0-1.04.2-1.43.59L10.3 9.45l-7.72 7.72c-.78.78-.78 2.05 0 2.83L4 21.41c.39.39.9.59 1.41.59.51 0 1.02-.2 1.41-.59l7.78-7.78 2.81-2.81c.8-.78.8-2.07 0-2.86zM5.41 20L4 18.59l7.72-7.72 1.47 1.35L5.41 20z\"/>\n",
              "  </svg>\n",
              "      </button>\n",
              "      \n",
              "  <style>\n",
              "    .colab-df-container {\n",
              "      display:flex;\n",
              "      flex-wrap:wrap;\n",
              "      gap: 12px;\n",
              "    }\n",
              "\n",
              "    .colab-df-convert {\n",
              "      background-color: #E8F0FE;\n",
              "      border: none;\n",
              "      border-radius: 50%;\n",
              "      cursor: pointer;\n",
              "      display: none;\n",
              "      fill: #1967D2;\n",
              "      height: 32px;\n",
              "      padding: 0 0 0 0;\n",
              "      width: 32px;\n",
              "    }\n",
              "\n",
              "    .colab-df-convert:hover {\n",
              "      background-color: #E2EBFA;\n",
              "      box-shadow: 0px 1px 2px rgba(60, 64, 67, 0.3), 0px 1px 3px 1px rgba(60, 64, 67, 0.15);\n",
              "      fill: #174EA6;\n",
              "    }\n",
              "\n",
              "    [theme=dark] .colab-df-convert {\n",
              "      background-color: #3B4455;\n",
              "      fill: #D2E3FC;\n",
              "    }\n",
              "\n",
              "    [theme=dark] .colab-df-convert:hover {\n",
              "      background-color: #434B5C;\n",
              "      box-shadow: 0px 1px 3px 1px rgba(0, 0, 0, 0.15);\n",
              "      filter: drop-shadow(0px 1px 2px rgba(0, 0, 0, 0.3));\n",
              "      fill: #FFFFFF;\n",
              "    }\n",
              "  </style>\n",
              "\n",
              "      <script>\n",
              "        const buttonEl =\n",
              "          document.querySelector('#df-1b7d27bf-18bc-4c7f-b8a8-dec107094249 button.colab-df-convert');\n",
              "        buttonEl.style.display =\n",
              "          google.colab.kernel.accessAllowed ? 'block' : 'none';\n",
              "\n",
              "        async function convertToInteractive(key) {\n",
              "          const element = document.querySelector('#df-1b7d27bf-18bc-4c7f-b8a8-dec107094249');\n",
              "          const dataTable =\n",
              "            await google.colab.kernel.invokeFunction('convertToInteractive',\n",
              "                                                     [key], {});\n",
              "          if (!dataTable) return;\n",
              "\n",
              "          const docLinkHtml = 'Like what you see? Visit the ' +\n",
              "            '<a target=\"_blank\" href=https://colab.research.google.com/notebooks/data_table.ipynb>data table notebook</a>'\n",
              "            + ' to learn more about interactive tables.';\n",
              "          element.innerHTML = '';\n",
              "          dataTable['output_type'] = 'display_data';\n",
              "          await google.colab.output.renderOutput(dataTable, element);\n",
              "          const docLink = document.createElement('div');\n",
              "          docLink.innerHTML = docLinkHtml;\n",
              "          element.appendChild(docLink);\n",
              "        }\n",
              "      </script>\n",
              "    </div>\n",
              "  </div>\n",
              "  "
            ]
          },
          "metadata": {},
          "execution_count": 43
        }
      ]
    },
    {
      "cell_type": "markdown",
      "source": [
        "here only on Age missing values are there"
      ],
      "metadata": {
        "id": "6c10R98DN9vz"
      }
    },
    {
      "cell_type": "code",
      "source": [
        "data.drop(data[data['Age'] < 0].index, inplace = True)"
      ],
      "metadata": {
        "id": "e4MDBanQaqWI"
      },
      "execution_count": 44,
      "outputs": []
    },
    {
      "cell_type": "markdown",
      "source": [
        "replace null values of Age with mean value of Age"
      ],
      "metadata": {
        "id": "WxYlbOzMOFIH"
      }
    },
    {
      "cell_type": "code",
      "source": [
        "data.Age = data.Age.fillna(data.Age.mean())"
      ],
      "metadata": {
        "id": "Jbr5rCeBaqb5"
      },
      "execution_count": 45,
      "outputs": []
    },
    {
      "cell_type": "code",
      "source": [
        "data.isnull().sum()"
      ],
      "metadata": {
        "colab": {
          "base_uri": "https://localhost:8080/"
        },
        "id": "0JugpD1gaqgn",
        "outputId": "a6063244-cfd6-47f3-bfaf-2bd5a4cad2d2"
      },
      "execution_count": 46,
      "outputs": [
        {
          "output_type": "execute_result",
          "data": {
            "text/plain": [
              "ID                      0\n",
              "Nationality             0\n",
              "Age                     0\n",
              "DaysSinceCreation       0\n",
              "AverageLeadTime         0\n",
              "LodgingRevenue          0\n",
              "OtherRevenue            0\n",
              "BookingsCanceled        0\n",
              "BookingsNoShowed        0\n",
              "BookingsCheckedIn       0\n",
              "PersonsNights           0\n",
              "RoomNights              0\n",
              "DaysSinceLastStay       0\n",
              "DaysSinceFirstStay      0\n",
              "DistributionChannel     0\n",
              "MarketSegment           0\n",
              "SRHighFloor             0\n",
              "SRLowFloor              0\n",
              "SRAccessibleRoom        0\n",
              "SRMediumFloor           0\n",
              "SRBathtub               0\n",
              "SRShower                0\n",
              "SRCrib                  0\n",
              "SRKingSizeBed           0\n",
              "SRTwinBed               0\n",
              "SRNearElevator          0\n",
              "SRAwayFromElevator      0\n",
              "SRNoAlcoholInMiniBar    0\n",
              "SRQuietRoom             0\n",
              "source                  0\n",
              "dtype: int64"
            ]
          },
          "metadata": {},
          "execution_count": 46
        }
      ]
    },
    {
      "cell_type": "markdown",
      "source": [
        "change the type of Age float to int"
      ],
      "metadata": {
        "id": "0rQCUz1BOSwP"
      }
    },
    {
      "cell_type": "code",
      "source": [
        "data['Age'] = data['Age'].astype(int)"
      ],
      "metadata": {
        "id": "q6QsrPTXF0zA"
      },
      "execution_count": 47,
      "outputs": []
    },
    {
      "cell_type": "code",
      "source": [
        "age_twenty1=data['Age'].value_counts()[:5]\n",
        "age_twenty1.to_frame()"
      ],
      "metadata": {
        "colab": {
          "base_uri": "https://localhost:8080/",
          "height": 206
        },
        "id": "MiIm_OIl-_n_",
        "outputId": "9d4d7ce8-4f21-4d51-b82c-0201fa170fd9"
      },
      "execution_count": 48,
      "outputs": [
        {
          "output_type": "execute_result",
          "data": {
            "text/plain": [
              "     Age\n",
              "45  5337\n",
              "50  1992\n",
              "51  1983\n",
              "54  1932\n",
              "53  1903"
            ],
            "text/html": [
              "\n",
              "  <div id=\"df-421c6c87-d14e-401f-9fea-14fdf234467b\">\n",
              "    <div class=\"colab-df-container\">\n",
              "      <div>\n",
              "<style scoped>\n",
              "    .dataframe tbody tr th:only-of-type {\n",
              "        vertical-align: middle;\n",
              "    }\n",
              "\n",
              "    .dataframe tbody tr th {\n",
              "        vertical-align: top;\n",
              "    }\n",
              "\n",
              "    .dataframe thead th {\n",
              "        text-align: right;\n",
              "    }\n",
              "</style>\n",
              "<table border=\"1\" class=\"dataframe\">\n",
              "  <thead>\n",
              "    <tr style=\"text-align: right;\">\n",
              "      <th></th>\n",
              "      <th>Age</th>\n",
              "    </tr>\n",
              "  </thead>\n",
              "  <tbody>\n",
              "    <tr>\n",
              "      <th>45</th>\n",
              "      <td>5337</td>\n",
              "    </tr>\n",
              "    <tr>\n",
              "      <th>50</th>\n",
              "      <td>1992</td>\n",
              "    </tr>\n",
              "    <tr>\n",
              "      <th>51</th>\n",
              "      <td>1983</td>\n",
              "    </tr>\n",
              "    <tr>\n",
              "      <th>54</th>\n",
              "      <td>1932</td>\n",
              "    </tr>\n",
              "    <tr>\n",
              "      <th>53</th>\n",
              "      <td>1903</td>\n",
              "    </tr>\n",
              "  </tbody>\n",
              "</table>\n",
              "</div>\n",
              "      <button class=\"colab-df-convert\" onclick=\"convertToInteractive('df-421c6c87-d14e-401f-9fea-14fdf234467b')\"\n",
              "              title=\"Convert this dataframe to an interactive table.\"\n",
              "              style=\"display:none;\">\n",
              "        \n",
              "  <svg xmlns=\"http://www.w3.org/2000/svg\" height=\"24px\"viewBox=\"0 0 24 24\"\n",
              "       width=\"24px\">\n",
              "    <path d=\"M0 0h24v24H0V0z\" fill=\"none\"/>\n",
              "    <path d=\"M18.56 5.44l.94 2.06.94-2.06 2.06-.94-2.06-.94-.94-2.06-.94 2.06-2.06.94zm-11 1L8.5 8.5l.94-2.06 2.06-.94-2.06-.94L8.5 2.5l-.94 2.06-2.06.94zm10 10l.94 2.06.94-2.06 2.06-.94-2.06-.94-.94-2.06-.94 2.06-2.06.94z\"/><path d=\"M17.41 7.96l-1.37-1.37c-.4-.4-.92-.59-1.43-.59-.52 0-1.04.2-1.43.59L10.3 9.45l-7.72 7.72c-.78.78-.78 2.05 0 2.83L4 21.41c.39.39.9.59 1.41.59.51 0 1.02-.2 1.41-.59l7.78-7.78 2.81-2.81c.8-.78.8-2.07 0-2.86zM5.41 20L4 18.59l7.72-7.72 1.47 1.35L5.41 20z\"/>\n",
              "  </svg>\n",
              "      </button>\n",
              "      \n",
              "  <style>\n",
              "    .colab-df-container {\n",
              "      display:flex;\n",
              "      flex-wrap:wrap;\n",
              "      gap: 12px;\n",
              "    }\n",
              "\n",
              "    .colab-df-convert {\n",
              "      background-color: #E8F0FE;\n",
              "      border: none;\n",
              "      border-radius: 50%;\n",
              "      cursor: pointer;\n",
              "      display: none;\n",
              "      fill: #1967D2;\n",
              "      height: 32px;\n",
              "      padding: 0 0 0 0;\n",
              "      width: 32px;\n",
              "    }\n",
              "\n",
              "    .colab-df-convert:hover {\n",
              "      background-color: #E2EBFA;\n",
              "      box-shadow: 0px 1px 2px rgba(60, 64, 67, 0.3), 0px 1px 3px 1px rgba(60, 64, 67, 0.15);\n",
              "      fill: #174EA6;\n",
              "    }\n",
              "\n",
              "    [theme=dark] .colab-df-convert {\n",
              "      background-color: #3B4455;\n",
              "      fill: #D2E3FC;\n",
              "    }\n",
              "\n",
              "    [theme=dark] .colab-df-convert:hover {\n",
              "      background-color: #434B5C;\n",
              "      box-shadow: 0px 1px 3px 1px rgba(0, 0, 0, 0.15);\n",
              "      filter: drop-shadow(0px 1px 2px rgba(0, 0, 0, 0.3));\n",
              "      fill: #FFFFFF;\n",
              "    }\n",
              "  </style>\n",
              "\n",
              "      <script>\n",
              "        const buttonEl =\n",
              "          document.querySelector('#df-421c6c87-d14e-401f-9fea-14fdf234467b button.colab-df-convert');\n",
              "        buttonEl.style.display =\n",
              "          google.colab.kernel.accessAllowed ? 'block' : 'none';\n",
              "\n",
              "        async function convertToInteractive(key) {\n",
              "          const element = document.querySelector('#df-421c6c87-d14e-401f-9fea-14fdf234467b');\n",
              "          const dataTable =\n",
              "            await google.colab.kernel.invokeFunction('convertToInteractive',\n",
              "                                                     [key], {});\n",
              "          if (!dataTable) return;\n",
              "\n",
              "          const docLinkHtml = 'Like what you see? Visit the ' +\n",
              "            '<a target=\"_blank\" href=https://colab.research.google.com/notebooks/data_table.ipynb>data table notebook</a>'\n",
              "            + ' to learn more about interactive tables.';\n",
              "          element.innerHTML = '';\n",
              "          dataTable['output_type'] = 'display_data';\n",
              "          await google.colab.output.renderOutput(dataTable, element);\n",
              "          const docLink = document.createElement('div');\n",
              "          docLink.innerHTML = docLinkHtml;\n",
              "          element.appendChild(docLink);\n",
              "        }\n",
              "      </script>\n",
              "    </div>\n",
              "  </div>\n",
              "  "
            ]
          },
          "metadata": {},
          "execution_count": 48
        }
      ]
    },
    {
      "cell_type": "markdown",
      "source": [
        "top five Age who CheckIn booking"
      ],
      "metadata": {
        "id": "_0DdGwcSObk9"
      }
    },
    {
      "cell_type": "code",
      "source": [
        "sns.countplot(x='MarketSegment', data=data, hue='BookingsCheckedIn', palette='magma')\n",
        "plt.rcParams['figure.figsize'] = (20,6)\n",
        "plt.xticks(rotation=90)\n",
        "plt.title('Market segment from both BookingsCheckedIn')\n",
        "plt.show()"
      ],
      "metadata": {
        "colab": {
          "base_uri": "https://localhost:8080/",
          "height": 395
        },
        "id": "AbNK8d1IdhTE",
        "outputId": "dd73ccdd-2fc3-4804-a3c8-e98b6a19f733"
      },
      "execution_count": 49,
      "outputs": [
        {
          "output_type": "display_data",
          "data": {
            "text/plain": [
              "<Figure size 720x288 with 1 Axes>"
            ],
            "image/png": "[encoded data removed]"
          },
          "metadata": {
            "needs_background": "light"
          }
        }
      ]
    },
    {
      "cell_type": "markdown",
      "source": [
        "Market segment from both BookingsCheckedIn"
      ],
      "metadata": {
        "id": "WVF0_nzUOlAz"
      }
    },
    {
      "cell_type": "code",
      "source": [
        "sns.countplot(x='DistributionChannel', data=data, hue='BookingsCheckedIn', palette='magma')\n",
        "plt.rcParams['figure.figsize'] = (10,4)\n",
        "plt.xticks(rotation=90)\n",
        "plt.title('DistributionChannel from BookingsCheckedIn')\n",
        "plt.show()"
      ],
      "metadata": {
        "colab": {
          "base_uri": "https://localhost:8080/",
          "height": 505
        },
        "id": "pvj5Ro1-dhae",
        "outputId": "37e4e9e3-484e-4f61-a51f-fc8e1880a01a"
      },
      "execution_count": 50,
      "outputs": [
        {
          "output_type": "display_data",
          "data": {
            "text/plain": [
              "<Figure size 1440x432 with 1 Axes>"
            ],
            "image/png": "[encoded data removed]"
          },
          "metadata": {
            "needs_background": "light"
          }
        }
      ]
    },
    {
      "cell_type": "code",
      "source": [
        "data.head()"
      ],
      "metadata": {
        "colab": {
          "base_uri": "https://localhost:8080/",
          "height": 300
        },
        "id": "b390ZyEgJcVg",
        "outputId": "38d86165-07af-4064-b599-c6ec51934974"
      },
      "execution_count": 51,
      "outputs": [
        {
          "output_type": "execute_result",
          "data": {
            "text/plain": [
              "   ID Nationality  Age  DaysSinceCreation  AverageLeadTime  LodgingRevenue  \\\n",
              "1   2         PRT   45               1095               61           280.0   \n",
              "2   3         DEU   31               1095                0             0.0   \n",
              "3   4         FRA   60               1095               93           240.0   \n",
              "4   5         FRA   51               1095                0             0.0   \n",
              "5   6         JPN   54               1095               58           230.0   \n",
              "\n",
              "   OtherRevenue  BookingsCanceled  BookingsNoShowed  BookingsCheckedIn  ...  \\\n",
              "1          53.0                 0                 0                  1  ...   \n",
              "2           0.0                 0                 0                  0  ...   \n",
              "3          60.0                 0                 0                  1  ...   \n",
              "4           0.0                 0                 0                  0  ...   \n",
              "5          24.0                 0                 0                  1  ...   \n",
              "\n",
              "   SRBathtub  SRShower  SRCrib  SRKingSizeBed SRTwinBed SRNearElevator  \\\n",
              "1          0         0       0              0         0              0   \n",
              "2          0         0       0              0         0              0   \n",
              "3          0         0       0              0         0              0   \n",
              "4          0         0       0              0         0              0   \n",
              "5          0         0       0              0         0              0   \n",
              "\n",
              "   SRAwayFromElevator  SRNoAlcoholInMiniBar  SRQuietRoom  source  \n",
              "1                   0                     0            0   train  \n",
              "2                   0                     0            0   train  \n",
              "3                   0                     0            0   train  \n",
              "4                   0                     0            0   train  \n",
              "5                   0                     0            0   train  \n",
              "\n",
              "[5 rows x 30 columns]"
            ],
            "text/html": [
              "\n",
              "  <div id=\"df-bc177cf2-0f51-408d-a4dc-5192a08b91f2\">\n",
              "    <div class=\"colab-df-container\">\n",
              "      <div>\n",
              "<style scoped>\n",
              "    .dataframe tbody tr th:only-of-type {\n",
              "        vertical-align: middle;\n",
              "    }\n",
              "\n",
              "    .dataframe tbody tr th {\n",
              "        vertical-align: top;\n",
              "    }\n",
              "\n",
              "    .dataframe thead th {\n",
              "        text-align: right;\n",
              "    }\n",
              "</style>\n",
              "<table border=\"1\" class=\"dataframe\">\n",
              "  <thead>\n",
              "    <tr style=\"text-align: right;\">\n",
              "      <th></th>\n",
              "      <th>ID</th>\n",
              "      <th>Nationality</th>\n",
              "      <th>Age</th>\n",
              "      <th>DaysSinceCreation</th>\n",
              "      <th>AverageLeadTime</th>\n",
              "      <th>LodgingRevenue</th>\n",
              "      <th>OtherRevenue</th>\n",
              "      <th>BookingsCanceled</th>\n",
              "      <th>BookingsNoShowed</th>\n",
              "      <th>BookingsCheckedIn</th>\n",
              "      <th>...</th>\n",
              "      <th>SRBathtub</th>\n",
              "      <th>SRShower</th>\n",
              "      <th>SRCrib</th>\n",
              "      <th>SRKingSizeBed</th>\n",
              "      <th>SRTwinBed</th>\n",
              "      <th>SRNearElevator</th>\n",
              "      <th>SRAwayFromElevator</th>\n",
              "      <th>SRNoAlcoholInMiniBar</th>\n",
              "      <th>SRQuietRoom</th>\n",
              "      <th>source</th>\n",
              "    </tr>\n",
              "  </thead>\n",
              "  <tbody>\n",
              "    <tr>\n",
              "      <th>1</th>\n",
              "      <td>2</td>\n",
              "      <td>PRT</td>\n",
              "      <td>45</td>\n",
              "      <td>1095</td>\n",
              "      <td>61</td>\n",
              "      <td>280.0</td>\n",
              "      <td>53.0</td>\n",
              "      <td>0</td>\n",
              "      <td>0</td>\n",
              "      <td>1</td>\n",
              "      <td>...</td>\n",
              "      <td>0</td>\n",
              "      <td>0</td>\n",
              "      <td>0</td>\n",
              "      <td>0</td>\n",
              "      <td>0</td>\n",
              "      <td>0</td>\n",
              "      <td>0</td>\n",
              "      <td>0</td>\n",
              "      <td>0</td>\n",
              "      <td>train</td>\n",
              "    </tr>\n",
              "    <tr>\n",
              "      <th>2</th>\n",
              "      <td>3</td>\n",
              "      <td>DEU</td>\n",
              "      <td>31</td>\n",
              "      <td>1095</td>\n",
              "      <td>0</td>\n",
              "      <td>0.0</td>\n",
              "      <td>0.0</td>\n",
              "      <td>0</td>\n",
              "      <td>0</td>\n",
              "      <td>0</td>\n",
              "      <td>...</td>\n",
              "      <td>0</td>\n",
              "      <td>0</td>\n",
              "      <td>0</td>\n",
              "      <td>0</td>\n",
              "      <td>0</td>\n",
              "      <td>0</td>\n",
              "      <td>0</td>\n",
              "      <td>0</td>\n",
              "      <td>0</td>\n",
              "      <td>train</td>\n",
              "    </tr>\n",
              "    <tr>\n",
              "      <th>3</th>\n",
              "      <td>4</td>\n",
              "      <td>FRA</td>\n",
              "      <td>60</td>\n",
              "      <td>1095</td>\n",
              "      <td>93</td>\n",
              "      <td>240.0</td>\n",
              "      <td>60.0</td>\n",
              "      <td>0</td>\n",
              "      <td>0</td>\n",
              "      <td>1</td>\n",
              "      <td>...</td>\n",
              "      <td>0</td>\n",
              "      <td>0</td>\n",
              "      <td>0</td>\n",
              "      <td>0</td>\n",
              "      <td>0</td>\n",
              "      <td>0</td>\n",
              "      <td>0</td>\n",
              "      <td>0</td>\n",
              "      <td>0</td>\n",
              "      <td>train</td>\n",
              "    </tr>\n",
              "    <tr>\n",
              "      <th>4</th>\n",
              "      <td>5</td>\n",
              "      <td>FRA</td>\n",
              "      <td>51</td>\n",
              "      <td>1095</td>\n",
              "      <td>0</td>\n",
              "      <td>0.0</td>\n",
              "      <td>0.0</td>\n",
              "      <td>0</td>\n",
              "      <td>0</td>\n",
              "      <td>0</td>\n",
              "      <td>...</td>\n",
              "      <td>0</td>\n",
              "      <td>0</td>\n",
              "      <td>0</td>\n",
              "      <td>0</td>\n",
              "      <td>0</td>\n",
              "      <td>0</td>\n",
              "      <td>0</td>\n",
              "      <td>0</td>\n",
              "      <td>0</td>\n",
              "      <td>train</td>\n",
              "    </tr>\n",
              "    <tr>\n",
              "      <th>5</th>\n",
              "      <td>6</td>\n",
              "      <td>JPN</td>\n",
              "      <td>54</td>\n",
              "      <td>1095</td>\n",
              "      <td>58</td>\n",
              "      <td>230.0</td>\n",
              "      <td>24.0</td>\n",
              "      <td>0</td>\n",
              "      <td>0</td>\n",
              "      <td>1</td>\n",
              "      <td>...</td>\n",
              "      <td>0</td>\n",
              "      <td>0</td>\n",
              "      <td>0</td>\n",
              "      <td>0</td>\n",
              "      <td>0</td>\n",
              "      <td>0</td>\n",
              "      <td>0</td>\n",
              "      <td>0</td>\n",
              "      <td>0</td>\n",
              "      <td>train</td>\n",
              "    </tr>\n",
              "  </tbody>\n",
              "</table>\n",
              "<p>5 rows × 30 columns</p>\n",
              "</div>\n",
              "      <button class=\"colab-df-convert\" onclick=\"convertToInteractive('df-bc177cf2-0f51-408d-a4dc-5192a08b91f2')\"\n",
              "              title=\"Convert this dataframe to an interactive table.\"\n",
              "              style=\"display:none;\">\n",
              "        \n",
              "  <svg xmlns=\"http://www.w3.org/2000/svg\" height=\"24px\"viewBox=\"0 0 24 24\"\n",
              "       width=\"24px\">\n",
              "    <path d=\"M0 0h24v24H0V0z\" fill=\"none\"/>\n",
              "    <path d=\"M18.56 5.44l.94 2.06.94-2.06 2.06-.94-2.06-.94-.94-2.06-.94 2.06-2.06.94zm-11 1L8.5 8.5l.94-2.06 2.06-.94-2.06-.94L8.5 2.5l-.94 2.06-2.06.94zm10 10l.94 2.06.94-2.06 2.06-.94-2.06-.94-.94-2.06-.94 2.06-2.06.94z\"/><path d=\"M17.41 7.96l-1.37-1.37c-.4-.4-.92-.59-1.43-.59-.52 0-1.04.2-1.43.59L10.3 9.45l-7.72 7.72c-.78.78-.78 2.05 0 2.83L4 21.41c.39.39.9.59 1.41.59.51 0 1.02-.2 1.41-.59l7.78-7.78 2.81-2.81c.8-.78.8-2.07 0-2.86zM5.41 20L4 18.59l7.72-7.72 1.47 1.35L5.41 20z\"/>\n",
              "  </svg>\n",
              "      </button>\n",
              "      \n",
              "  <style>\n",
              "    .colab-df-container {\n",
              "      display:flex;\n",
              "      flex-wrap:wrap;\n",
              "      gap: 12px;\n",
              "    }\n",
              "\n",
              "    .colab-df-convert {\n",
              "      background-color: #E8F0FE;\n",
              "      border: none;\n",
              "      border-radius: 50%;\n",
              "      cursor: pointer;\n",
              "      display: none;\n",
              "      fill: #1967D2;\n",
              "      height: 32px;\n",
              "      padding: 0 0 0 0;\n",
              "      width: 32px;\n",
              "    }\n",
              "\n",
              "    .colab-df-convert:hover {\n",
              "      background-color: #E2EBFA;\n",
              "      box-shadow: 0px 1px 2px rgba(60, 64, 67, 0.3), 0px 1px 3px 1px rgba(60, 64, 67, 0.15);\n",
              "      fill: #174EA6;\n",
              "    }\n",
              "\n",
              "    [theme=dark] .colab-df-convert {\n",
              "      background-color: #3B4455;\n",
              "      fill: #D2E3FC;\n",
              "    }\n",
              "\n",
              "    [theme=dark] .colab-df-convert:hover {\n",
              "      background-color: #434B5C;\n",
              "      box-shadow: 0px 1px 3px 1px rgba(0, 0, 0, 0.15);\n",
              "      filter: drop-shadow(0px 1px 2px rgba(0, 0, 0, 0.3));\n",
              "      fill: #FFFFFF;\n",
              "    }\n",
              "  </style>\n",
              "\n",
              "      <script>\n",
              "        const buttonEl =\n",
              "          document.querySelector('#df-bc177cf2-0f51-408d-a4dc-5192a08b91f2 button.colab-df-convert');\n",
              "        buttonEl.style.display =\n",
              "          google.colab.kernel.accessAllowed ? 'block' : 'none';\n",
              "\n",
              "        async function convertToInteractive(key) {\n",
              "          const element = document.querySelector('#df-bc177cf2-0f51-408d-a4dc-5192a08b91f2');\n",
              "          const dataTable =\n",
              "            await google.colab.kernel.invokeFunction('convertToInteractive',\n",
              "                                                     [key], {});\n",
              "          if (!dataTable) return;\n",
              "\n",
              "          const docLinkHtml = 'Like what you see? Visit the ' +\n",
              "            '<a target=\"_blank\" href=https://colab.research.google.com/notebooks/data_table.ipynb>data table notebook</a>'\n",
              "            + ' to learn more about interactive tables.';\n",
              "          element.innerHTML = '';\n",
              "          dataTable['output_type'] = 'display_data';\n",
              "          await google.colab.output.renderOutput(dataTable, element);\n",
              "          const docLink = document.createElement('div');\n",
              "          docLink.innerHTML = docLinkHtml;\n",
              "          element.appendChild(docLink);\n",
              "        }\n",
              "      </script>\n",
              "    </div>\n",
              "  </div>\n",
              "  "
            ]
          },
          "metadata": {},
          "execution_count": 51
        }
      ]
    },
    {
      "cell_type": "markdown",
      "source": [
        "<h4>Encoding"
      ],
      "metadata": {
        "id": "Bey0cDPmO7A7"
      }
    },
    {
      "cell_type": "markdown",
      "source": [
        "here iam replace the Categorical to Numeric"
      ],
      "metadata": {
        "id": "S9Ex581iPBTg"
      }
    },
    {
      "cell_type": "code",
      "source": [
        "data['MarketSegment'].value_counts()"
      ],
      "metadata": {
        "colab": {
          "base_uri": "https://localhost:8080/"
        },
        "id": "Vr2SNYqSe-wG",
        "outputId": "e14dc1ca-1f25-48b4-a962-cd17a6a8f29d"
      },
      "execution_count": 52,
      "outputs": [
        {
          "output_type": "execute_result",
          "data": {
            "text/plain": [
              "Other                    47610\n",
              "Travel Agent/Operator    11542\n",
              "Direct                   11107\n",
              "Groups                    9350\n",
              "Corporate                 1871\n",
              "Complementary              460\n",
              "Aviation                   168\n",
              "Name: MarketSegment, dtype: int64"
            ]
          },
          "metadata": {},
          "execution_count": 52
        }
      ]
    },
    {
      "cell_type": "code",
      "source": [
        "data['MarketSegment'] = data['MarketSegment'].replace({ 'Travel Agent/Operator': 0,'Direct': 1,'Groups': 2,'Corporate': 3,'Complementary': 4,'Aviation': 6,'Other': 7})"
      ],
      "metadata": {
        "id": "Fk4QiUHkeHQz"
      },
      "execution_count": 53,
      "outputs": []
    },
    {
      "cell_type": "code",
      "source": [
        "data['DistributionChannel'].value_counts()"
      ],
      "metadata": {
        "colab": {
          "base_uri": "https://localhost:8080/"
        },
        "id": "hHM2H_C0eHU1",
        "outputId": "40ac45a7-9460-4bf9-be15-b527c84ba148"
      },
      "execution_count": 54,
      "outputs": [
        {
          "output_type": "execute_result",
          "data": {
            "text/plain": [
              "Travel Agent/Operator      67821\n",
              "Direct                     11569\n",
              "Corporate                   2223\n",
              "Electronic Distribution      495\n",
              "Name: DistributionChannel, dtype: int64"
            ]
          },
          "metadata": {},
          "execution_count": 54
        }
      ]
    },
    {
      "cell_type": "code",
      "source": [
        "data['DistributionChannel'] = data['DistributionChannel'].replace({ 'Travel Agent/Operator': 0,'Direct': 1,'Corporate': 2,'Electronic Distribution': 3})"
      ],
      "metadata": {
        "id": "lsj-KixYeHci"
      },
      "execution_count": 55,
      "outputs": []
    },
    {
      "cell_type": "markdown",
      "source": [
        "drop unwanted columns"
      ],
      "metadata": {
        "id": "C-0x2TfFPZkO"
      }
    },
    {
      "cell_type": "code",
      "source": [
        "data.drop([\"ID\",\"Nationality\"],axis=1,inplace=True)"
      ],
      "metadata": {
        "id": "tYQp7J8oeHhl"
      },
      "execution_count": 56,
      "outputs": []
    },
    {
      "cell_type": "code",
      "source": [
        "train_df=data.loc[data[\"source\"]==\"train\"]\n",
        "test_df=data.loc[data[\"source\"]==\"test\"]"
      ],
      "metadata": {
        "id": "U4r2kMbogS03"
      },
      "execution_count": 57,
      "outputs": []
    },
    {
      "cell_type": "code",
      "source": [
        "train_df.drop([\"source\"],axis=1,inplace=True)\n",
        "test_df.drop([\"source\",\"BookingsCheckedIn\"],axis=1,inplace=True)"
      ],
      "metadata": {
        "id": "pNfdB4KDgS33"
      },
      "execution_count": 58,
      "outputs": []
    },
    {
      "cell_type": "code",
      "source": [
        "train_df.head()"
      ],
      "metadata": {
        "colab": {
          "base_uri": "https://localhost:8080/",
          "height": 300
        },
        "id": "8zDEv71_gS64",
        "outputId": "be4a271b-9b19-4bec-9f96-af98b7156f53"
      },
      "execution_count": 59,
      "outputs": [
        {
          "output_type": "execute_result",
          "data": {
            "text/plain": [
              "   Age  DaysSinceCreation  AverageLeadTime  LodgingRevenue  OtherRevenue  \\\n",
              "1   45               1095               61           280.0          53.0   \n",
              "2   31               1095                0             0.0           0.0   \n",
              "3   60               1095               93           240.0          60.0   \n",
              "4   51               1095                0             0.0           0.0   \n",
              "5   54               1095               58           230.0          24.0   \n",
              "\n",
              "   BookingsCanceled  BookingsNoShowed  BookingsCheckedIn  PersonsNights  \\\n",
              "1                 0                 0                  1             10   \n",
              "2                 0                 0                  0              0   \n",
              "3                 0                 0                  1             10   \n",
              "4                 0                 0                  0              0   \n",
              "5                 0                 0                  1              4   \n",
              "\n",
              "   RoomNights  ...  SRMediumFloor  SRBathtub  SRShower  SRCrib  SRKingSizeBed  \\\n",
              "1           5  ...              0          0         0       0              0   \n",
              "2           0  ...              0          0         0       0              0   \n",
              "3           5  ...              0          0         0       0              0   \n",
              "4           0  ...              0          0         0       0              0   \n",
              "5           2  ...              0          0         0       0              0   \n",
              "\n",
              "   SRTwinBed  SRNearElevator  SRAwayFromElevator  SRNoAlcoholInMiniBar  \\\n",
              "1          0               0                   0                     0   \n",
              "2          0               0                   0                     0   \n",
              "3          0               0                   0                     0   \n",
              "4          0               0                   0                     0   \n",
              "5          0               0                   0                     0   \n",
              "\n",
              "   SRQuietRoom  \n",
              "1            0  \n",
              "2            0  \n",
              "3            0  \n",
              "4            0  \n",
              "5            0  \n",
              "\n",
              "[5 rows x 27 columns]"
            ],
            "text/html": [
              "\n",
              "  <div id=\"df-790fed5b-680f-45a8-93a6-128736c1d148\">\n",
              "    <div class=\"colab-df-container\">\n",
              "      <div>\n",
              "<style scoped>\n",
              "    .dataframe tbody tr th:only-of-type {\n",
              "        vertical-align: middle;\n",
              "    }\n",
              "\n",
              "    .dataframe tbody tr th {\n",
              "        vertical-align: top;\n",
              "    }\n",
              "\n",
              "    .dataframe thead th {\n",
              "        text-align: right;\n",
              "    }\n",
              "</style>\n",
              "<table border=\"1\" class=\"dataframe\">\n",
              "  <thead>\n",
              "    <tr style=\"text-align: right;\">\n",
              "      <th></th>\n",
              "      <th>Age</th>\n",
              "      <th>DaysSinceCreation</th>\n",
              "      <th>AverageLeadTime</th>\n",
              "      <th>LodgingRevenue</th>\n",
              "      <th>OtherRevenue</th>\n",
              "      <th>BookingsCanceled</th>\n",
              "      <th>BookingsNoShowed</th>\n",
              "      <th>BookingsCheckedIn</th>\n",
              "      <th>PersonsNights</th>\n",
              "      <th>RoomNights</th>\n",
              "      <th>...</th>\n",
              "      <th>SRMediumFloor</th>\n",
              "      <th>SRBathtub</th>\n",
              "      <th>SRShower</th>\n",
              "      <th>SRCrib</th>\n",
              "      <th>SRKingSizeBed</th>\n",
              "      <th>SRTwinBed</th>\n",
              "      <th>SRNearElevator</th>\n",
              "      <th>SRAwayFromElevator</th>\n",
              "      <th>SRNoAlcoholInMiniBar</th>\n",
              "      <th>SRQuietRoom</th>\n",
              "    </tr>\n",
              "  </thead>\n",
              "  <tbody>\n",
              "    <tr>\n",
              "      <th>1</th>\n",
              "      <td>45</td>\n",
              "      <td>1095</td>\n",
              "      <td>61</td>\n",
              "      <td>280.0</td>\n",
              "      <td>53.0</td>\n",
              "      <td>0</td>\n",
              "      <td>0</td>\n",
              "      <td>1</td>\n",
              "      <td>10</td>\n",
              "      <td>5</td>\n",
              "      <td>...</td>\n",
              "      <td>0</td>\n",
              "      <td>0</td>\n",
              "      <td>0</td>\n",
              "      <td>0</td>\n",
              "      <td>0</td>\n",
              "      <td>0</td>\n",
              "      <td>0</td>\n",
              "      <td>0</td>\n",
              "      <td>0</td>\n",
              "      <td>0</td>\n",
              "    </tr>\n",
              "    <tr>\n",
              "      <th>2</th>\n",
              "      <td>31</td>\n",
              "      <td>1095</td>\n",
              "      <td>0</td>\n",
              "      <td>0.0</td>\n",
              "      <td>0.0</td>\n",
              "      <td>0</td>\n",
              "      <td>0</td>\n",
              "      <td>0</td>\n",
              "      <td>0</td>\n",
              "      <td>0</td>\n",
              "      <td>...</td>\n",
              "      <td>0</td>\n",
              "      <td>0</td>\n",
              "      <td>0</td>\n",
              "      <td>0</td>\n",
              "      <td>0</td>\n",
              "      <td>0</td>\n",
              "      <td>0</td>\n",
              "      <td>0</td>\n",
              "      <td>0</td>\n",
              "      <td>0</td>\n",
              "    </tr>\n",
              "    <tr>\n",
              "      <th>3</th>\n",
              "      <td>60</td>\n",
              "      <td>1095</td>\n",
              "      <td>93</td>\n",
              "      <td>240.0</td>\n",
              "      <td>60.0</td>\n",
              "      <td>0</td>\n",
              "      <td>0</td>\n",
              "      <td>1</td>\n",
              "      <td>10</td>\n",
              "      <td>5</td>\n",
              "      <td>...</td>\n",
              "      <td>0</td>\n",
              "      <td>0</td>\n",
              "      <td>0</td>\n",
              "      <td>0</td>\n",
              "      <td>0</td>\n",
              "      <td>0</td>\n",
              "      <td>0</td>\n",
              "      <td>0</td>\n",
              "      <td>0</td>\n",
              "      <td>0</td>\n",
              "    </tr>\n",
              "    <tr>\n",
              "      <th>4</th>\n",
              "      <td>51</td>\n",
              "      <td>1095</td>\n",
              "      <td>0</td>\n",
              "      <td>0.0</td>\n",
              "      <td>0.0</td>\n",
              "      <td>0</td>\n",
              "      <td>0</td>\n",
              "      <td>0</td>\n",
              "      <td>0</td>\n",
              "      <td>0</td>\n",
              "      <td>...</td>\n",
              "      <td>0</td>\n",
              "      <td>0</td>\n",
              "      <td>0</td>\n",
              "      <td>0</td>\n",
              "      <td>0</td>\n",
              "      <td>0</td>\n",
              "      <td>0</td>\n",
              "      <td>0</td>\n",
              "      <td>0</td>\n",
              "      <td>0</td>\n",
              "    </tr>\n",
              "    <tr>\n",
              "      <th>5</th>\n",
              "      <td>54</td>\n",
              "      <td>1095</td>\n",
              "      <td>58</td>\n",
              "      <td>230.0</td>\n",
              "      <td>24.0</td>\n",
              "      <td>0</td>\n",
              "      <td>0</td>\n",
              "      <td>1</td>\n",
              "      <td>4</td>\n",
              "      <td>2</td>\n",
              "      <td>...</td>\n",
              "      <td>0</td>\n",
              "      <td>0</td>\n",
              "      <td>0</td>\n",
              "      <td>0</td>\n",
              "      <td>0</td>\n",
              "      <td>0</td>\n",
              "      <td>0</td>\n",
              "      <td>0</td>\n",
              "      <td>0</td>\n",
              "      <td>0</td>\n",
              "    </tr>\n",
              "  </tbody>\n",
              "</table>\n",
              "<p>5 rows × 27 columns</p>\n",
              "</div>\n",
              "      <button class=\"colab-df-convert\" onclick=\"convertToInteractive('df-790fed5b-680f-45a8-93a6-128736c1d148')\"\n",
              "              title=\"Convert this dataframe to an interactive table.\"\n",
              "              style=\"display:none;\">\n",
              "        \n",
              "  <svg xmlns=\"http://www.w3.org/2000/svg\" height=\"24px\"viewBox=\"0 0 24 24\"\n",
              "       width=\"24px\">\n",
              "    <path d=\"M0 0h24v24H0V0z\" fill=\"none\"/>\n",
              "    <path d=\"M18.56 5.44l.94 2.06.94-2.06 2.06-.94-2.06-.94-.94-2.06-.94 2.06-2.06.94zm-11 1L8.5 8.5l.94-2.06 2.06-.94-2.06-.94L8.5 2.5l-.94 2.06-2.06.94zm10 10l.94 2.06.94-2.06 2.06-.94-2.06-.94-.94-2.06-.94 2.06-2.06.94z\"/><path d=\"M17.41 7.96l-1.37-1.37c-.4-.4-.92-.59-1.43-.59-.52 0-1.04.2-1.43.59L10.3 9.45l-7.72 7.72c-.78.78-.78 2.05 0 2.83L4 21.41c.39.39.9.59 1.41.59.51 0 1.02-.2 1.41-.59l7.78-7.78 2.81-2.81c.8-.78.8-2.07 0-2.86zM5.41 20L4 18.59l7.72-7.72 1.47 1.35L5.41 20z\"/>\n",
              "  </svg>\n",
              "      </button>\n",
              "      \n",
              "  <style>\n",
              "    .colab-df-container {\n",
              "      display:flex;\n",
              "      flex-wrap:wrap;\n",
              "      gap: 12px;\n",
              "    }\n",
              "\n",
              "    .colab-df-convert {\n",
              "      background-color: #E8F0FE;\n",
              "      border: none;\n",
              "      border-radius: 50%;\n",
              "      cursor: pointer;\n",
              "      display: none;\n",
              "      fill: #1967D2;\n",
              "      height: 32px;\n",
              "      padding: 0 0 0 0;\n",
              "      width: 32px;\n",
              "    }\n",
              "\n",
              "    .colab-df-convert:hover {\n",
              "      background-color: #E2EBFA;\n",
              "      box-shadow: 0px 1px 2px rgba(60, 64, 67, 0.3), 0px 1px 3px 1px rgba(60, 64, 67, 0.15);\n",
              "      fill: #174EA6;\n",
              "    }\n",
              "\n",
              "    [theme=dark] .colab-df-convert {\n",
              "      background-color: #3B4455;\n",
              "      fill: #D2E3FC;\n",
              "    }\n",
              "\n",
              "    [theme=dark] .colab-df-convert:hover {\n",
              "      background-color: #434B5C;\n",
              "      box-shadow: 0px 1px 3px 1px rgba(0, 0, 0, 0.15);\n",
              "      filter: drop-shadow(0px 1px 2px rgba(0, 0, 0, 0.3));\n",
              "      fill: #FFFFFF;\n",
              "    }\n",
              "  </style>\n",
              "\n",
              "      <script>\n",
              "        const buttonEl =\n",
              "          document.querySelector('#df-790fed5b-680f-45a8-93a6-128736c1d148 button.colab-df-convert');\n",
              "        buttonEl.style.display =\n",
              "          google.colab.kernel.accessAllowed ? 'block' : 'none';\n",
              "\n",
              "        async function convertToInteractive(key) {\n",
              "          const element = document.querySelector('#df-790fed5b-680f-45a8-93a6-128736c1d148');\n",
              "          const dataTable =\n",
              "            await google.colab.kernel.invokeFunction('convertToInteractive',\n",
              "                                                     [key], {});\n",
              "          if (!dataTable) return;\n",
              "\n",
              "          const docLinkHtml = 'Like what you see? Visit the ' +\n",
              "            '<a target=\"_blank\" href=https://colab.research.google.com/notebooks/data_table.ipynb>data table notebook</a>'\n",
              "            + ' to learn more about interactive tables.';\n",
              "          element.innerHTML = '';\n",
              "          dataTable['output_type'] = 'display_data';\n",
              "          await google.colab.output.renderOutput(dataTable, element);\n",
              "          const docLink = document.createElement('div');\n",
              "          docLink.innerHTML = docLinkHtml;\n",
              "          element.appendChild(docLink);\n",
              "        }\n",
              "      </script>\n",
              "    </div>\n",
              "  </div>\n",
              "  "
            ]
          },
          "metadata": {},
          "execution_count": 59
        }
      ]
    },
    {
      "cell_type": "code",
      "source": [
        "test_df.head()"
      ],
      "metadata": {
        "colab": {
          "base_uri": "https://localhost:8080/",
          "height": 300
        },
        "id": "Xne3aKSLgS99",
        "outputId": "3cf3925d-864b-4245-c8ba-7c7a80f3fad7"
      },
      "execution_count": 60,
      "outputs": [
        {
          "output_type": "execute_result",
          "data": {
            "text/plain": [
              "       Age  DaysSinceCreation  AverageLeadTime  LodgingRevenue  OtherRevenue  \\\n",
              "82580   47                 11                0            0.00           0.0   \n",
              "82581   16                 11              130          483.48         155.1   \n",
              "82582   15                 11                0            0.00           0.0   \n",
              "82583   12                 11                0            0.00           0.0   \n",
              "82584   45                 11                0            0.00           0.0   \n",
              "\n",
              "       BookingsCanceled  BookingsNoShowed  PersonsNights  RoomNights  \\\n",
              "82580                 0                 0              0           0   \n",
              "82581                 0                 0             15           5   \n",
              "82582                 0                 0              0           0   \n",
              "82583                 0                 0              0           0   \n",
              "82584                 0                 0              0           0   \n",
              "\n",
              "       DaysSinceLastStay  ...  SRMediumFloor  SRBathtub  SRShower  SRCrib  \\\n",
              "82580                 -1  ...              0          0         0       0   \n",
              "82581                 16  ...              0          0         0       0   \n",
              "82582                 -1  ...              0          0         0       0   \n",
              "82583                 -1  ...              0          0         0       0   \n",
              "82584                 -1  ...              0          0         0       0   \n",
              "\n",
              "       SRKingSizeBed  SRTwinBed  SRNearElevator  SRAwayFromElevator  \\\n",
              "82580              0          0               0                   0   \n",
              "82581              0          0               0                   0   \n",
              "82582              0          0               0                   0   \n",
              "82583              0          0               0                   0   \n",
              "82584              1          0               0                   0   \n",
              "\n",
              "       SRNoAlcoholInMiniBar  SRQuietRoom  \n",
              "82580                     0            0  \n",
              "82581                     0            0  \n",
              "82582                     0            0  \n",
              "82583                     0            0  \n",
              "82584                     0            0  \n",
              "\n",
              "[5 rows x 26 columns]"
            ],
            "text/html": [
              "\n",
              "  <div id=\"df-5bb77a5f-4dac-414a-add0-7154cc2673ca\">\n",
              "    <div class=\"colab-df-container\">\n",
              "      <div>\n",
              "<style scoped>\n",
              "    .dataframe tbody tr th:only-of-type {\n",
              "        vertical-align: middle;\n",
              "    }\n",
              "\n",
              "    .dataframe tbody tr th {\n",
              "        vertical-align: top;\n",
              "    }\n",
              "\n",
              "    .dataframe thead th {\n",
              "        text-align: right;\n",
              "    }\n",
              "</style>\n",
              "<table border=\"1\" class=\"dataframe\">\n",
              "  <thead>\n",
              "    <tr style=\"text-align: right;\">\n",
              "      <th></th>\n",
              "      <th>Age</th>\n",
              "      <th>DaysSinceCreation</th>\n",
              "      <th>AverageLeadTime</th>\n",
              "      <th>LodgingRevenue</th>\n",
              "      <th>OtherRevenue</th>\n",
              "      <th>BookingsCanceled</th>\n",
              "      <th>BookingsNoShowed</th>\n",
              "      <th>PersonsNights</th>\n",
              "      <th>RoomNights</th>\n",
              "      <th>DaysSinceLastStay</th>\n",
              "      <th>...</th>\n",
              "      <th>SRMediumFloor</th>\n",
              "      <th>SRBathtub</th>\n",
              "      <th>SRShower</th>\n",
              "      <th>SRCrib</th>\n",
              "      <th>SRKingSizeBed</th>\n",
              "      <th>SRTwinBed</th>\n",
              "      <th>SRNearElevator</th>\n",
              "      <th>SRAwayFromElevator</th>\n",
              "      <th>SRNoAlcoholInMiniBar</th>\n",
              "      <th>SRQuietRoom</th>\n",
              "    </tr>\n",
              "  </thead>\n",
              "  <tbody>\n",
              "    <tr>\n",
              "      <th>82580</th>\n",
              "      <td>47</td>\n",
              "      <td>11</td>\n",
              "      <td>0</td>\n",
              "      <td>0.00</td>\n",
              "      <td>0.0</td>\n",
              "      <td>0</td>\n",
              "      <td>0</td>\n",
              "      <td>0</td>\n",
              "      <td>0</td>\n",
              "      <td>-1</td>\n",
              "      <td>...</td>\n",
              "      <td>0</td>\n",
              "      <td>0</td>\n",
              "      <td>0</td>\n",
              "      <td>0</td>\n",
              "      <td>0</td>\n",
              "      <td>0</td>\n",
              "      <td>0</td>\n",
              "      <td>0</td>\n",
              "      <td>0</td>\n",
              "      <td>0</td>\n",
              "    </tr>\n",
              "    <tr>\n",
              "      <th>82581</th>\n",
              "      <td>16</td>\n",
              "      <td>11</td>\n",
              "      <td>130</td>\n",
              "      <td>483.48</td>\n",
              "      <td>155.1</td>\n",
              "      <td>0</td>\n",
              "      <td>0</td>\n",
              "      <td>15</td>\n",
              "      <td>5</td>\n",
              "      <td>16</td>\n",
              "      <td>...</td>\n",
              "      <td>0</td>\n",
              "      <td>0</td>\n",
              "      <td>0</td>\n",
              "      <td>0</td>\n",
              "      <td>0</td>\n",
              "      <td>0</td>\n",
              "      <td>0</td>\n",
              "      <td>0</td>\n",
              "      <td>0</td>\n",
              "      <td>0</td>\n",
              "    </tr>\n",
              "    <tr>\n",
              "      <th>82582</th>\n",
              "      <td>15</td>\n",
              "      <td>11</td>\n",
              "      <td>0</td>\n",
              "      <td>0.00</td>\n",
              "      <td>0.0</td>\n",
              "      <td>0</td>\n",
              "      <td>0</td>\n",
              "      <td>0</td>\n",
              "      <td>0</td>\n",
              "      <td>-1</td>\n",
              "      <td>...</td>\n",
              "      <td>0</td>\n",
              "      <td>0</td>\n",
              "      <td>0</td>\n",
              "      <td>0</td>\n",
              "      <td>0</td>\n",
              "      <td>0</td>\n",
              "      <td>0</td>\n",
              "      <td>0</td>\n",
              "      <td>0</td>\n",
              "      <td>0</td>\n",
              "    </tr>\n",
              "    <tr>\n",
              "      <th>82583</th>\n",
              "      <td>12</td>\n",
              "      <td>11</td>\n",
              "      <td>0</td>\n",
              "      <td>0.00</td>\n",
              "      <td>0.0</td>\n",
              "      <td>0</td>\n",
              "      <td>0</td>\n",
              "      <td>0</td>\n",
              "      <td>0</td>\n",
              "      <td>-1</td>\n",
              "      <td>...</td>\n",
              "      <td>0</td>\n",
              "      <td>0</td>\n",
              "      <td>0</td>\n",
              "      <td>0</td>\n",
              "      <td>0</td>\n",
              "      <td>0</td>\n",
              "      <td>0</td>\n",
              "      <td>0</td>\n",
              "      <td>0</td>\n",
              "      <td>0</td>\n",
              "    </tr>\n",
              "    <tr>\n",
              "      <th>82584</th>\n",
              "      <td>45</td>\n",
              "      <td>11</td>\n",
              "      <td>0</td>\n",
              "      <td>0.00</td>\n",
              "      <td>0.0</td>\n",
              "      <td>0</td>\n",
              "      <td>0</td>\n",
              "      <td>0</td>\n",
              "      <td>0</td>\n",
              "      <td>-1</td>\n",
              "      <td>...</td>\n",
              "      <td>0</td>\n",
              "      <td>0</td>\n",
              "      <td>0</td>\n",
              "      <td>0</td>\n",
              "      <td>1</td>\n",
              "      <td>0</td>\n",
              "      <td>0</td>\n",
              "      <td>0</td>\n",
              "      <td>0</td>\n",
              "      <td>0</td>\n",
              "    </tr>\n",
              "  </tbody>\n",
              "</table>\n",
              "<p>5 rows × 26 columns</p>\n",
              "</div>\n",
              "      <button class=\"colab-df-convert\" onclick=\"convertToInteractive('df-5bb77a5f-4dac-414a-add0-7154cc2673ca')\"\n",
              "              title=\"Convert this dataframe to an interactive table.\"\n",
              "              style=\"display:none;\">\n",
              "        \n",
              "  <svg xmlns=\"http://www.w3.org/2000/svg\" height=\"24px\"viewBox=\"0 0 24 24\"\n",
              "       width=\"24px\">\n",
              "    <path d=\"M0 0h24v24H0V0z\" fill=\"none\"/>\n",
              "    <path d=\"M18.56 5.44l.94 2.06.94-2.06 2.06-.94-2.06-.94-.94-2.06-.94 2.06-2.06.94zm-11 1L8.5 8.5l.94-2.06 2.06-.94-2.06-.94L8.5 2.5l-.94 2.06-2.06.94zm10 10l.94 2.06.94-2.06 2.06-.94-2.06-.94-.94-2.06-.94 2.06-2.06.94z\"/><path d=\"M17.41 7.96l-1.37-1.37c-.4-.4-.92-.59-1.43-.59-.52 0-1.04.2-1.43.59L10.3 9.45l-7.72 7.72c-.78.78-.78 2.05 0 2.83L4 21.41c.39.39.9.59 1.41.59.51 0 1.02-.2 1.41-.59l7.78-7.78 2.81-2.81c.8-.78.8-2.07 0-2.86zM5.41 20L4 18.59l7.72-7.72 1.47 1.35L5.41 20z\"/>\n",
              "  </svg>\n",
              "      </button>\n",
              "      \n",
              "  <style>\n",
              "    .colab-df-container {\n",
              "      display:flex;\n",
              "      flex-wrap:wrap;\n",
              "      gap: 12px;\n",
              "    }\n",
              "\n",
              "    .colab-df-convert {\n",
              "      background-color: #E8F0FE;\n",
              "      border: none;\n",
              "      border-radius: 50%;\n",
              "      cursor: pointer;\n",
              "      display: none;\n",
              "      fill: #1967D2;\n",
              "      height: 32px;\n",
              "      padding: 0 0 0 0;\n",
              "      width: 32px;\n",
              "    }\n",
              "\n",
              "    .colab-df-convert:hover {\n",
              "      background-color: #E2EBFA;\n",
              "      box-shadow: 0px 1px 2px rgba(60, 64, 67, 0.3), 0px 1px 3px 1px rgba(60, 64, 67, 0.15);\n",
              "      fill: #174EA6;\n",
              "    }\n",
              "\n",
              "    [theme=dark] .colab-df-convert {\n",
              "      background-color: #3B4455;\n",
              "      fill: #D2E3FC;\n",
              "    }\n",
              "\n",
              "    [theme=dark] .colab-df-convert:hover {\n",
              "      background-color: #434B5C;\n",
              "      box-shadow: 0px 1px 3px 1px rgba(0, 0, 0, 0.15);\n",
              "      filter: drop-shadow(0px 1px 2px rgba(0, 0, 0, 0.3));\n",
              "      fill: #FFFFFF;\n",
              "    }\n",
              "  </style>\n",
              "\n",
              "      <script>\n",
              "        const buttonEl =\n",
              "          document.querySelector('#df-5bb77a5f-4dac-414a-add0-7154cc2673ca button.colab-df-convert');\n",
              "        buttonEl.style.display =\n",
              "          google.colab.kernel.accessAllowed ? 'block' : 'none';\n",
              "\n",
              "        async function convertToInteractive(key) {\n",
              "          const element = document.querySelector('#df-5bb77a5f-4dac-414a-add0-7154cc2673ca');\n",
              "          const dataTable =\n",
              "            await google.colab.kernel.invokeFunction('convertToInteractive',\n",
              "                                                     [key], {});\n",
              "          if (!dataTable) return;\n",
              "\n",
              "          const docLinkHtml = 'Like what you see? Visit the ' +\n",
              "            '<a target=\"_blank\" href=https://colab.research.google.com/notebooks/data_table.ipynb>data table notebook</a>'\n",
              "            + ' to learn more about interactive tables.';\n",
              "          element.innerHTML = '';\n",
              "          dataTable['output_type'] = 'display_data';\n",
              "          await google.colab.output.renderOutput(dataTable, element);\n",
              "          const docLink = document.createElement('div');\n",
              "          docLink.innerHTML = docLinkHtml;\n",
              "          element.appendChild(docLink);\n",
              "        }\n",
              "      </script>\n",
              "    </div>\n",
              "  </div>\n",
              "  "
            ]
          },
          "metadata": {},
          "execution_count": 60
        }
      ]
    },
    {
      "cell_type": "code",
      "source": [
        "train_df.to_csv(\"/content/drive/MyDrive/col/hotel_booking/train_modified.csv\",index=False)\n",
        "test_df.to_csv(\"/content/drive/MyDrive/col/hotel_booking/test_modified.csv\",index=False)"
      ],
      "metadata": {
        "id": "9Ng2sgiXgTBb"
      },
      "execution_count": 61,
      "outputs": []
    },
    {
      "cell_type": "code",
      "source": [
        "train_data_mod=pd.read_csv(\"/content/drive/MyDrive/col/hotel_booking/train_modified.csv\")\n"
      ],
      "metadata": {
        "id": "gAKHxaCdgTGa"
      },
      "execution_count": 62,
      "outputs": []
    },
    {
      "cell_type": "code",
      "source": [
        ""
      ],
      "metadata": {
        "id": "S8f0IEF74S4C"
      },
      "execution_count": 62,
      "outputs": []
    },
    {
      "cell_type": "markdown",
      "source": [
        "<h4>BookingsCheckedIn is unbalance data so we use downsampling method"
      ],
      "metadata": {
        "id": "ywU3AfP-PqKK"
      }
    },
    {
      "cell_type": "code",
      "source": [
        "Bookings = train_data_mod['BookingsCheckedIn'].value_counts()\n",
        "sns.barplot(Bookings.index, Bookings.values, alpha=1)\n",
        "plt.xticks(rotation='vertical')\n",
        "plt.xlabel('BookingsCheckedIn', fontsize=14)\n",
        "plt.ylabel('Number of BookingsCheckedIn', fontsize=14)\n",
        "plt.title(\"Number of BookingsCheckedIn \", fontsize=16)\n",
        "plt.show()"
      ],
      "metadata": {
        "colab": {
          "base_uri": "https://localhost:8080/",
          "height": 298
        },
        "id": "7qfE0ERT4TIi",
        "outputId": "fb827347-683b-47d8-9fa5-a7124c9fda24"
      },
      "execution_count": 63,
      "outputs": [
        {
          "output_type": "display_data",
          "data": {
            "text/plain": [
              "<Figure size 720x288 with 1 Axes>"
            ],
            "image/png": "[encoded data removed]"
          },
          "metadata": {
            "needs_background": "light"
          }
        }
      ]
    },
    {
      "cell_type": "code",
      "source": [
        "#Down sampling\n",
        "class_1, class_0 = train_data_mod.BookingsCheckedIn.value_counts()\n",
        "# Divide by class\n",
        "train_data_mod_class_c = train_data_mod[train_data_mod.BookingsCheckedIn==1]\n",
        "train_data_mod_class_d = train_data_mod[train_data_mod.BookingsCheckedIn==0]\n",
        "\n",
        "seed=7\n",
        "train_data_mod_class_c_under =train_data_mod_class_c.sample(class_0,random_state=seed)\n",
        "train_data_mod_down = pd.concat([train_data_mod_class_c_under, train_data_mod_class_d], axis=0)\n",
        "\n",
        "print('Random under-sampling:')\n",
        "print(train_data_mod.BookingsCheckedIn.value_counts())\n",
        "print('After Downsampling:')\n",
        "print(train_data_mod_down.BookingsCheckedIn.value_counts())"
      ],
      "metadata": {
        "colab": {
          "base_uri": "https://localhost:8080/"
        },
        "id": "ATF2qeaK5ytQ",
        "outputId": "b99ce93b-9a27-4705-cdcf-a09ab5276971"
      },
      "execution_count": 64,
      "outputs": [
        {
          "output_type": "stream",
          "name": "stdout",
          "text": [
            "Random under-sampling:\n",
            "1    61722\n",
            "0    19392\n",
            "Name: BookingsCheckedIn, dtype: int64\n",
            "After Downsampling:\n",
            "1    19392\n",
            "0    19392\n",
            "Name: BookingsCheckedIn, dtype: int64\n"
          ]
        }
      ]
    },
    {
      "cell_type": "code",
      "source": [
        "#Graph before after down sampling\n",
        "plt.figure(figsize=(10,5))\n",
        "plt.subplot(1, 2, 1)\n",
        "train_data_mod['BookingsCheckedIn'].value_counts().plot(kind='bar', title='Count(BookingsCheckedIn)- Before Downsample');\n",
        "plt.subplot(1, 2, 2)\n",
        "train_data_mod_down.BookingsCheckedIn.value_counts().plot(kind='bar', title='Count(BookingsCheckedIn)-After Downsample');\n",
        "plt.tight_layout()\n",
        "plt.show()"
      ],
      "metadata": {
        "colab": {
          "base_uri": "https://localhost:8080/",
          "height": 369
        },
        "id": "lDS650Zx6rem",
        "outputId": "9481a43c-9105-4f13-adf7-385a4cf7b3ef"
      },
      "execution_count": 65,
      "outputs": [
        {
          "output_type": "display_data",
          "data": {
            "text/plain": [
              "<Figure size 720x360 with 2 Axes>"
            ],
            "image/png": "[encoded data removed]"
          },
          "metadata": {
            "needs_background": "light"
          }
        }
      ]
    },
    {
      "cell_type": "code",
      "source": [
        ""
      ],
      "metadata": {
        "id": "iIXxM3GYJccN"
      },
      "execution_count": 65,
      "outputs": []
    },
    {
      "cell_type": "markdown",
      "source": [
        "<h4>Split X and y"
      ],
      "metadata": {
        "id": "eKJBq997P7Ct"
      }
    },
    {
      "cell_type": "code",
      "source": [
        "X = train_data_mod_down.drop(['BookingsCheckedIn'], axis=1)\n",
        "y = train_data_mod_down.BookingsCheckedIn"
      ],
      "metadata": {
        "id": "XTzQJTZ4J5zo"
      },
      "execution_count": 66,
      "outputs": []
    },
    {
      "cell_type": "code",
      "source": [
        "X.head()"
      ],
      "metadata": {
        "colab": {
          "base_uri": "https://localhost:8080/",
          "height": 300
        },
        "id": "VVXntC8YJ58Q",
        "outputId": "f356e80f-c768-4031-979c-d3acdbd106f0"
      },
      "execution_count": 67,
      "outputs": [
        {
          "output_type": "execute_result",
          "data": {
            "text/plain": [
              "       Age  DaysSinceCreation  AverageLeadTime  LodgingRevenue  OtherRevenue  \\\n",
              "77083   15                 60              230         1980.00         462.0   \n",
              "30100   70                560              317          277.20          45.0   \n",
              "1788    59               1040                5          127.68          72.5   \n",
              "25828   52                622               52          630.00          84.0   \n",
              "77104   39                 60               94          330.00          45.5   \n",
              "\n",
              "       BookingsCanceled  BookingsNoShowed  PersonsNights  RoomNights  \\\n",
              "77083                 0                 0             12           4   \n",
              "30100                 0                 0              2           1   \n",
              "1788                  0                 0              2           2   \n",
              "25828                 0                 0             12           4   \n",
              "77104                 0                 0              6           3   \n",
              "\n",
              "       DaysSinceLastStay  ...  SRMediumFloor  SRBathtub  SRShower  SRCrib  \\\n",
              "77083                 64  ...              0          0         0       0   \n",
              "30100                561  ...              0          0         0       0   \n",
              "1788                1042  ...              0          0         0       0   \n",
              "25828                626  ...              0          0         0       0   \n",
              "77104                 63  ...              0          0         0       0   \n",
              "\n",
              "       SRKingSizeBed  SRTwinBed  SRNearElevator  SRAwayFromElevator  \\\n",
              "77083              0          1               0                   0   \n",
              "30100              0          1               0                   0   \n",
              "1788               0          0               0                   0   \n",
              "25828              0          0               0                   0   \n",
              "77104              0          0               0                   0   \n",
              "\n",
              "       SRNoAlcoholInMiniBar  SRQuietRoom  \n",
              "77083                     0            0  \n",
              "30100                     0            1  \n",
              "1788                      0            0  \n",
              "25828                     0            1  \n",
              "77104                     0            0  \n",
              "\n",
              "[5 rows x 26 columns]"
            ],
            "text/html": [
              "\n",
              "  <div id=\"df-ca8bc770-14bd-4f81-a1f3-57ffa132d2ba\">\n",
              "    <div class=\"colab-df-container\">\n",
              "      <div>\n",
              "<style scoped>\n",
              "    .dataframe tbody tr th:only-of-type {\n",
              "        vertical-align: middle;\n",
              "    }\n",
              "\n",
              "    .dataframe tbody tr th {\n",
              "        vertical-align: top;\n",
              "    }\n",
              "\n",
              "    .dataframe thead th {\n",
              "        text-align: right;\n",
              "    }\n",
              "</style>\n",
              "<table border=\"1\" class=\"dataframe\">\n",
              "  <thead>\n",
              "    <tr style=\"text-align: right;\">\n",
              "      <th></th>\n",
              "      <th>Age</th>\n",
              "      <th>DaysSinceCreation</th>\n",
              "      <th>AverageLeadTime</th>\n",
              "      <th>LodgingRevenue</th>\n",
              "      <th>OtherRevenue</th>\n",
              "      <th>BookingsCanceled</th>\n",
              "      <th>BookingsNoShowed</th>\n",
              "      <th>PersonsNights</th>\n",
              "      <th>RoomNights</th>\n",
              "      <th>DaysSinceLastStay</th>\n",
              "      <th>...</th>\n",
              "      <th>SRMediumFloor</th>\n",
              "      <th>SRBathtub</th>\n",
              "      <th>SRShower</th>\n",
              "      <th>SRCrib</th>\n",
              "      <th>SRKingSizeBed</th>\n",
              "      <th>SRTwinBed</th>\n",
              "      <th>SRNearElevator</th>\n",
              "      <th>SRAwayFromElevator</th>\n",
              "      <th>SRNoAlcoholInMiniBar</th>\n",
              "      <th>SRQuietRoom</th>\n",
              "    </tr>\n",
              "  </thead>\n",
              "  <tbody>\n",
              "    <tr>\n",
              "      <th>77083</th>\n",
              "      <td>15</td>\n",
              "      <td>60</td>\n",
              "      <td>230</td>\n",
              "      <td>1980.00</td>\n",
              "      <td>462.0</td>\n",
              "      <td>0</td>\n",
              "      <td>0</td>\n",
              "      <td>12</td>\n",
              "      <td>4</td>\n",
              "      <td>64</td>\n",
              "      <td>...</td>\n",
              "      <td>0</td>\n",
              "      <td>0</td>\n",
              "      <td>0</td>\n",
              "      <td>0</td>\n",
              "      <td>0</td>\n",
              "      <td>1</td>\n",
              "      <td>0</td>\n",
              "      <td>0</td>\n",
              "      <td>0</td>\n",
              "      <td>0</td>\n",
              "    </tr>\n",
              "    <tr>\n",
              "      <th>30100</th>\n",
              "      <td>70</td>\n",
              "      <td>560</td>\n",
              "      <td>317</td>\n",
              "      <td>277.20</td>\n",
              "      <td>45.0</td>\n",
              "      <td>0</td>\n",
              "      <td>0</td>\n",
              "      <td>2</td>\n",
              "      <td>1</td>\n",
              "      <td>561</td>\n",
              "      <td>...</td>\n",
              "      <td>0</td>\n",
              "      <td>0</td>\n",
              "      <td>0</td>\n",
              "      <td>0</td>\n",
              "      <td>0</td>\n",
              "      <td>1</td>\n",
              "      <td>0</td>\n",
              "      <td>0</td>\n",
              "      <td>0</td>\n",
              "      <td>1</td>\n",
              "    </tr>\n",
              "    <tr>\n",
              "      <th>1788</th>\n",
              "      <td>59</td>\n",
              "      <td>1040</td>\n",
              "      <td>5</td>\n",
              "      <td>127.68</td>\n",
              "      <td>72.5</td>\n",
              "      <td>0</td>\n",
              "      <td>0</td>\n",
              "      <td>2</td>\n",
              "      <td>2</td>\n",
              "      <td>1042</td>\n",
              "      <td>...</td>\n",
              "      <td>0</td>\n",
              "      <td>0</td>\n",
              "      <td>0</td>\n",
              "      <td>0</td>\n",
              "      <td>0</td>\n",
              "      <td>0</td>\n",
              "      <td>0</td>\n",
              "      <td>0</td>\n",
              "      <td>0</td>\n",
              "      <td>0</td>\n",
              "    </tr>\n",
              "    <tr>\n",
              "      <th>25828</th>\n",
              "      <td>52</td>\n",
              "      <td>622</td>\n",
              "      <td>52</td>\n",
              "      <td>630.00</td>\n",
              "      <td>84.0</td>\n",
              "      <td>0</td>\n",
              "      <td>0</td>\n",
              "      <td>12</td>\n",
              "      <td>4</td>\n",
              "      <td>626</td>\n",
              "      <td>...</td>\n",
              "      <td>0</td>\n",
              "      <td>0</td>\n",
              "      <td>0</td>\n",
              "      <td>0</td>\n",
              "      <td>0</td>\n",
              "      <td>0</td>\n",
              "      <td>0</td>\n",
              "      <td>0</td>\n",
              "      <td>0</td>\n",
              "      <td>1</td>\n",
              "    </tr>\n",
              "    <tr>\n",
              "      <th>77104</th>\n",
              "      <td>39</td>\n",
              "      <td>60</td>\n",
              "      <td>94</td>\n",
              "      <td>330.00</td>\n",
              "      <td>45.5</td>\n",
              "      <td>0</td>\n",
              "      <td>0</td>\n",
              "      <td>6</td>\n",
              "      <td>3</td>\n",
              "      <td>63</td>\n",
              "      <td>...</td>\n",
              "      <td>0</td>\n",
              "      <td>0</td>\n",
              "      <td>0</td>\n",
              "      <td>0</td>\n",
              "      <td>0</td>\n",
              "      <td>0</td>\n",
              "      <td>0</td>\n",
              "      <td>0</td>\n",
              "      <td>0</td>\n",
              "      <td>0</td>\n",
              "    </tr>\n",
              "  </tbody>\n",
              "</table>\n",
              "<p>5 rows × 26 columns</p>\n",
              "</div>\n",
              "      <button class=\"colab-df-convert\" onclick=\"convertToInteractive('df-ca8bc770-14bd-4f81-a1f3-57ffa132d2ba')\"\n",
              "              title=\"Convert this dataframe to an interactive table.\"\n",
              "              style=\"display:none;\">\n",
              "        \n",
              "  <svg xmlns=\"http://www.w3.org/2000/svg\" height=\"24px\"viewBox=\"0 0 24 24\"\n",
              "       width=\"24px\">\n",
              "    <path d=\"M0 0h24v24H0V0z\" fill=\"none\"/>\n",
              "    <path d=\"M18.56 5.44l.94 2.06.94-2.06 2.06-.94-2.06-.94-.94-2.06-.94 2.06-2.06.94zm-11 1L8.5 8.5l.94-2.06 2.06-.94-2.06-.94L8.5 2.5l-.94 2.06-2.06.94zm10 10l.94 2.06.94-2.06 2.06-.94-2.06-.94-.94-2.06-.94 2.06-2.06.94z\"/><path d=\"M17.41 7.96l-1.37-1.37c-.4-.4-.92-.59-1.43-.59-.52 0-1.04.2-1.43.59L10.3 9.45l-7.72 7.72c-.78.78-.78 2.05 0 2.83L4 21.41c.39.39.9.59 1.41.59.51 0 1.02-.2 1.41-.59l7.78-7.78 2.81-2.81c.8-.78.8-2.07 0-2.86zM5.41 20L4 18.59l7.72-7.72 1.47 1.35L5.41 20z\"/>\n",
              "  </svg>\n",
              "      </button>\n",
              "      \n",
              "  <style>\n",
              "    .colab-df-container {\n",
              "      display:flex;\n",
              "      flex-wrap:wrap;\n",
              "      gap: 12px;\n",
              "    }\n",
              "\n",
              "    .colab-df-convert {\n",
              "      background-color: #E8F0FE;\n",
              "      border: none;\n",
              "      border-radius: 50%;\n",
              "      cursor: pointer;\n",
              "      display: none;\n",
              "      fill: #1967D2;\n",
              "      height: 32px;\n",
              "      padding: 0 0 0 0;\n",
              "      width: 32px;\n",
              "    }\n",
              "\n",
              "    .colab-df-convert:hover {\n",
              "      background-color: #E2EBFA;\n",
              "      box-shadow: 0px 1px 2px rgba(60, 64, 67, 0.3), 0px 1px 3px 1px rgba(60, 64, 67, 0.15);\n",
              "      fill: #174EA6;\n",
              "    }\n",
              "\n",
              "    [theme=dark] .colab-df-convert {\n",
              "      background-color: #3B4455;\n",
              "      fill: #D2E3FC;\n",
              "    }\n",
              "\n",
              "    [theme=dark] .colab-df-convert:hover {\n",
              "      background-color: #434B5C;\n",
              "      box-shadow: 0px 1px 3px 1px rgba(0, 0, 0, 0.15);\n",
              "      filter: drop-shadow(0px 1px 2px rgba(0, 0, 0, 0.3));\n",
              "      fill: #FFFFFF;\n",
              "    }\n",
              "  </style>\n",
              "\n",
              "      <script>\n",
              "        const buttonEl =\n",
              "          document.querySelector('#df-ca8bc770-14bd-4f81-a1f3-57ffa132d2ba button.colab-df-convert');\n",
              "        buttonEl.style.display =\n",
              "          google.colab.kernel.accessAllowed ? 'block' : 'none';\n",
              "\n",
              "        async function convertToInteractive(key) {\n",
              "          const element = document.querySelector('#df-ca8bc770-14bd-4f81-a1f3-57ffa132d2ba');\n",
              "          const dataTable =\n",
              "            await google.colab.kernel.invokeFunction('convertToInteractive',\n",
              "                                                     [key], {});\n",
              "          if (!dataTable) return;\n",
              "\n",
              "          const docLinkHtml = 'Like what you see? Visit the ' +\n",
              "            '<a target=\"_blank\" href=https://colab.research.google.com/notebooks/data_table.ipynb>data table notebook</a>'\n",
              "            + ' to learn more about interactive tables.';\n",
              "          element.innerHTML = '';\n",
              "          dataTable['output_type'] = 'display_data';\n",
              "          await google.colab.output.renderOutput(dataTable, element);\n",
              "          const docLink = document.createElement('div');\n",
              "          docLink.innerHTML = docLinkHtml;\n",
              "          element.appendChild(docLink);\n",
              "        }\n",
              "      </script>\n",
              "    </div>\n",
              "  </div>\n",
              "  "
            ]
          },
          "metadata": {},
          "execution_count": 67
        }
      ]
    },
    {
      "cell_type": "markdown",
      "source": [
        "<h4>Feature Selection "
      ],
      "metadata": {
        "id": "iNAZBVMGQIhU"
      }
    },
    {
      "cell_type": "code",
      "source": [
        "from sklearn.model_selection import train_test_split\n",
        "X_train,X_test,y_train,y_test=train_test_split(X,y,random_state=101,test_size=0.2)"
      ],
      "metadata": {
        "id": "Z8TZ9PCyMGWF"
      },
      "execution_count": 68,
      "outputs": []
    },
    {
      "cell_type": "code",
      "source": [
        "from sklearn.ensemble import ExtraTreesClassifier"
      ],
      "metadata": {
        "id": "j5bYsqO3MGYp"
      },
      "execution_count": 69,
      "outputs": []
    },
    {
      "cell_type": "code",
      "source": [
        "extra_tree_forest = ExtraTreesClassifier(n_estimators = 5,\n",
        "                                        criterion ='entropy', max_features = 2)\n",
        "extra_tree_forest.fit(X, y)\n",
        "\n",
        "feature_importance = extra_tree_forest.feature_importances_\n",
        "  \n",
        "feature_importance_normalized = np.std([tree.feature_importances_ for tree in \n",
        "                                        extra_tree_forest.estimators_],\n",
        "                                        axis = 0)"
      ],
      "metadata": {
        "id": "H8kocVKUMGbQ"
      },
      "execution_count": 70,
      "outputs": []
    },
    {
      "cell_type": "code",
      "source": [
        "plt.figure(figsize=(12, 8))\n",
        "plt.barh(X.columns, feature_importance_normalized)\n",
        "plt.xlabel('Feature Labels')\n",
        "plt.ylabel('Feature Importances')\n",
        "plt.title('Comparison of different Feature Importances')\n",
        "plt.show()"
      ],
      "metadata": {
        "colab": {
          "base_uri": "https://localhost:8080/",
          "height": 513
        },
        "id": "aReFDfv5MGeZ",
        "outputId": "a608c4e5-dd0a-4c83-eebe-08e4d914b9c2"
      },
      "execution_count": 71,
      "outputs": [
        {
          "output_type": "display_data",
          "data": {
            "text/plain": [
              "<Figure size 864x576 with 1 Axes>"
            ],
            "image/png": "[encoded data removed]"
          },
          "metadata": {
            "needs_background": "light"
          }
        }
      ]
    },
    {
      "cell_type": "code",
      "source": [
        "X = X[['Age','AverageLeadTime','DaysSinceCreation','PersonsNights','RoomNights','DaysSinceLastStay','DaysSinceFirstStay','DistributionChannel','MarketSegment']]"
      ],
      "metadata": {
        "id": "hGWb_4reNeBZ"
      },
      "execution_count": 72,
      "outputs": []
    },
    {
      "cell_type": "code",
      "source": [
        "X.head()"
      ],
      "metadata": {
        "colab": {
          "base_uri": "https://localhost:8080/",
          "height": 206
        },
        "id": "9jFklxgoNeM1",
        "outputId": "27ff6784-70e4-4706-c02f-f81ec5b0c117"
      },
      "execution_count": 73,
      "outputs": [
        {
          "output_type": "execute_result",
          "data": {
            "text/plain": [
              "       Age  AverageLeadTime  DaysSinceCreation  PersonsNights  RoomNights  \\\n",
              "77083   15              230                 60             12           4   \n",
              "30100   70              317                560              2           1   \n",
              "1788    59                5               1040              2           2   \n",
              "25828   52               52                622             12           4   \n",
              "77104   39               94                 60              6           3   \n",
              "\n",
              "       DaysSinceLastStay  DaysSinceFirstStay  DistributionChannel  \\\n",
              "77083                 64                  64                    0   \n",
              "30100                561                 561                    0   \n",
              "1788                1042                1042                    0   \n",
              "25828                626                 626                    0   \n",
              "77104                 63                  63                    1   \n",
              "\n",
              "       MarketSegment  \n",
              "77083              7  \n",
              "30100              7  \n",
              "1788               7  \n",
              "25828              7  \n",
              "77104              1  "
            ],
            "text/html": [
              "\n",
              "  <div id=\"df-7c6776ce-0bbd-425d-8141-6d10ff8d7235\">\n",
              "    <div class=\"colab-df-container\">\n",
              "      <div>\n",
              "<style scoped>\n",
              "    .dataframe tbody tr th:only-of-type {\n",
              "        vertical-align: middle;\n",
              "    }\n",
              "\n",
              "    .dataframe tbody tr th {\n",
              "        vertical-align: top;\n",
              "    }\n",
              "\n",
              "    .dataframe thead th {\n",
              "        text-align: right;\n",
              "    }\n",
              "</style>\n",
              "<table border=\"1\" class=\"dataframe\">\n",
              "  <thead>\n",
              "    <tr style=\"text-align: right;\">\n",
              "      <th></th>\n",
              "      <th>Age</th>\n",
              "      <th>AverageLeadTime</th>\n",
              "      <th>DaysSinceCreation</th>\n",
              "      <th>PersonsNights</th>\n",
              "      <th>RoomNights</th>\n",
              "      <th>DaysSinceLastStay</th>\n",
              "      <th>DaysSinceFirstStay</th>\n",
              "      <th>DistributionChannel</th>\n",
              "      <th>MarketSegment</th>\n",
              "    </tr>\n",
              "  </thead>\n",
              "  <tbody>\n",
              "    <tr>\n",
              "      <th>77083</th>\n",
              "      <td>15</td>\n",
              "      <td>230</td>\n",
              "      <td>60</td>\n",
              "      <td>12</td>\n",
              "      <td>4</td>\n",
              "      <td>64</td>\n",
              "      <td>64</td>\n",
              "      <td>0</td>\n",
              "      <td>7</td>\n",
              "    </tr>\n",
              "    <tr>\n",
              "      <th>30100</th>\n",
              "      <td>70</td>\n",
              "      <td>317</td>\n",
              "      <td>560</td>\n",
              "      <td>2</td>\n",
              "      <td>1</td>\n",
              "      <td>561</td>\n",
              "      <td>561</td>\n",
              "      <td>0</td>\n",
              "      <td>7</td>\n",
              "    </tr>\n",
              "    <tr>\n",
              "      <th>1788</th>\n",
              "      <td>59</td>\n",
              "      <td>5</td>\n",
              "      <td>1040</td>\n",
              "      <td>2</td>\n",
              "      <td>2</td>\n",
              "      <td>1042</td>\n",
              "      <td>1042</td>\n",
              "      <td>0</td>\n",
              "      <td>7</td>\n",
              "    </tr>\n",
              "    <tr>\n",
              "      <th>25828</th>\n",
              "      <td>52</td>\n",
              "      <td>52</td>\n",
              "      <td>622</td>\n",
              "      <td>12</td>\n",
              "      <td>4</td>\n",
              "      <td>626</td>\n",
              "      <td>626</td>\n",
              "      <td>0</td>\n",
              "      <td>7</td>\n",
              "    </tr>\n",
              "    <tr>\n",
              "      <th>77104</th>\n",
              "      <td>39</td>\n",
              "      <td>94</td>\n",
              "      <td>60</td>\n",
              "      <td>6</td>\n",
              "      <td>3</td>\n",
              "      <td>63</td>\n",
              "      <td>63</td>\n",
              "      <td>1</td>\n",
              "      <td>1</td>\n",
              "    </tr>\n",
              "  </tbody>\n",
              "</table>\n",
              "</div>\n",
              "      <button class=\"colab-df-convert\" onclick=\"convertToInteractive('df-7c6776ce-0bbd-425d-8141-6d10ff8d7235')\"\n",
              "              title=\"Convert this dataframe to an interactive table.\"\n",
              "              style=\"display:none;\">\n",
              "        \n",
              "  <svg xmlns=\"http://www.w3.org/2000/svg\" height=\"24px\"viewBox=\"0 0 24 24\"\n",
              "       width=\"24px\">\n",
              "    <path d=\"M0 0h24v24H0V0z\" fill=\"none\"/>\n",
              "    <path d=\"M18.56 5.44l.94 2.06.94-2.06 2.06-.94-2.06-.94-.94-2.06-.94 2.06-2.06.94zm-11 1L8.5 8.5l.94-2.06 2.06-.94-2.06-.94L8.5 2.5l-.94 2.06-2.06.94zm10 10l.94 2.06.94-2.06 2.06-.94-2.06-.94-.94-2.06-.94 2.06-2.06.94z\"/><path d=\"M17.41 7.96l-1.37-1.37c-.4-.4-.92-.59-1.43-.59-.52 0-1.04.2-1.43.59L10.3 9.45l-7.72 7.72c-.78.78-.78 2.05 0 2.83L4 21.41c.39.39.9.59 1.41.59.51 0 1.02-.2 1.41-.59l7.78-7.78 2.81-2.81c.8-.78.8-2.07 0-2.86zM5.41 20L4 18.59l7.72-7.72 1.47 1.35L5.41 20z\"/>\n",
              "  </svg>\n",
              "      </button>\n",
              "      \n",
              "  <style>\n",
              "    .colab-df-container {\n",
              "      display:flex;\n",
              "      flex-wrap:wrap;\n",
              "      gap: 12px;\n",
              "    }\n",
              "\n",
              "    .colab-df-convert {\n",
              "      background-color: #E8F0FE;\n",
              "      border: none;\n",
              "      border-radius: 50%;\n",
              "      cursor: pointer;\n",
              "      display: none;\n",
              "      fill: #1967D2;\n",
              "      height: 32px;\n",
              "      padding: 0 0 0 0;\n",
              "      width: 32px;\n",
              "    }\n",
              "\n",
              "    .colab-df-convert:hover {\n",
              "      background-color: #E2EBFA;\n",
              "      box-shadow: 0px 1px 2px rgba(60, 64, 67, 0.3), 0px 1px 3px 1px rgba(60, 64, 67, 0.15);\n",
              "      fill: #174EA6;\n",
              "    }\n",
              "\n",
              "    [theme=dark] .colab-df-convert {\n",
              "      background-color: #3B4455;\n",
              "      fill: #D2E3FC;\n",
              "    }\n",
              "\n",
              "    [theme=dark] .colab-df-convert:hover {\n",
              "      background-color: #434B5C;\n",
              "      box-shadow: 0px 1px 3px 1px rgba(0, 0, 0, 0.15);\n",
              "      filter: drop-shadow(0px 1px 2px rgba(0, 0, 0, 0.3));\n",
              "      fill: #FFFFFF;\n",
              "    }\n",
              "  </style>\n",
              "\n",
              "      <script>\n",
              "        const buttonEl =\n",
              "          document.querySelector('#df-7c6776ce-0bbd-425d-8141-6d10ff8d7235 button.colab-df-convert');\n",
              "        buttonEl.style.display =\n",
              "          google.colab.kernel.accessAllowed ? 'block' : 'none';\n",
              "\n",
              "        async function convertToInteractive(key) {\n",
              "          const element = document.querySelector('#df-7c6776ce-0bbd-425d-8141-6d10ff8d7235');\n",
              "          const dataTable =\n",
              "            await google.colab.kernel.invokeFunction('convertToInteractive',\n",
              "                                                     [key], {});\n",
              "          if (!dataTable) return;\n",
              "\n",
              "          const docLinkHtml = 'Like what you see? Visit the ' +\n",
              "            '<a target=\"_blank\" href=https://colab.research.google.com/notebooks/data_table.ipynb>data table notebook</a>'\n",
              "            + ' to learn more about interactive tables.';\n",
              "          element.innerHTML = '';\n",
              "          dataTable['output_type'] = 'display_data';\n",
              "          await google.colab.output.renderOutput(dataTable, element);\n",
              "          const docLink = document.createElement('div');\n",
              "          docLink.innerHTML = docLinkHtml;\n",
              "          element.appendChild(docLink);\n",
              "        }\n",
              "      </script>\n",
              "    </div>\n",
              "  </div>\n",
              "  "
            ]
          },
          "metadata": {},
          "execution_count": 73
        }
      ]
    },
    {
      "cell_type": "markdown",
      "source": [
        "<h4>Split X and y to train and test"
      ],
      "metadata": {
        "id": "vEySoZSQQQRW"
      }
    },
    {
      "cell_type": "code",
      "source": [
        "from sklearn.model_selection import train_test_split\n",
        "X_train,X_test,y_train,y_test=train_test_split(X,y,random_state=101,test_size=0.2)"
      ],
      "metadata": {
        "id": "UesHF2r2NeQk"
      },
      "execution_count": 74,
      "outputs": []
    },
    {
      "cell_type": "markdown",
      "source": [
        "<h2>Model Building"
      ],
      "metadata": {
        "id": "gZQcjg6rToyC"
      }
    },
    {
      "cell_type": "markdown",
      "source": [
        "Make Performance Matrix"
      ],
      "metadata": {
        "id": "b7_E5h03Qb3q"
      }
    },
    {
      "cell_type": "code",
      "source": [
        "from sklearn.metrics import roc_curve\n",
        "from sklearn.metrics import auc\n",
        "def roc_curve_graph(x_test,y_test,model):\n",
        "    preds = model. predict_proba(x_test) [:,1]"
      ],
      "metadata": {
        "id": "PBEpnTfUQmsY"
      },
      "execution_count": 75,
      "outputs": []
    },
    {
      "cell_type": "code",
      "source": [
        "def metrics_cal(x_test,y_test,prediction,model):    \n",
        "    print(\"Model Accuracy:\",metrics.accuracy_score(y_test, prediction))\n",
        "    probs = model.predict_proba(x_test)\n",
        "    roc_auc = metrics.roc_auc_score(y_test, probs[:,1]) \n",
        "    print(\"ROC:\",roc_auc)\n",
        "    print(\"Confusion Matrix:\",metrics.confusion_matrix(y_test, prediction)) \n",
        "    print(\"Classification Report:\", metrics.classification_report(y_test, prediction))  \n",
        "    print(\"precision:\",metrics.precision_score(y_test, prediction, pos_label=1))  \n",
        "    print(\"Recall:\",metrics.recall_score(y_test, prediction, pos_label=1))  \n",
        "    print(\"F1 Score:\",metrics.f1_score(y_test, prediction, pos_label=1))"
      ],
      "metadata": {
        "id": "tExmCsVqQqOG"
      },
      "execution_count": 76,
      "outputs": []
    },
    {
      "cell_type": "code",
      "source": [
        "from sklearn import metrics\n",
        "\n",
        "def train_test_acc(model,x_train,y_train,x_test,y_test):\n",
        "    print('Accuracy on training set: {:.2f}'\n",
        "     .format(model.score(x_train, y_train)))\n",
        "    print('Accuracy on test set: {:.2f}'\n",
        "     .format(model.score(x_test, y_test)))"
      ],
      "metadata": {
        "id": "PiaI_KaIQqYn"
      },
      "execution_count": 77,
      "outputs": []
    },
    {
      "cell_type": "markdown",
      "source": [
        "<h3>LogisticRegression"
      ],
      "metadata": {
        "id": "4cMNRgDOSDpX"
      }
    },
    {
      "cell_type": "code",
      "source": [
        "from sklearn.linear_model import LogisticRegression\n",
        "logit=LogisticRegression()\n",
        "logit.fit(X_train,y_train)"
      ],
      "metadata": {
        "colab": {
          "base_uri": "https://localhost:8080/"
        },
        "id": "Z_i6_DOSQqcI",
        "outputId": "068d6192-e886-4dd7-fd9c-e28c4a3a9b45"
      },
      "execution_count": 78,
      "outputs": [
        {
          "output_type": "execute_result",
          "data": {
            "text/plain": [
              "LogisticRegression()"
            ]
          },
          "metadata": {},
          "execution_count": 78
        }
      ]
    },
    {
      "cell_type": "code",
      "source": [
        "prediction=logit.predict(X_test)\n",
        "\n",
        "train_test_acc(logit,X_train,y_train,X_test,y_test)\n",
        "\n",
        "metrics_cal(X_test,y_test,prediction,logit)\n",
        "\n",
        "roc_curve_graph(X_test,y_test,logit)"
      ],
      "metadata": {
        "colab": {
          "base_uri": "https://localhost:8080/"
        },
        "id": "sM4YuTsYQqfx",
        "outputId": "5eb432f2-1368-4e83-ebc9-0ec0804cc7e7"
      },
      "execution_count": 79,
      "outputs": [
        {
          "output_type": "stream",
          "name": "stdout",
          "text": [
            "Accuracy on training set: 1.00\n",
            "Accuracy on test set: 1.00\n",
            "Model Accuracy: 1.0\n",
            "ROC: 1.0\n",
            "Confusion Matrix: [[3822    0]\n",
            " [   0 3935]]\n",
            "Classification Report:               precision    recall  f1-score   support\n",
            "\n",
            "           0       1.00      1.00      1.00      3822\n",
            "           1       1.00      1.00      1.00      3935\n",
            "\n",
            "    accuracy                           1.00      7757\n",
            "   macro avg       1.00      1.00      1.00      7757\n",
            "weighted avg       1.00      1.00      1.00      7757\n",
            "\n",
            "precision: 1.0\n",
            "Recall: 1.0\n",
            "F1 Score: 1.0\n"
          ]
        }
      ]
    },
    {
      "cell_type": "markdown",
      "source": [
        "<h3>DecisionTreeClassifier"
      ],
      "metadata": {
        "id": "otaM49QjR_aO"
      }
    },
    {
      "cell_type": "code",
      "source": [
        "from sklearn.tree import DecisionTreeClassifier\n",
        "dt_clf = DecisionTreeClassifier().fit(X_train, y_train)\n",
        "\n",
        "prediction2 = dt_clf.predict(X_test)\n"
      ],
      "metadata": {
        "id": "TFRA_GIgQqjZ"
      },
      "execution_count": 80,
      "outputs": []
    },
    {
      "cell_type": "code",
      "source": [
        "train_test_acc(dt_clf,X_train,y_train,X_test,y_test)\n",
        "\n",
        "metrics_cal(X_test,y_test,prediction2,dt_clf)\n",
        "\n",
        "roc_curve_graph(X_test,y_test,dt_clf)"
      ],
      "metadata": {
        "colab": {
          "base_uri": "https://localhost:8080/"
        },
        "id": "mTNMjqPFQqm3",
        "outputId": "696d939f-c652-4af4-d3dc-8daf540daa5f"
      },
      "execution_count": 81,
      "outputs": [
        {
          "output_type": "stream",
          "name": "stdout",
          "text": [
            "Accuracy on training set: 1.00\n",
            "Accuracy on test set: 1.00\n",
            "Model Accuracy: 1.0\n",
            "ROC: 1.0\n",
            "Confusion Matrix: [[3822    0]\n",
            " [   0 3935]]\n",
            "Classification Report:               precision    recall  f1-score   support\n",
            "\n",
            "           0       1.00      1.00      1.00      3822\n",
            "           1       1.00      1.00      1.00      3935\n",
            "\n",
            "    accuracy                           1.00      7757\n",
            "   macro avg       1.00      1.00      1.00      7757\n",
            "weighted avg       1.00      1.00      1.00      7757\n",
            "\n",
            "precision: 1.0\n",
            "Recall: 1.0\n",
            "F1 Score: 1.0\n"
          ]
        }
      ]
    },
    {
      "cell_type": "markdown",
      "source": [
        "<h3>RandomForestClassifier"
      ],
      "metadata": {
        "id": "160DJoH0R68o"
      }
    },
    {
      "cell_type": "code",
      "source": [
        "from sklearn.ensemble import RandomForestClassifier\n",
        "randm = RandomForestClassifier(n_estimators = 50, criterion = 'entropy', random_state = 0)\n",
        "randm.fit(X_train, y_train)\n",
        "prediction3 = randm.predict(X_test)"
      ],
      "metadata": {
        "id": "q_ibUPIvQqqb"
      },
      "execution_count": 82,
      "outputs": []
    },
    {
      "cell_type": "code",
      "source": [
        "train_test_acc(randm,X_train,y_train,X_test,y_test)\n",
        "\n",
        "metrics_cal(X_test,y_test,prediction3,randm)\n",
        "\n",
        "roc_curve_graph(X_test,y_test,randm)"
      ],
      "metadata": {
        "colab": {
          "base_uri": "https://localhost:8080/"
        },
        "id": "-pm__HqIRxYg",
        "outputId": "42bf0708-2fcb-43ca-f8a6-445fd4c411ae"
      },
      "execution_count": 83,
      "outputs": [
        {
          "output_type": "stream",
          "name": "stdout",
          "text": [
            "Accuracy on training set: 1.00\n",
            "Accuracy on test set: 1.00\n",
            "Model Accuracy: 1.0\n",
            "ROC: 1.0\n",
            "Confusion Matrix: [[3822    0]\n",
            " [   0 3935]]\n",
            "Classification Report:               precision    recall  f1-score   support\n",
            "\n",
            "           0       1.00      1.00      1.00      3822\n",
            "           1       1.00      1.00      1.00      3935\n",
            "\n",
            "    accuracy                           1.00      7757\n",
            "   macro avg       1.00      1.00      1.00      7757\n",
            "weighted avg       1.00      1.00      1.00      7757\n",
            "\n",
            "precision: 1.0\n",
            "Recall: 1.0\n",
            "F1 Score: 1.0\n"
          ]
        }
      ]
    },
    {
      "cell_type": "markdown",
      "source": [
        "<h2>Build a model (ANN) in tensorflow/keras"
      ],
      "metadata": {
        "id": "2fdFnuCo7mu3"
      }
    },
    {
      "cell_type": "code",
      "source": [
        "from sklearn.preprocessing import StandardScaler\n",
        "scaler = StandardScaler()\n",
        "\n",
        "X_train_trf = scaler.fit_transform(X_train)\n",
        "X_test_trf = scaler.transform(X_test)"
      ],
      "metadata": {
        "id": "RCOBIIPIO0zs"
      },
      "execution_count": 84,
      "outputs": []
    },
    {
      "cell_type": "code",
      "source": [
        "import tensorflow as tf\n",
        "from tensorflow import keras"
      ],
      "metadata": {
        "id": "G45lvWTPQbtx"
      },
      "execution_count": 85,
      "outputs": []
    },
    {
      "cell_type": "code",
      "source": [
        "model = keras.Sequential([\n",
        "    keras.layers.Dense(9, input_shape=(9,), activation='relu'),\n",
        "    keras.layers.Dense(6, activation='relu'),\n",
        "    keras.layers.Dense(1, activation='sigmoid')\n",
        "])"
      ],
      "metadata": {
        "id": "7eIwUGiDQbxE"
      },
      "execution_count": 86,
      "outputs": []
    },
    {
      "cell_type": "code",
      "source": [
        "model.compile(optimizer='adam',\n",
        "              loss='binary_crossentropy',\n",
        "              metrics=['accuracy'])"
      ],
      "metadata": {
        "id": "zw7SY1krQb09"
      },
      "execution_count": 87,
      "outputs": []
    },
    {
      "cell_type": "code",
      "source": [
        "model.fit(X_train, y_train, epochs=10)"
      ],
      "metadata": {
        "colab": {
          "base_uri": "https://localhost:8080/"
        },
        "id": "6MIJhfNMQb5S",
        "outputId": "1b30ff1f-fa14-4921-99d9-bb4d13e0d0a0"
      },
      "execution_count": 88,
      "outputs": [
        {
          "output_type": "stream",
          "name": "stdout",
          "text": [
            "Epoch 1/10\n",
            "970/970 [==============================] - 4s 3ms/step - loss: 1.1034 - accuracy: 0.9654\n",
            "Epoch 2/10\n",
            "970/970 [==============================] - 3s 3ms/step - loss: 0.0011 - accuracy: 1.0000\n",
            "Epoch 3/10\n",
            "970/970 [==============================] - 2s 2ms/step - loss: 4.6162e-04 - accuracy: 1.0000\n",
            "Epoch 4/10\n",
            "970/970 [==============================] - 1s 1ms/step - loss: 2.3459e-04 - accuracy: 1.0000\n",
            "Epoch 5/10\n",
            "970/970 [==============================] - 1s 1ms/step - loss: 1.2711e-04 - accuracy: 1.0000\n",
            "Epoch 6/10\n",
            "970/970 [==============================] - 1s 1ms/step - loss: 6.4902e-05 - accuracy: 1.0000\n",
            "Epoch 7/10\n",
            "970/970 [==============================] - 1s 1ms/step - loss: 3.3666e-05 - accuracy: 1.0000\n",
            "Epoch 8/10\n",
            "970/970 [==============================] - 1s 1ms/step - loss: 1.6320e-05 - accuracy: 1.0000\n",
            "Epoch 9/10\n",
            "970/970 [==============================] - 1s 1ms/step - loss: 2.5731e-06 - accuracy: 1.0000\n",
            "Epoch 10/10\n",
            "970/970 [==============================] - 1s 1ms/step - loss: 7.0797e-07 - accuracy: 1.0000\n"
          ]
        },
        {
          "output_type": "execute_result",
          "data": {
            "text/plain": [
              "<keras.callbacks.History at 0x7f6b2efe54d0>"
            ]
          },
          "metadata": {},
          "execution_count": 88
        }
      ]
    },
    {
      "cell_type": "code",
      "source": [
        "y_pred = model.predict(X_test)"
      ],
      "metadata": {
        "id": "SD7SJHNlQb9D"
      },
      "execution_count": 89,
      "outputs": []
    },
    {
      "cell_type": "code",
      "source": [
        "y_pred"
      ],
      "metadata": {
        "colab": {
          "base_uri": "https://localhost:8080/"
        },
        "id": "oO6owqN4SFL-",
        "outputId": "8a92357a-b80b-4bdb-fd91-abeffd25fc42"
      },
      "execution_count": 90,
      "outputs": [
        {
          "output_type": "execute_result",
          "data": {
            "text/plain": [
              "array([[3.4756674e-19],\n",
              "       [1.0000000e+00],\n",
              "       [0.0000000e+00],\n",
              "       ...,\n",
              "       [1.0000000e+00],\n",
              "       [0.0000000e+00],\n",
              "       [1.0000000e+00]], dtype=float32)"
            ]
          },
          "metadata": {},
          "execution_count": 90
        }
      ]
    },
    {
      "cell_type": "code",
      "source": [
        "y_pred = y_pred.argmax(axis=-1)"
      ],
      "metadata": {
        "id": "r-KEY8rqSFOs"
      },
      "execution_count": 91,
      "outputs": []
    },
    {
      "cell_type": "code",
      "source": [
        "model.evaluate(X_test, y_test)"
      ],
      "metadata": {
        "colab": {
          "base_uri": "https://localhost:8080/"
        },
        "id": "HWllUZwuSlEL",
        "outputId": "8056d7b3-213c-4842-d190-60920cb5ef4c"
      },
      "execution_count": 92,
      "outputs": [
        {
          "output_type": "stream",
          "name": "stdout",
          "text": [
            "243/243 [==============================] - 0s 1ms/step - loss: 0.0050 - accuracy: 0.9999\n"
          ]
        },
        {
          "output_type": "execute_result",
          "data": {
            "text/plain": [
              "[0.0050491029396653175, 0.9998710751533508]"
            ]
          },
          "metadata": {},
          "execution_count": 92
        }
      ]
    },
    {
      "cell_type": "code",
      "source": [
        "yp = model.predict(X_test)\n",
        "yp[:5]"
      ],
      "metadata": {
        "colab": {
          "base_uri": "https://localhost:8080/"
        },
        "id": "Huftav15S-qs",
        "outputId": "93a26e85-51d1-4a0f-df98-b520e289268f"
      },
      "execution_count": 93,
      "outputs": [
        {
          "output_type": "execute_result",
          "data": {
            "text/plain": [
              "array([[3.4756674e-19],\n",
              "       [1.0000000e+00],\n",
              "       [0.0000000e+00],\n",
              "       [0.0000000e+00],\n",
              "       [1.0000000e+00]], dtype=float32)"
            ]
          },
          "metadata": {},
          "execution_count": 93
        }
      ]
    },
    {
      "cell_type": "code",
      "source": [
        "y_pred = []\n",
        "for element in yp:\n",
        "    if element > 0.5:\n",
        "        y_pred.append(1)\n",
        "    else:\n",
        "        y_pred.append(0)"
      ],
      "metadata": {
        "id": "Ky4PdDEXS-wU"
      },
      "execution_count": 94,
      "outputs": []
    },
    {
      "cell_type": "code",
      "source": [
        "y_pred[:10]"
      ],
      "metadata": {
        "colab": {
          "base_uri": "https://localhost:8080/"
        },
        "id": "pfjl6HuwS-1F",
        "outputId": "cf473357-e8bb-4cf7-cfdc-3bb87c365c94"
      },
      "execution_count": 95,
      "outputs": [
        {
          "output_type": "execute_result",
          "data": {
            "text/plain": [
              "[0, 1, 0, 0, 1, 0, 0, 1, 1, 1]"
            ]
          },
          "metadata": {},
          "execution_count": 95
        }
      ]
    },
    {
      "cell_type": "code",
      "source": [
        "y_test[:10]"
      ],
      "metadata": {
        "colab": {
          "base_uri": "https://localhost:8080/"
        },
        "id": "7kdgSouNTGoB",
        "outputId": "7917cf6a-2f4c-4593-b75d-41ecc03d13c0"
      },
      "execution_count": 96,
      "outputs": [
        {
          "output_type": "execute_result",
          "data": {
            "text/plain": [
              "75210    0\n",
              "16154    1\n",
              "53324    0\n",
              "53503    0\n",
              "27438    1\n",
              "57035    0\n",
              "76756    0\n",
              "57410    1\n",
              "19399    1\n",
              "51198    1\n",
              "Name: BookingsCheckedIn, dtype: int64"
            ]
          },
          "metadata": {},
          "execution_count": 96
        }
      ]
    },
    {
      "cell_type": "code",
      "source": [
        "from sklearn.metrics import confusion_matrix,accuracy_score,classification_report\n",
        "cm=confusion_matrix(y_test,y_pred)\n",
        "print(cm)\n",
        "print(accuracy_score(y_test,y_pred)*100)\n",
        "print(classification_report(y_test,y_pred))"
      ],
      "metadata": {
        "colab": {
          "base_uri": "https://localhost:8080/"
        },
        "id": "pZDYud18Ti3T",
        "outputId": "161df381-e76e-4474-c9ae-4996865cca84"
      },
      "execution_count": 97,
      "outputs": [
        {
          "output_type": "stream",
          "name": "stdout",
          "text": [
            "[[3822    0]\n",
            " [   1 3934]]\n",
            "99.98710841820291\n",
            "              precision    recall  f1-score   support\n",
            "\n",
            "           0       1.00      1.00      1.00      3822\n",
            "           1       1.00      1.00      1.00      3935\n",
            "\n",
            "    accuracy                           1.00      7757\n",
            "   macro avg       1.00      1.00      1.00      7757\n",
            "weighted avg       1.00      1.00      1.00      7757\n",
            "\n"
          ]
        }
      ]
    },
    {
      "cell_type": "code",
      "source": [
        "import seaborn as sn\n",
        "cm = tf.math.confusion_matrix(labels=y_test,predictions=y_pred)\n",
        "\n",
        "plt.figure(figsize = (10,7))\n",
        "sn.heatmap(cm, annot=True, fmt='d')\n",
        "plt.xlabel('Predicted')\n",
        "plt.ylabel('Truth')"
      ],
      "metadata": {
        "colab": {
          "base_uri": "https://localhost:8080/",
          "height": 459
        },
        "id": "iN6jcL8tTGud",
        "outputId": "57d5e91b-0a3d-4dc0-bd1d-be757a8d7e5f"
      },
      "execution_count": 98,
      "outputs": [
        {
          "output_type": "execute_result",
          "data": {
            "text/plain": [
              "Text(69.0, 0.5, 'Truth')"
            ]
          },
          "metadata": {},
          "execution_count": 98
        },
        {
          "output_type": "display_data",
          "data": {
            "text/plain": [
              "<Figure size 720x504 with 2 Axes>"
            ],
            "image/png": "[encoded data removed]"
          },
          "metadata": {
            "needs_background": "light"
          }
        }
      ]
    },
    {
      "cell_type": "code",
      "source": [
        ""
      ],
      "metadata": {
        "id": "2-ULyB2BTbFz"
      },
      "execution_count": 98,
      "outputs": []
    },
    {
      "cell_type": "code",
      "source": [
        ""
      ],
      "metadata": {
        "id": "ZUhQt7JnTbIr"
      },
      "execution_count": 98,
      "outputs": []
    },
    {
      "cell_type": "markdown",
      "source": [
        "<h3>Save model"
      ],
      "metadata": {
        "id": "RckHzcNVSWXa"
      }
    },
    {
      "cell_type": "code",
      "source": [
        "import pickle\n",
        "#open a file, where you want to store the data\n",
        "file = open('/content/drive/MyDrive/col/hotel_booking/model.pkl', 'wb')\n",
        "\n",
        "# dump information to that file\n",
        "pickle.dump(dt_clf, file)\n",
        "file.close()"
      ],
      "metadata": {
        "id": "J1NTIWPuTbML"
      },
      "execution_count": 99,
      "outputs": []
    },
    {
      "cell_type": "markdown",
      "source": [
        "<h4>Read Model"
      ],
      "metadata": {
        "id": "Supyw1aKTTZi"
      }
    },
    {
      "cell_type": "code",
      "source": [
        "with open(\"/content/drive/MyDrive/col/hotel_booking/model.pkl\",\"rb\") as file1:\n",
        "   model=pickle.load(file1)"
      ],
      "metadata": {
        "id": "OOGvJToVQHoV"
      },
      "execution_count": 100,
      "outputs": []
    },
    {
      "cell_type": "markdown",
      "source": [
        "test csv file"
      ],
      "metadata": {
        "id": "JAydAQ26TZHT"
      }
    },
    {
      "cell_type": "code",
      "source": [
        "test_df.head()"
      ],
      "metadata": {
        "colab": {
          "base_uri": "https://localhost:8080/",
          "height": 300
        },
        "id": "AOthhgVhQHx0",
        "outputId": "9ceeb77e-47ec-4495-8cf7-380b5474b56a"
      },
      "execution_count": 101,
      "outputs": [
        {
          "output_type": "execute_result",
          "data": {
            "text/plain": [
              "       Age  DaysSinceCreation  AverageLeadTime  LodgingRevenue  OtherRevenue  \\\n",
              "82580   47                 11                0            0.00           0.0   \n",
              "82581   16                 11              130          483.48         155.1   \n",
              "82582   15                 11                0            0.00           0.0   \n",
              "82583   12                 11                0            0.00           0.0   \n",
              "82584   45                 11                0            0.00           0.0   \n",
              "\n",
              "       BookingsCanceled  BookingsNoShowed  PersonsNights  RoomNights  \\\n",
              "82580                 0                 0              0           0   \n",
              "82581                 0                 0             15           5   \n",
              "82582                 0                 0              0           0   \n",
              "82583                 0                 0              0           0   \n",
              "82584                 0                 0              0           0   \n",
              "\n",
              "       DaysSinceLastStay  ...  SRMediumFloor  SRBathtub  SRShower  SRCrib  \\\n",
              "82580                 -1  ...              0          0         0       0   \n",
              "82581                 16  ...              0          0         0       0   \n",
              "82582                 -1  ...              0          0         0       0   \n",
              "82583                 -1  ...              0          0         0       0   \n",
              "82584                 -1  ...              0          0         0       0   \n",
              "\n",
              "       SRKingSizeBed  SRTwinBed  SRNearElevator  SRAwayFromElevator  \\\n",
              "82580              0          0               0                   0   \n",
              "82581              0          0               0                   0   \n",
              "82582              0          0               0                   0   \n",
              "82583              0          0               0                   0   \n",
              "82584              1          0               0                   0   \n",
              "\n",
              "       SRNoAlcoholInMiniBar  SRQuietRoom  \n",
              "82580                     0            0  \n",
              "82581                     0            0  \n",
              "82582                     0            0  \n",
              "82583                     0            0  \n",
              "82584                     0            0  \n",
              "\n",
              "[5 rows x 26 columns]"
            ],
            "text/html": [
              "\n",
              "  <div id=\"df-6c7cac1a-f7fc-4387-8abe-1b923d1c155c\">\n",
              "    <div class=\"colab-df-container\">\n",
              "      <div>\n",
              "<style scoped>\n",
              "    .dataframe tbody tr th:only-of-type {\n",
              "        vertical-align: middle;\n",
              "    }\n",
              "\n",
              "    .dataframe tbody tr th {\n",
              "        vertical-align: top;\n",
              "    }\n",
              "\n",
              "    .dataframe thead th {\n",
              "        text-align: right;\n",
              "    }\n",
              "</style>\n",
              "<table border=\"1\" class=\"dataframe\">\n",
              "  <thead>\n",
              "    <tr style=\"text-align: right;\">\n",
              "      <th></th>\n",
              "      <th>Age</th>\n",
              "      <th>DaysSinceCreation</th>\n",
              "      <th>AverageLeadTime</th>\n",
              "      <th>LodgingRevenue</th>\n",
              "      <th>OtherRevenue</th>\n",
              "      <th>BookingsCanceled</th>\n",
              "      <th>BookingsNoShowed</th>\n",
              "      <th>PersonsNights</th>\n",
              "      <th>RoomNights</th>\n",
              "      <th>DaysSinceLastStay</th>\n",
              "      <th>...</th>\n",
              "      <th>SRMediumFloor</th>\n",
              "      <th>SRBathtub</th>\n",
              "      <th>SRShower</th>\n",
              "      <th>SRCrib</th>\n",
              "      <th>SRKingSizeBed</th>\n",
              "      <th>SRTwinBed</th>\n",
              "      <th>SRNearElevator</th>\n",
              "      <th>SRAwayFromElevator</th>\n",
              "      <th>SRNoAlcoholInMiniBar</th>\n",
              "      <th>SRQuietRoom</th>\n",
              "    </tr>\n",
              "  </thead>\n",
              "  <tbody>\n",
              "    <tr>\n",
              "      <th>82580</th>\n",
              "      <td>47</td>\n",
              "      <td>11</td>\n",
              "      <td>0</td>\n",
              "      <td>0.00</td>\n",
              "      <td>0.0</td>\n",
              "      <td>0</td>\n",
              "      <td>0</td>\n",
              "      <td>0</td>\n",
              "      <td>0</td>\n",
              "      <td>-1</td>\n",
              "      <td>...</td>\n",
              "      <td>0</td>\n",
              "      <td>0</td>\n",
              "      <td>0</td>\n",
              "      <td>0</td>\n",
              "      <td>0</td>\n",
              "      <td>0</td>\n",
              "      <td>0</td>\n",
              "      <td>0</td>\n",
              "      <td>0</td>\n",
              "      <td>0</td>\n",
              "    </tr>\n",
              "    <tr>\n",
              "      <th>82581</th>\n",
              "      <td>16</td>\n",
              "      <td>11</td>\n",
              "      <td>130</td>\n",
              "      <td>483.48</td>\n",
              "      <td>155.1</td>\n",
              "      <td>0</td>\n",
              "      <td>0</td>\n",
              "      <td>15</td>\n",
              "      <td>5</td>\n",
              "      <td>16</td>\n",
              "      <td>...</td>\n",
              "      <td>0</td>\n",
              "      <td>0</td>\n",
              "      <td>0</td>\n",
              "      <td>0</td>\n",
              "      <td>0</td>\n",
              "      <td>0</td>\n",
              "      <td>0</td>\n",
              "      <td>0</td>\n",
              "      <td>0</td>\n",
              "      <td>0</td>\n",
              "    </tr>\n",
              "    <tr>\n",
              "      <th>82582</th>\n",
              "      <td>15</td>\n",
              "      <td>11</td>\n",
              "      <td>0</td>\n",
              "      <td>0.00</td>\n",
              "      <td>0.0</td>\n",
              "      <td>0</td>\n",
              "      <td>0</td>\n",
              "      <td>0</td>\n",
              "      <td>0</td>\n",
              "      <td>-1</td>\n",
              "      <td>...</td>\n",
              "      <td>0</td>\n",
              "      <td>0</td>\n",
              "      <td>0</td>\n",
              "      <td>0</td>\n",
              "      <td>0</td>\n",
              "      <td>0</td>\n",
              "      <td>0</td>\n",
              "      <td>0</td>\n",
              "      <td>0</td>\n",
              "      <td>0</td>\n",
              "    </tr>\n",
              "    <tr>\n",
              "      <th>82583</th>\n",
              "      <td>12</td>\n",
              "      <td>11</td>\n",
              "      <td>0</td>\n",
              "      <td>0.00</td>\n",
              "      <td>0.0</td>\n",
              "      <td>0</td>\n",
              "      <td>0</td>\n",
              "      <td>0</td>\n",
              "      <td>0</td>\n",
              "      <td>-1</td>\n",
              "      <td>...</td>\n",
              "      <td>0</td>\n",
              "      <td>0</td>\n",
              "      <td>0</td>\n",
              "      <td>0</td>\n",
              "      <td>0</td>\n",
              "      <td>0</td>\n",
              "      <td>0</td>\n",
              "      <td>0</td>\n",
              "      <td>0</td>\n",
              "      <td>0</td>\n",
              "    </tr>\n",
              "    <tr>\n",
              "      <th>82584</th>\n",
              "      <td>45</td>\n",
              "      <td>11</td>\n",
              "      <td>0</td>\n",
              "      <td>0.00</td>\n",
              "      <td>0.0</td>\n",
              "      <td>0</td>\n",
              "      <td>0</td>\n",
              "      <td>0</td>\n",
              "      <td>0</td>\n",
              "      <td>-1</td>\n",
              "      <td>...</td>\n",
              "      <td>0</td>\n",
              "      <td>0</td>\n",
              "      <td>0</td>\n",
              "      <td>0</td>\n",
              "      <td>1</td>\n",
              "      <td>0</td>\n",
              "      <td>0</td>\n",
              "      <td>0</td>\n",
              "      <td>0</td>\n",
              "      <td>0</td>\n",
              "    </tr>\n",
              "  </tbody>\n",
              "</table>\n",
              "<p>5 rows × 26 columns</p>\n",
              "</div>\n",
              "      <button class=\"colab-df-convert\" onclick=\"convertToInteractive('df-6c7cac1a-f7fc-4387-8abe-1b923d1c155c')\"\n",
              "              title=\"Convert this dataframe to an interactive table.\"\n",
              "              style=\"display:none;\">\n",
              "        \n",
              "  <svg xmlns=\"http://www.w3.org/2000/svg\" height=\"24px\"viewBox=\"0 0 24 24\"\n",
              "       width=\"24px\">\n",
              "    <path d=\"M0 0h24v24H0V0z\" fill=\"none\"/>\n",
              "    <path d=\"M18.56 5.44l.94 2.06.94-2.06 2.06-.94-2.06-.94-.94-2.06-.94 2.06-2.06.94zm-11 1L8.5 8.5l.94-2.06 2.06-.94-2.06-.94L8.5 2.5l-.94 2.06-2.06.94zm10 10l.94 2.06.94-2.06 2.06-.94-2.06-.94-.94-2.06-.94 2.06-2.06.94z\"/><path d=\"M17.41 7.96l-1.37-1.37c-.4-.4-.92-.59-1.43-.59-.52 0-1.04.2-1.43.59L10.3 9.45l-7.72 7.72c-.78.78-.78 2.05 0 2.83L4 21.41c.39.39.9.59 1.41.59.51 0 1.02-.2 1.41-.59l7.78-7.78 2.81-2.81c.8-.78.8-2.07 0-2.86zM5.41 20L4 18.59l7.72-7.72 1.47 1.35L5.41 20z\"/>\n",
              "  </svg>\n",
              "      </button>\n",
              "      \n",
              "  <style>\n",
              "    .colab-df-container {\n",
              "      display:flex;\n",
              "      flex-wrap:wrap;\n",
              "      gap: 12px;\n",
              "    }\n",
              "\n",
              "    .colab-df-convert {\n",
              "      background-color: #E8F0FE;\n",
              "      border: none;\n",
              "      border-radius: 50%;\n",
              "      cursor: pointer;\n",
              "      display: none;\n",
              "      fill: #1967D2;\n",
              "      height: 32px;\n",
              "      padding: 0 0 0 0;\n",
              "      width: 32px;\n",
              "    }\n",
              "\n",
              "    .colab-df-convert:hover {\n",
              "      background-color: #E2EBFA;\n",
              "      box-shadow: 0px 1px 2px rgba(60, 64, 67, 0.3), 0px 1px 3px 1px rgba(60, 64, 67, 0.15);\n",
              "      fill: #174EA6;\n",
              "    }\n",
              "\n",
              "    [theme=dark] .colab-df-convert {\n",
              "      background-color: #3B4455;\n",
              "      fill: #D2E3FC;\n",
              "    }\n",
              "\n",
              "    [theme=dark] .colab-df-convert:hover {\n",
              "      background-color: #434B5C;\n",
              "      box-shadow: 0px 1px 3px 1px rgba(0, 0, 0, 0.15);\n",
              "      filter: drop-shadow(0px 1px 2px rgba(0, 0, 0, 0.3));\n",
              "      fill: #FFFFFF;\n",
              "    }\n",
              "  </style>\n",
              "\n",
              "      <script>\n",
              "        const buttonEl =\n",
              "          document.querySelector('#df-6c7cac1a-f7fc-4387-8abe-1b923d1c155c button.colab-df-convert');\n",
              "        buttonEl.style.display =\n",
              "          google.colab.kernel.accessAllowed ? 'block' : 'none';\n",
              "\n",
              "        async function convertToInteractive(key) {\n",
              "          const element = document.querySelector('#df-6c7cac1a-f7fc-4387-8abe-1b923d1c155c');\n",
              "          const dataTable =\n",
              "            await google.colab.kernel.invokeFunction('convertToInteractive',\n",
              "                                                     [key], {});\n",
              "          if (!dataTable) return;\n",
              "\n",
              "          const docLinkHtml = 'Like what you see? Visit the ' +\n",
              "            '<a target=\"_blank\" href=https://colab.research.google.com/notebooks/data_table.ipynb>data table notebook</a>'\n",
              "            + ' to learn more about interactive tables.';\n",
              "          element.innerHTML = '';\n",
              "          dataTable['output_type'] = 'display_data';\n",
              "          await google.colab.output.renderOutput(dataTable, element);\n",
              "          const docLink = document.createElement('div');\n",
              "          docLink.innerHTML = docLinkHtml;\n",
              "          element.appendChild(docLink);\n",
              "        }\n",
              "      </script>\n",
              "    </div>\n",
              "  </div>\n",
              "  "
            ]
          },
          "metadata": {},
          "execution_count": 101
        }
      ]
    },
    {
      "cell_type": "code",
      "source": [
        "testcsv = test_df[['Age','AverageLeadTime','DaysSinceCreation','PersonsNights','RoomNights','DaysSinceLastStay','DaysSinceFirstStay','DistributionChannel','MarketSegment']]"
      ],
      "metadata": {
        "id": "Nd8fMrcuPzJ5"
      },
      "execution_count": 102,
      "outputs": []
    },
    {
      "cell_type": "code",
      "source": [
        "testcsv.head()"
      ],
      "metadata": {
        "colab": {
          "base_uri": "https://localhost:8080/",
          "height": 206
        },
        "id": "Wu5kCXHyPzOi",
        "outputId": "2ce88006-d9d3-4eea-dbaa-b96c6617dc3d"
      },
      "execution_count": 103,
      "outputs": [
        {
          "output_type": "execute_result",
          "data": {
            "text/plain": [
              "       Age  AverageLeadTime  DaysSinceCreation  PersonsNights  RoomNights  \\\n",
              "82580   47                0                 11              0           0   \n",
              "82581   16              130                 11             15           5   \n",
              "82582   15                0                 11              0           0   \n",
              "82583   12                0                 11              0           0   \n",
              "82584   45                0                 11              0           0   \n",
              "\n",
              "       DaysSinceLastStay  DaysSinceFirstStay  DistributionChannel  \\\n",
              "82580                 -1                  -1                    0   \n",
              "82581                 16                  16                    0   \n",
              "82582                 -1                  -1                    0   \n",
              "82583                 -1                  -1                    0   \n",
              "82584                 -1                  -1                    0   \n",
              "\n",
              "       MarketSegment  \n",
              "82580              7  \n",
              "82581              7  \n",
              "82582              7  \n",
              "82583              7  \n",
              "82584              7  "
            ],
            "text/html": [
              "\n",
              "  <div id=\"df-f696530e-9138-4cb0-9c86-4c8f8554deb1\">\n",
              "    <div class=\"colab-df-container\">\n",
              "      <div>\n",
              "<style scoped>\n",
              "    .dataframe tbody tr th:only-of-type {\n",
              "        vertical-align: middle;\n",
              "    }\n",
              "\n",
              "    .dataframe tbody tr th {\n",
              "        vertical-align: top;\n",
              "    }\n",
              "\n",
              "    .dataframe thead th {\n",
              "        text-align: right;\n",
              "    }\n",
              "</style>\n",
              "<table border=\"1\" class=\"dataframe\">\n",
              "  <thead>\n",
              "    <tr style=\"text-align: right;\">\n",
              "      <th></th>\n",
              "      <th>Age</th>\n",
              "      <th>AverageLeadTime</th>\n",
              "      <th>DaysSinceCreation</th>\n",
              "      <th>PersonsNights</th>\n",
              "      <th>RoomNights</th>\n",
              "      <th>DaysSinceLastStay</th>\n",
              "      <th>DaysSinceFirstStay</th>\n",
              "      <th>DistributionChannel</th>\n",
              "      <th>MarketSegment</th>\n",
              "    </tr>\n",
              "  </thead>\n",
              "  <tbody>\n",
              "    <tr>\n",
              "      <th>82580</th>\n",
              "      <td>47</td>\n",
              "      <td>0</td>\n",
              "      <td>11</td>\n",
              "      <td>0</td>\n",
              "      <td>0</td>\n",
              "      <td>-1</td>\n",
              "      <td>-1</td>\n",
              "      <td>0</td>\n",
              "      <td>7</td>\n",
              "    </tr>\n",
              "    <tr>\n",
              "      <th>82581</th>\n",
              "      <td>16</td>\n",
              "      <td>130</td>\n",
              "      <td>11</td>\n",
              "      <td>15</td>\n",
              "      <td>5</td>\n",
              "      <td>16</td>\n",
              "      <td>16</td>\n",
              "      <td>0</td>\n",
              "      <td>7</td>\n",
              "    </tr>\n",
              "    <tr>\n",
              "      <th>82582</th>\n",
              "      <td>15</td>\n",
              "      <td>0</td>\n",
              "      <td>11</td>\n",
              "      <td>0</td>\n",
              "      <td>0</td>\n",
              "      <td>-1</td>\n",
              "      <td>-1</td>\n",
              "      <td>0</td>\n",
              "      <td>7</td>\n",
              "    </tr>\n",
              "    <tr>\n",
              "      <th>82583</th>\n",
              "      <td>12</td>\n",
              "      <td>0</td>\n",
              "      <td>11</td>\n",
              "      <td>0</td>\n",
              "      <td>0</td>\n",
              "      <td>-1</td>\n",
              "      <td>-1</td>\n",
              "      <td>0</td>\n",
              "      <td>7</td>\n",
              "    </tr>\n",
              "    <tr>\n",
              "      <th>82584</th>\n",
              "      <td>45</td>\n",
              "      <td>0</td>\n",
              "      <td>11</td>\n",
              "      <td>0</td>\n",
              "      <td>0</td>\n",
              "      <td>-1</td>\n",
              "      <td>-1</td>\n",
              "      <td>0</td>\n",
              "      <td>7</td>\n",
              "    </tr>\n",
              "  </tbody>\n",
              "</table>\n",
              "</div>\n",
              "      <button class=\"colab-df-convert\" onclick=\"convertToInteractive('df-f696530e-9138-4cb0-9c86-4c8f8554deb1')\"\n",
              "              title=\"Convert this dataframe to an interactive table.\"\n",
              "              style=\"display:none;\">\n",
              "        \n",
              "  <svg xmlns=\"http://www.w3.org/2000/svg\" height=\"24px\"viewBox=\"0 0 24 24\"\n",
              "       width=\"24px\">\n",
              "    <path d=\"M0 0h24v24H0V0z\" fill=\"none\"/>\n",
              "    <path d=\"M18.56 5.44l.94 2.06.94-2.06 2.06-.94-2.06-.94-.94-2.06-.94 2.06-2.06.94zm-11 1L8.5 8.5l.94-2.06 2.06-.94-2.06-.94L8.5 2.5l-.94 2.06-2.06.94zm10 10l.94 2.06.94-2.06 2.06-.94-2.06-.94-.94-2.06-.94 2.06-2.06.94z\"/><path d=\"M17.41 7.96l-1.37-1.37c-.4-.4-.92-.59-1.43-.59-.52 0-1.04.2-1.43.59L10.3 9.45l-7.72 7.72c-.78.78-.78 2.05 0 2.83L4 21.41c.39.39.9.59 1.41.59.51 0 1.02-.2 1.41-.59l7.78-7.78 2.81-2.81c.8-.78.8-2.07 0-2.86zM5.41 20L4 18.59l7.72-7.72 1.47 1.35L5.41 20z\"/>\n",
              "  </svg>\n",
              "      </button>\n",
              "      \n",
              "  <style>\n",
              "    .colab-df-container {\n",
              "      display:flex;\n",
              "      flex-wrap:wrap;\n",
              "      gap: 12px;\n",
              "    }\n",
              "\n",
              "    .colab-df-convert {\n",
              "      background-color: #E8F0FE;\n",
              "      border: none;\n",
              "      border-radius: 50%;\n",
              "      cursor: pointer;\n",
              "      display: none;\n",
              "      fill: #1967D2;\n",
              "      height: 32px;\n",
              "      padding: 0 0 0 0;\n",
              "      width: 32px;\n",
              "    }\n",
              "\n",
              "    .colab-df-convert:hover {\n",
              "      background-color: #E2EBFA;\n",
              "      box-shadow: 0px 1px 2px rgba(60, 64, 67, 0.3), 0px 1px 3px 1px rgba(60, 64, 67, 0.15);\n",
              "      fill: #174EA6;\n",
              "    }\n",
              "\n",
              "    [theme=dark] .colab-df-convert {\n",
              "      background-color: #3B4455;\n",
              "      fill: #D2E3FC;\n",
              "    }\n",
              "\n",
              "    [theme=dark] .colab-df-convert:hover {\n",
              "      background-color: #434B5C;\n",
              "      box-shadow: 0px 1px 3px 1px rgba(0, 0, 0, 0.15);\n",
              "      filter: drop-shadow(0px 1px 2px rgba(0, 0, 0, 0.3));\n",
              "      fill: #FFFFFF;\n",
              "    }\n",
              "  </style>\n",
              "\n",
              "      <script>\n",
              "        const buttonEl =\n",
              "          document.querySelector('#df-f696530e-9138-4cb0-9c86-4c8f8554deb1 button.colab-df-convert');\n",
              "        buttonEl.style.display =\n",
              "          google.colab.kernel.accessAllowed ? 'block' : 'none';\n",
              "\n",
              "        async function convertToInteractive(key) {\n",
              "          const element = document.querySelector('#df-f696530e-9138-4cb0-9c86-4c8f8554deb1');\n",
              "          const dataTable =\n",
              "            await google.colab.kernel.invokeFunction('convertToInteractive',\n",
              "                                                     [key], {});\n",
              "          if (!dataTable) return;\n",
              "\n",
              "          const docLinkHtml = 'Like what you see? Visit the ' +\n",
              "            '<a target=\"_blank\" href=https://colab.research.google.com/notebooks/data_table.ipynb>data table notebook</a>'\n",
              "            + ' to learn more about interactive tables.';\n",
              "          element.innerHTML = '';\n",
              "          dataTable['output_type'] = 'display_data';\n",
              "          await google.colab.output.renderOutput(dataTable, element);\n",
              "          const docLink = document.createElement('div');\n",
              "          docLink.innerHTML = docLinkHtml;\n",
              "          element.appendChild(docLink);\n",
              "        }\n",
              "      </script>\n",
              "    </div>\n",
              "  </div>\n",
              "  "
            ]
          },
          "metadata": {},
          "execution_count": 103
        }
      ]
    },
    {
      "cell_type": "markdown",
      "source": [
        "model prediction with test Csv file"
      ],
      "metadata": {
        "id": "A4UMCoo_ThR5"
      }
    },
    {
      "cell_type": "code",
      "source": [
        "testcsv['BookingsCheckedIn'] = (model.predict(testcsv)).tolist()"
      ],
      "metadata": {
        "id": "BcdD08YM2xAH"
      },
      "execution_count": 104,
      "outputs": []
    },
    {
      "cell_type": "code",
      "source": [
        "testcsv.head()"
      ],
      "metadata": {
        "colab": {
          "base_uri": "https://localhost:8080/",
          "height": 270
        },
        "id": "AptUTLJW2xCz",
        "outputId": "4a6d132e-ecec-47d8-a98c-0fb56a46d387"
      },
      "execution_count": 105,
      "outputs": [
        {
          "output_type": "execute_result",
          "data": {
            "text/plain": [
              "       Age  AverageLeadTime  DaysSinceCreation  PersonsNights  RoomNights  \\\n",
              "82580   47                0                 11              0           0   \n",
              "82581   16              130                 11             15           5   \n",
              "82582   15                0                 11              0           0   \n",
              "82583   12                0                 11              0           0   \n",
              "82584   45                0                 11              0           0   \n",
              "\n",
              "       DaysSinceLastStay  DaysSinceFirstStay  DistributionChannel  \\\n",
              "82580                 -1                  -1                    0   \n",
              "82581                 16                  16                    0   \n",
              "82582                 -1                  -1                    0   \n",
              "82583                 -1                  -1                    0   \n",
              "82584                 -1                  -1                    0   \n",
              "\n",
              "       MarketSegment  BookingsCheckedIn  \n",
              "82580              7                  0  \n",
              "82581              7                  1  \n",
              "82582              7                  0  \n",
              "82583              7                  0  \n",
              "82584              7                  0  "
            ],
            "text/html": [
              "\n",
              "  <div id=\"df-dff03f61-ecf4-464f-bb98-1d68e1292a32\">\n",
              "    <div class=\"colab-df-container\">\n",
              "      <div>\n",
              "<style scoped>\n",
              "    .dataframe tbody tr th:only-of-type {\n",
              "        vertical-align: middle;\n",
              "    }\n",
              "\n",
              "    .dataframe tbody tr th {\n",
              "        vertical-align: top;\n",
              "    }\n",
              "\n",
              "    .dataframe thead th {\n",
              "        text-align: right;\n",
              "    }\n",
              "</style>\n",
              "<table border=\"1\" class=\"dataframe\">\n",
              "  <thead>\n",
              "    <tr style=\"text-align: right;\">\n",
              "      <th></th>\n",
              "      <th>Age</th>\n",
              "      <th>AverageLeadTime</th>\n",
              "      <th>DaysSinceCreation</th>\n",
              "      <th>PersonsNights</th>\n",
              "      <th>RoomNights</th>\n",
              "      <th>DaysSinceLastStay</th>\n",
              "      <th>DaysSinceFirstStay</th>\n",
              "      <th>DistributionChannel</th>\n",
              "      <th>MarketSegment</th>\n",
              "      <th>BookingsCheckedIn</th>\n",
              "    </tr>\n",
              "  </thead>\n",
              "  <tbody>\n",
              "    <tr>\n",
              "      <th>82580</th>\n",
              "      <td>47</td>\n",
              "      <td>0</td>\n",
              "      <td>11</td>\n",
              "      <td>0</td>\n",
              "      <td>0</td>\n",
              "      <td>-1</td>\n",
              "      <td>-1</td>\n",
              "      <td>0</td>\n",
              "      <td>7</td>\n",
              "      <td>0</td>\n",
              "    </tr>\n",
              "    <tr>\n",
              "      <th>82581</th>\n",
              "      <td>16</td>\n",
              "      <td>130</td>\n",
              "      <td>11</td>\n",
              "      <td>15</td>\n",
              "      <td>5</td>\n",
              "      <td>16</td>\n",
              "      <td>16</td>\n",
              "      <td>0</td>\n",
              "      <td>7</td>\n",
              "      <td>1</td>\n",
              "    </tr>\n",
              "    <tr>\n",
              "      <th>82582</th>\n",
              "      <td>15</td>\n",
              "      <td>0</td>\n",
              "      <td>11</td>\n",
              "      <td>0</td>\n",
              "      <td>0</td>\n",
              "      <td>-1</td>\n",
              "      <td>-1</td>\n",
              "      <td>0</td>\n",
              "      <td>7</td>\n",
              "      <td>0</td>\n",
              "    </tr>\n",
              "    <tr>\n",
              "      <th>82583</th>\n",
              "      <td>12</td>\n",
              "      <td>0</td>\n",
              "      <td>11</td>\n",
              "      <td>0</td>\n",
              "      <td>0</td>\n",
              "      <td>-1</td>\n",
              "      <td>-1</td>\n",
              "      <td>0</td>\n",
              "      <td>7</td>\n",
              "      <td>0</td>\n",
              "    </tr>\n",
              "    <tr>\n",
              "      <th>82584</th>\n",
              "      <td>45</td>\n",
              "      <td>0</td>\n",
              "      <td>11</td>\n",
              "      <td>0</td>\n",
              "      <td>0</td>\n",
              "      <td>-1</td>\n",
              "      <td>-1</td>\n",
              "      <td>0</td>\n",
              "      <td>7</td>\n",
              "      <td>0</td>\n",
              "    </tr>\n",
              "  </tbody>\n",
              "</table>\n",
              "</div>\n",
              "      <button class=\"colab-df-convert\" onclick=\"convertToInteractive('df-dff03f61-ecf4-464f-bb98-1d68e1292a32')\"\n",
              "              title=\"Convert this dataframe to an interactive table.\"\n",
              "              style=\"display:none;\">\n",
              "        \n",
              "  <svg xmlns=\"http://www.w3.org/2000/svg\" height=\"24px\"viewBox=\"0 0 24 24\"\n",
              "       width=\"24px\">\n",
              "    <path d=\"M0 0h24v24H0V0z\" fill=\"none\"/>\n",
              "    <path d=\"M18.56 5.44l.94 2.06.94-2.06 2.06-.94-2.06-.94-.94-2.06-.94 2.06-2.06.94zm-11 1L8.5 8.5l.94-2.06 2.06-.94-2.06-.94L8.5 2.5l-.94 2.06-2.06.94zm10 10l.94 2.06.94-2.06 2.06-.94-2.06-.94-.94-2.06-.94 2.06-2.06.94z\"/><path d=\"M17.41 7.96l-1.37-1.37c-.4-.4-.92-.59-1.43-.59-.52 0-1.04.2-1.43.59L10.3 9.45l-7.72 7.72c-.78.78-.78 2.05 0 2.83L4 21.41c.39.39.9.59 1.41.59.51 0 1.02-.2 1.41-.59l7.78-7.78 2.81-2.81c.8-.78.8-2.07 0-2.86zM5.41 20L4 18.59l7.72-7.72 1.47 1.35L5.41 20z\"/>\n",
              "  </svg>\n",
              "      </button>\n",
              "      \n",
              "  <style>\n",
              "    .colab-df-container {\n",
              "      display:flex;\n",
              "      flex-wrap:wrap;\n",
              "      gap: 12px;\n",
              "    }\n",
              "\n",
              "    .colab-df-convert {\n",
              "      background-color: #E8F0FE;\n",
              "      border: none;\n",
              "      border-radius: 50%;\n",
              "      cursor: pointer;\n",
              "      display: none;\n",
              "      fill: #1967D2;\n",
              "      height: 32px;\n",
              "      padding: 0 0 0 0;\n",
              "      width: 32px;\n",
              "    }\n",
              "\n",
              "    .colab-df-convert:hover {\n",
              "      background-color: #E2EBFA;\n",
              "      box-shadow: 0px 1px 2px rgba(60, 64, 67, 0.3), 0px 1px 3px 1px rgba(60, 64, 67, 0.15);\n",
              "      fill: #174EA6;\n",
              "    }\n",
              "\n",
              "    [theme=dark] .colab-df-convert {\n",
              "      background-color: #3B4455;\n",
              "      fill: #D2E3FC;\n",
              "    }\n",
              "\n",
              "    [theme=dark] .colab-df-convert:hover {\n",
              "      background-color: #434B5C;\n",
              "      box-shadow: 0px 1px 3px 1px rgba(0, 0, 0, 0.15);\n",
              "      filter: drop-shadow(0px 1px 2px rgba(0, 0, 0, 0.3));\n",
              "      fill: #FFFFFF;\n",
              "    }\n",
              "  </style>\n",
              "\n",
              "      <script>\n",
              "        const buttonEl =\n",
              "          document.querySelector('#df-dff03f61-ecf4-464f-bb98-1d68e1292a32 button.colab-df-convert');\n",
              "        buttonEl.style.display =\n",
              "          google.colab.kernel.accessAllowed ? 'block' : 'none';\n",
              "\n",
              "        async function convertToInteractive(key) {\n",
              "          const element = document.querySelector('#df-dff03f61-ecf4-464f-bb98-1d68e1292a32');\n",
              "          const dataTable =\n",
              "            await google.colab.kernel.invokeFunction('convertToInteractive',\n",
              "                                                     [key], {});\n",
              "          if (!dataTable) return;\n",
              "\n",
              "          const docLinkHtml = 'Like what you see? Visit the ' +\n",
              "            '<a target=\"_blank\" href=https://colab.research.google.com/notebooks/data_table.ipynb>data table notebook</a>'\n",
              "            + ' to learn more about interactive tables.';\n",
              "          element.innerHTML = '';\n",
              "          dataTable['output_type'] = 'display_data';\n",
              "          await google.colab.output.renderOutput(dataTable, element);\n",
              "          const docLink = document.createElement('div');\n",
              "          docLink.innerHTML = docLinkHtml;\n",
              "          element.appendChild(docLink);\n",
              "        }\n",
              "      </script>\n",
              "    </div>\n",
              "  </div>\n",
              "  "
            ]
          },
          "metadata": {},
          "execution_count": 105
        }
      ]
    },
    {
      "cell_type": "code",
      "source": [
        "#Save Output dataframe in csv file\n",
        "testcsv.to_csv(\"/content/drive/MyDrive/col/hotel_booking/Test_Output.csv\",index=False)"
      ],
      "metadata": {
        "id": "xMrM-7ix2xGY"
      },
      "execution_count": 106,
      "outputs": []
    },
    {
      "cell_type": "code",
      "source": [
        ""
      ],
      "metadata": {
        "id": "FnjRHTzc2xKL"
      },
      "execution_count": 106,
      "outputs": []
    },
    {
      "cell_type": "code",
      "source": [
        ""
      ],
      "metadata": {
        "id": "aX5t1tDKTbT2"
      },
      "execution_count": 106,
      "outputs": []
    }
  ]
}